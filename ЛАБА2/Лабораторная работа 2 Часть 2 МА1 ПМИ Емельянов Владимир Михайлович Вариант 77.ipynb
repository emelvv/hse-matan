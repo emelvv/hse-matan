{
 "cells": [
  {
   "cell_type": "markdown",
   "metadata": {
    "id": "BzhHcQVgwYsV"
   },
   "source": [
    "***Студент: (запишите свое фио)***\n",
    "\n",
    "***Группа: (запишите свою группу)***\n",
    "\n",
    "***Вариант: (укажите вариант)***"
   ]
  },
  {
   "cell_type": "markdown",
   "metadata": {
    "id": "T7rVMQ_JwKQC"
   },
   "source": [
    "# **Математический анализ I. Лабораторная работа №2. Часть 2**"
   ]
  },
  {
   "cell_type": "markdown",
   "metadata": {
    "id": "lao7Gk2Mm2ra"
   },
   "source": [
    "<font color=#FF5EDD>**Правила:**</font>\n",
    "1. ***Запрещено*** изменять функции `Solution_number`. В тех задачах, где есть функция `Solution_number` проверяться будет только код, написанный внутри этой функции `Solution_number`. Также ***запрещено*** изменять значения переменных, которые определены кодом в некоторых заданиях.\n",
    "2. Все ответы необходимо присвоить в нужные переменные, определенные в коде (см. [пример оформления](https://colab.research.google.com/drive/1IoowLnTyeuu-RepIdkA62q6Y9GdZ4Ai7?usp=sharing)). Ответы без решений не проверяются.\n",
    "3. Все необходимо считать и выполнять с помощью кода. (Где необходимо, не забывайте пояснять текстом).\n",
    "4. Запрещено менять название файла!\n",
    "5. В решении лабораторной работы ***не допускается*** использование методов, которые не были изучены в этой и предыдущей лабораторных работах.\n",
    "6. Нескомпилированный код/код с ошибками/бесконечно работающий код не проверяется. Выполнение кода в каждой ячейке не должно превышать 10 минут. Не допускается добавление каких либо импортов, нужно пользоваться только нашим блоком.\n",
    "   \n",
    "*P.S. Если у Вас будут вопросы, обращайтесь к ассистенту лектора [Алёне Числовой](https://t.me/Alyona_Chislova). Отвечаю в течении суток после вопроса. Don't worry.*\n",
    "\n",
    "**Перед отправкой обязательно перезапустите ядро и скомпилируйте весь ноутбук заново!**\n",
    "\n",
    "Убедитесь, что Вы использовали только наш блок со всеми импортами библиотек. Если Вы писали код в Jupyter/VS Code/PyCharm и т.д.(в приложениях со своими встроенными импортами), обязательно запустите свой ноутбук на пустом ядре (в котором нет своих встроенных импортов, скачанных ранее библиотек), чтобы убедиться, что все работает!) Ваша работа будет проверяться на пустом ядре.\n",
    "\n",
    "<div style=\"border: 2px solid red; padding: 10px; border-radius: 5px;\">\n",
    "\n",
    "Если Ваш ноутбук за один раз *не скомпилировался полностью*, или в нем есть ячейки с *бесконечно работающим кодом*, или блок импортов/условия заданий/переменные, определенные в коде, *изменены/удалены*, то Ваша работа будет проверяться с ***понижающим коэффициентом***. То есть итоговый первичный балл = первичный балл $\\cdot$ ***0,95***\n",
    "\n",
    "В решениях задач ***запрещено*** использовать любые численные методы вычисления интегралов (например: scipy.integrate, метод трапеций, парабол и так далее). Также запрещается использование `max/min` и численных приближений (`N` и `evalf`), не допускаются решения методом перебора.\n",
    "\n",
    "Но есть исключения: в 11 задаче разрешается реализовать численные методы, но запрещено пользоваться готовыми из библиотек. В задачах 18 и 19 разрешается использовать численные приближения (`N` и `evalf`).\n",
    "\n",
    "Во всех заданиях необходимо не только записать, как будет выглядеть интегралы, но и обязательно их вычислить. Они могут сразу не считаться, для этого нужно применить теорию из блока выше (выполнить замену, интегрирование по частям и так далее). Абсолютно все интегралы вычислимы!\n",
    "\n",
    "Все преобразования с интегралами необходимо производить только в коде, используя теорию (включая даже самые очевидные и простейшие замены). Запрещено делать замены, интегрирование по частям и так далее вручную в коде (например: для замены вместо того, чтобы использовать `transform`, в интеграл вручную (например с помощью `subs`) подставлять саму замену и dx)\n",
    "</div>"
   ]
  },
  {
   "cell_type": "markdown",
   "metadata": {
    "id": "J9jQja2MiB-e"
   },
   "source": [
    "## **<font color=#10A1C4> *Содержание:</font>***"
   ]
  },
  {
   "cell_type": "markdown",
   "metadata": {
    "id": "0ZUGe2zrpBRm"
   },
   "source": [
    "**Примечание:** в Google Colab в содержании ссылки на главы теории и на задачи работают только когда названия разделов не скрыты"
   ]
  },
  {
   "cell_type": "markdown",
   "metadata": {
    "id": "sOfUzWgehuQy"
   },
   "source": [
    "### **<font color=#10A1C4> *Содержание по разделам теории:</font>***"
   ]
  },
  {
   "cell_type": "markdown",
   "metadata": {
    "id": "9B7rOtiCZro8"
   },
   "source": [
    "1. [Раздел: интегрирование функции:](#integration)\n",
    " - [Первообразная и неопределенный интеграл](#indefinite_integral)\n",
    " - [Определенный интеграл](#definite_integral)\n",
    " - [Объектно-ориентированный подход](#object_approach)\n",
    " - [Замена переменной в интеграле](#variable_change)\n",
    " - [Выделение подынтегрального выражения](#highlight_integrad)\n",
    " - [Несобственные интегралы и интегрирование функций с точками разрыва](#improper_integral)\n",
    " - [Бесконечные пределы интегрирования](#inf_limit_integral)\n",
    " - [С переменным верхним пределом интеграл](#upper_limit_integral)\n",
    " - [Кусочно-заданная функция и ее интегрирование](#param_integral)\n",
    "\n",
    "2. [Раздел: применение интегралов:](#implication_1)\n",
    "    - [Применение интегралов для вычисления площади фигуры и длины дуги:](#implication_1_part)\n",
    "     - [Площадь плоской фигуры, ограниченной графиками двух функций](#implication_1_part_1)\n",
    "     - [Площадь плоской фигуры, ограниченной снизу осью ОХ, сверху параметрически заданной кривой](#implication_1_part_2)\n",
    "     - [Площадь плоской фигуры в полярных координатах](#implication_1_part_3)\n",
    "     - [Кривые: класс Curve в Sympy](#implication_1_part_4)\n",
    "     - [Длина дуги кривой](#implication_1_part_5)\n",
    "     - [Длина дуги кривой, заданной параметрически](#implication_1_part_6)\n",
    "     - [Длина дуги кривой, заданной в полярных координатах](#implication_1_part_7)\n",
    "    - [Применение интегралов для вычисления объема тела вращения:](#implication_2_part)\n",
    "     - [Объем тела вращения вокруг оси ОХ](#implication_2_part_1)\n",
    "     - [Объем тела вращения, ограниченного параметрически заданной кривой](#implication_2_part_2)\n",
    "     - [Объем тела вращения в полярной системе координат](#implication_2_part_3)\n",
    "     - [Объем тела, образованного вращением фигуры, ограниченной двумя кривыми вокруг оси ОХ](#implication_2_part_4)\n",
    "     - [Объем тела вращения вокруг оси ОY](#implication_2_part_5)\n",
    "     - [Объем тела, образованного вращением фигуры, ограниченной двумя кривыми вокруг оси ОY](#implication_2_part_6)\n",
    "     - [Вычисление объема тела вращения по известным поперечным сечениям](#implication_2_part_7)\n",
    "    - [Применение интегралов для вычисления площади поверхности тела вращения:](#implication_3_part)\n",
    "     - [Площадь поверхности, образованной вращением вокруг оси ОХ дуги гладкой кривой](#implication_3_part_1)\n",
    "     - [Площадь поверхности, образованной вращением вокруг оси ОХ дуги гладкой параметрически заданной кривой](#implication_3_part_2)\n",
    "     - [Поверхность тела вращения в полярной системе координат](#implication_3_part_3)\n",
    "     - [Площадь поверхности, образованной вращением вокруг оси ОY дуги гладкой кривой](#implication_3_part_4)\n",
    "     - [Площадь поверхности, образованной вращением вокруг произвольной оси](#implication_3_part_5)\n"
   ]
  },
  {
   "cell_type": "markdown",
   "metadata": {
    "id": "OzU4508qhmxM"
   },
   "source": [
    "### **<font color=#10A1C4>*Содержание по задачам:</font>***"
   ]
  },
  {
   "cell_type": "markdown",
   "metadata": {
    "id": "nDQJtMOY3xUd"
   },
   "source": [
    "[Задача 1](#task_1) (1 балл)<br>\n",
    "[Задача 2](#task_2) (1 балл)<br>\n",
    "[Задача 3](#task_3) (2 балла)<br>\n",
    "[Задача 4](#task_4) (2 балла)<br>\n",
    "[Задача 5](#task_5) (2 балла)<br>\n",
    "[Задача 6](#task_6) (1 балл)<br>\n",
    "[Задача 7](#task_7) (2 балла) <br>\n",
    "[Задача 8](#task_8) (5 баллов)<br>\n",
    "[Задача 9](#task_9) (1 балл)<br>\n",
    "[Задача 10](#task_10) (2 балла)<br>\n",
    "[Задача 11](#task_11) (3 бонусных балла)<br>\n",
    "[Задача 12](#task_12) (2 балла)<br>\n",
    "[Задача 13](#task_13) (2 балла)<br>\n",
    "[Задача 14](#task_14) (1 балл)<br>\n",
    "[Задача 15](#task_15) (1 балл)<br>\n",
    "[Задача 16](#task_16) (3 балла)<br>\n",
    "[Задача 17](#task_17) (1 балл)<br>\n",
    "[Задача 18](#task_18) (3 балла)<br>\n",
    "[Задача 19](#task_19) (3 балла)<br>\n",
    "\n"
   ]
  },
  {
   "cell_type": "markdown",
   "metadata": {
    "id": "4Me3CFrtw-cu"
   },
   "source": [
    "## **<font color=#10A1C4>*Необходимые библиотеки для всех частей</font>***"
   ]
  },
  {
   "cell_type": "markdown",
   "metadata": {
    "id": "fcTCqd97k7w5"
   },
   "source": [
    "Обратите внимание на обозначения импортированных функций из разных библиотек. Эти обозначения используются во всей лабораторной работе.\n",
    "\n",
    "Этот блок с всеми импортами менять нельзя!"
   ]
  },
  {
   "cell_type": "code",
   "execution_count": 54,
   "metadata": {
    "id": "SM8eQacAvSLS"
   },
   "outputs": [],
   "source": [
    "import numpy as np\n",
    "from numpy import pi as Pi_, cos as Cos_, sin as Sin_, exp as Exp_, sqrt as Sqrt_, log as Log_, arccos as Arccos_, tan as Tan_, arctan as Atan_, arcsin as Asin_\n",
    "import matplotlib.pyplot as plt\n",
    "import sympy as sp\n",
    "from sympy import Symbol, symbols, diff, solve, Eq, nsolve, solveset, integrate, Integral, Function, latex, S, simplify, fraction, Union, Interval, intersection, limit, plot, Piecewise, Curve, plot_parametric, plot_implicit, And, nonlinsolve, Matrix, factor, evalf, N\n",
    "from sympy.calculus.util import continuous_domain\n",
    "from sympy.plotting import plot3d\n",
    "from sympy.geometry import Point\n",
    "from sympy import sin as Sin, cos as Cos, tan as Tan, exp as Exp, log as Log, pi as Pi, sqrt as Sqrt, asin as Asin, atan as Atan, oo as Infinity, acos as Acos\n",
    "%matplotlib inline"
   ]
  },
  {
   "cell_type": "markdown",
   "metadata": {
    "id": "zcmDD4qFR8FQ"
   },
   "source": [
    "<a name=\"integration\"></a>\n",
    "## **<font color=#02AF02>1. Раздел: интегрирование функции</font>**"
   ]
  },
  {
   "cell_type": "markdown",
   "metadata": {
    "id": "Vuax0cUo3bG4"
   },
   "source": [
    "<a name=\"indefinite_integral\"></a>\n",
    "### <font color=#02AF02>Первообразная и неопределенный интеграл</font>"
   ]
  },
  {
   "cell_type": "markdown",
   "metadata": {
    "id": "eESyNGEW4u3z"
   },
   "source": [
    "Пусть задана функция одной переменной $f(x)$.\n",
    "\n",
    "Первообразной функции $f(x)$ называется такая (дифференцируемая) функция $F(x)$, что\n",
    "$$\n",
    "F'(x)=f(x).\n",
    "$$\n",
    "\n",
    "Если $F(x)$ --- первообразная функции $f(x)$, то и любая функция вида $F(x)+С$, где С - константа, является первообразной функции $f(x)$.\n",
    "\n",
    "Совокупность всех первообразных  функции $f(x)$ образует неопределенный интеграл  функции $f(x)$.\n",
    "\n",
    "Например, пусть  $f(x)=\\sin(x)$, тогда неопределенный интеграл\n",
    "$$\n",
    "\\int \\sin x \\,dx=-\\cos x +C\n",
    "$$\n",
    "\n",
    "В `sympy` для интегрирования есть [`integrate(f, x)`](https://docs.sympy.org/latest/modules/integrals/integrals.html), он возвращает неопределенный интеграл $\\int f(x) dx$ (на самом деле возвращает одну из первообразных)"
   ]
  },
  {
   "cell_type": "code",
   "execution_count": 55,
   "metadata": {
    "colab": {
     "base_uri": "https://localhost:8080/",
     "height": 39
    },
    "id": "q3sHIkB75Ew6",
    "outputId": "52ba7abc-3dd3-45cd-9727-cb631382ca12"
   },
   "outputs": [
    {
     "data": {
      "text/latex": [
       "$\\displaystyle - \\cos{\\left(x \\right)}$"
      ],
      "text/plain": [
       "-cos(x)"
      ]
     },
     "execution_count": 55,
     "metadata": {},
     "output_type": "execute_result"
    }
   ],
   "source": [
    "x = Symbol('x')\n",
    "integrate(Sin(x), x)"
   ]
  },
  {
   "cell_type": "markdown",
   "metadata": {
    "id": "VTtIZGoA5LDM"
   },
   "source": [
    "`integrate` можно применять и как метод:"
   ]
  },
  {
   "cell_type": "code",
   "execution_count": 56,
   "metadata": {
    "colab": {
     "base_uri": "https://localhost:8080/",
     "height": 39
    },
    "id": "oHNLEETJ5O9h",
    "outputId": "3c6bc605-ef54-4924-9fa3-6bd3e7faf6e0"
   },
   "outputs": [
    {
     "data": {
      "text/latex": [
       "$\\displaystyle - \\cos{\\left(x \\right)}$"
      ],
      "text/plain": [
       "-cos(x)"
      ]
     },
     "execution_count": 56,
     "metadata": {},
     "output_type": "execute_result"
    }
   ],
   "source": [
    "Sin(x).integrate(x)"
   ]
  },
  {
   "cell_type": "markdown",
   "metadata": {
    "id": "_cD9ODLb5ZhD"
   },
   "source": [
    "В случае интегрирования функции одной переменной необязательно явно указывать переменную интегрирования:"
   ]
  },
  {
   "cell_type": "code",
   "execution_count": 57,
   "metadata": {
    "colab": {
     "base_uri": "https://localhost:8080/",
     "height": 39
    },
    "id": "XLhy_xG-5a63",
    "outputId": "2c89673c-41d4-4449-c164-8d40b252f7a7"
   },
   "outputs": [
    {
     "data": {
      "text/latex": [
       "$\\displaystyle \\sin{\\left(x \\right)}$"
      ],
      "text/plain": [
       "sin(x)"
      ]
     },
     "execution_count": 57,
     "metadata": {},
     "output_type": "execute_result"
    }
   ],
   "source": [
    "Cos(x).integrate()"
   ]
  },
  {
   "cell_type": "markdown",
   "metadata": {
    "id": "6icFPtLp5iuA"
   },
   "source": [
    "Но если нужно интегрировать $\\sin(x)$ по $y$, то необходимо указать переменную интегрирования, чтобы получить желаемый результат:"
   ]
  },
  {
   "cell_type": "code",
   "execution_count": 58,
   "metadata": {
    "colab": {
     "base_uri": "https://localhost:8080/",
     "height": 39
    },
    "id": "c6pnh0uF5pKq",
    "outputId": "1d7047e5-8b98-43e6-9696-c8c4523b4106"
   },
   "outputs": [
    {
     "data": {
      "text/latex": [
       "$\\displaystyle y \\cos{\\left(x \\right)}$"
      ],
      "text/plain": [
       "y*cos(x)"
      ]
     },
     "execution_count": 58,
     "metadata": {},
     "output_type": "execute_result"
    }
   ],
   "source": [
    "y = Symbol('y')\n",
    "Cos(x).integrate(y)"
   ]
  },
  {
   "cell_type": "markdown",
   "metadata": {
    "id": "Bs0M_rm_5yaO"
   },
   "source": [
    "<a name=\"definite_integral\"></a>\n",
    "### <font color=#02AF02>Определенный интеграл</font>"
   ]
  },
  {
   "cell_type": "markdown",
   "metadata": {
    "id": "v-HzfTPK54ON"
   },
   "source": [
    "Определенный интеграл\n",
    "$$\n",
    "\\int_a^b f(x) \\,dx\n",
    "$$\n",
    "вычисляется с помощью метода `integrate(f(x), (x, a, b))` или `f(x).integrate((x, a, b))`.\n",
    "\n",
    "Обратите внимание, в определенном интеграле передается в качестве аргумента `tuple`, состоящий из имени переменной и пределов интегрирования.\n",
    "\n",
    "`integrate(f, (x, a, b))` или `f(x).integrate((x, a, b))` возвращает определенный интеграл $\\int_a^b f(x) dx$\n",
    "\n",
    "Например, определенный интеграл\n",
    "$$\n",
    "\\int_{-\\pi/2}^{\\pi/2} |\\sin x| \\,dx\n",
    "$$"
   ]
  },
  {
   "cell_type": "code",
   "execution_count": 59,
   "metadata": {
    "colab": {
     "base_uri": "https://localhost:8080/",
     "height": 58
    },
    "id": "Qeom5BH26P85",
    "outputId": "4388c658-8e5b-443f-f771-1e69c184fc95"
   },
   "outputs": [
    {
     "data": {
      "text/latex": [
       "$\\displaystyle 2$"
      ],
      "text/plain": [
       "2"
      ]
     },
     "metadata": {},
     "output_type": "display_data"
    },
    {
     "data": {
      "text/latex": [
       "$\\displaystyle 2$"
      ],
      "text/plain": [
       "2"
      ]
     },
     "metadata": {},
     "output_type": "display_data"
    }
   ],
   "source": [
    "display(integrate(abs(Sin(x)), (x, -Pi/2, Pi/2)),\n",
    "        abs(Sin(x)).integrate((x, -Pi/2, Pi/2)))"
   ]
  },
  {
   "cell_type": "markdown",
   "metadata": {
    "id": "02TFviHY6cW7"
   },
   "source": [
    "Формула Ньютона - Лейбница:\n",
    "$$\n",
    "\\int_a^b f(x)\\,dx=F(b)-F(a)\n",
    "$$\n",
    "\n",
    "Проверим, что она выполняется для $\\sin(x)$"
   ]
  },
  {
   "cell_type": "code",
   "execution_count": 60,
   "metadata": {
    "colab": {
     "base_uri": "https://localhost:8080/",
     "height": 37
    },
    "id": "V7_ZGyac6eTJ",
    "outputId": "87274a03-65d2-4cfd-b148-a135df1fc8fa"
   },
   "outputs": [
    {
     "data": {
      "text/latex": [
       "$\\displaystyle 2$"
      ],
      "text/plain": [
       "2"
      ]
     },
     "execution_count": 60,
     "metadata": {},
     "output_type": "execute_result"
    }
   ],
   "source": [
    "F = integrate(Sin(x), x)\n",
    "F.subs(x,Pi) - F.subs(x, 0)"
   ]
  },
  {
   "cell_type": "markdown",
   "metadata": {
    "id": "ZKzdH-kM7H7D"
   },
   "source": [
    "Можно использовать абстрактные функции в интеграле, например:"
   ]
  },
  {
   "cell_type": "code",
   "execution_count": 61,
   "metadata": {
    "colab": {
     "base_uri": "https://localhost:8080/",
     "height": 117
    },
    "id": "cV9flF3A7I59",
    "outputId": "bae3fe1a-dade-4694-9bb6-86694d7a5131"
   },
   "outputs": [
    {
     "data": {
      "text/latex": [
       "$\\displaystyle \\int f{\\left(x \\right)}\\, dx$"
      ],
      "text/plain": [
       "Integral(f(x), x)"
      ]
     },
     "metadata": {},
     "output_type": "display_data"
    },
    {
     "data": {
      "text/latex": [
       "$\\displaystyle \\int\\limits_{a}^{b} f{\\left(x \\right)}\\, dx$"
      ],
      "text/plain": [
       "Integral(f(x), (x, a, b))"
      ]
     },
     "metadata": {},
     "output_type": "display_data"
    }
   ],
   "source": [
    "f = Function('f')\n",
    "a, b = symbols('a b')\n",
    "F = integrate(f(x), x)\n",
    "display(F)\n",
    "Fab = integrate(f(x), (x, a, b))\n",
    "display(Fab)"
   ]
  },
  {
   "cell_type": "markdown",
   "metadata": {
    "id": "61azClJg7WEu"
   },
   "source": [
    "Можно подставить вместо абстрактной функции определенную функцию, например, подставим $e^x$:"
   ]
  },
  {
   "cell_type": "code",
   "execution_count": 62,
   "metadata": {
    "colab": {
     "base_uri": "https://localhost:8080/",
     "height": 55
    },
    "id": "H0I2dh217XNf",
    "outputId": "68f42172-9f19-4117-83fc-1fd02f1187fe"
   },
   "outputs": [
    {
     "data": {
      "text/latex": [
       "$\\displaystyle \\int e^{x}\\, dx$"
      ],
      "text/plain": [
       "Integral(exp(x), x)"
      ]
     },
     "execution_count": 62,
     "metadata": {},
     "output_type": "execute_result"
    }
   ],
   "source": [
    "F.subs(f(x), Exp(x))"
   ]
  },
  {
   "cell_type": "markdown",
   "metadata": {
    "id": "LoTeejrt7loX"
   },
   "source": [
    "Обратим внимание, что произошла только подстановка, сам интеграл вычислен не был.\n",
    "\n",
    "Кроме того, сам интеграл $F$ не изменился."
   ]
  },
  {
   "cell_type": "code",
   "execution_count": 63,
   "metadata": {
    "colab": {
     "base_uri": "https://localhost:8080/",
     "height": 55
    },
    "id": "8YCi3SdI7mve",
    "outputId": "eeaffea4-4c96-41dc-f509-d0c6ca326997"
   },
   "outputs": [
    {
     "data": {
      "text/latex": [
       "$\\displaystyle \\int f{\\left(x \\right)}\\, dx$"
      ],
      "text/plain": [
       "Integral(f(x), x)"
      ]
     },
     "execution_count": 63,
     "metadata": {},
     "output_type": "execute_result"
    }
   ],
   "source": [
    "F"
   ]
  },
  {
   "cell_type": "markdown",
   "metadata": {
    "id": "zSnPK8ng9fMt"
   },
   "source": [
    "<a name=\"task_1\"></a>\n",
    "**<font color=#FF5EDD>Задача 1**</font> (1 балл)"
   ]
  },
  {
   "cell_type": "markdown",
   "metadata": {
    "id": "LDHR1yrG8VlD"
   },
   "source": [
    "Пусть известна скорость роста некоторой популяции `V_1`. Требуется найти прирост численности населения за время от `time_from` до `time_to`."
   ]
  },
  {
   "cell_type": "code",
   "execution_count": 64,
   "metadata": {
    "id": "udGrCy6u4Z1S"
   },
   "outputs": [],
   "source": [
    "t = Symbol('t')\n",
    "\n",
    "def Solution_1(V_1, time_from: int, time_to: int):\n",
    "\n",
    "  growth_1 = 0 # В эту переменную вместо нуля запишите прирост численности населения\n",
    "\n",
    "  growth_1 = integrate(V_1, (t, time_from, time_to))\n",
    "\n",
    "  return growth_1"
   ]
  },
  {
   "cell_type": "code",
   "execution_count": 65,
   "metadata": {
    "colab": {
     "base_uri": "https://localhost:8080/"
    },
    "id": "nMSqcmSA9aEt",
    "outputId": "451a29b5-4460-40d1-c6b8-a1766f456a69"
   },
   "outputs": [
    {
     "name": "stdout",
     "output_type": "stream",
     "text": [
      "GOOD\n"
     ]
    }
   ],
   "source": [
    "#TEST CASE\n",
    "\n",
    "try:\n",
    "  assert Solution_1(t**2, 2, 5) == 39\n",
    "  print(\"GOOD\")\n",
    "except:\n",
    "  print(\"BAD\")"
   ]
  },
  {
   "cell_type": "markdown",
   "metadata": {
    "id": "eEWMG71P7xCa"
   },
   "source": [
    "<a name=\"object_approach\"></a>\n",
    "### <font color=#02AF02>Объектно-ориентированный подход</font>"
   ]
  },
  {
   "cell_type": "markdown",
   "metadata": {
    "id": "Uwa5NA-273Nx"
   },
   "source": [
    "Для представления невычисленного интеграла в `Sympy` есть класс [`Integral`](https://docs.sympy.org/latest/modules/integrals/integrals.html#sympy.integrals.integrals.Integral).\n",
    "\n",
    "Составим уравнение\n",
    "$$\n",
    "\\int e^x\\,dx = e^x + C\n",
    "$$\n",
    "Воспользуемся `Integral`, `integrate` и объектно-ориентированным подходом:"
   ]
  },
  {
   "cell_type": "code",
   "execution_count": 66,
   "metadata": {
    "colab": {
     "base_uri": "https://localhost:8080/",
     "height": 55
    },
    "id": "Vp0edPwy7-4S",
    "outputId": "a21cb773-77a5-4222-bb68-5188e0337efb"
   },
   "outputs": [
    {
     "data": {
      "text/latex": [
       "$\\displaystyle \\int e^{x}\\, dx = C + e^{x}$"
      ],
      "text/plain": [
       "Eq(Integral(exp(x), x), C + exp(x))"
      ]
     },
     "execution_count": 66,
     "metadata": {},
     "output_type": "execute_result"
    }
   ],
   "source": [
    "C = Symbol('C')\n",
    "Eq(Integral(Exp(x)), Exp(x).integrate() + C)"
   ]
  },
  {
   "cell_type": "markdown",
   "metadata": {
    "id": "Qi89ALgJ8IVz"
   },
   "source": [
    "Представим интегралы от функций $\\sin x$, $\\cos x$, $\\ln x$ и $\\sqrt{x}$ как было показано выше"
   ]
  },
  {
   "cell_type": "code",
   "execution_count": 67,
   "metadata": {
    "colab": {
     "base_uri": "https://localhost:8080/",
     "height": 172
    },
    "id": "zHJgV1HV8MQ8",
    "outputId": "8fef991d-7ae7-4ec6-e214-c8f3769de910"
   },
   "outputs": [
    {
     "data": {
      "text/latex": [
       "$\\displaystyle \\int \\sin{\\left(x \\right)}\\, dx = C - \\cos{\\left(x \\right)}$"
      ],
      "text/plain": [
       "Eq(Integral(sin(x), x), C - cos(x))"
      ]
     },
     "metadata": {},
     "output_type": "display_data"
    },
    {
     "data": {
      "text/latex": [
       "$\\displaystyle \\int \\cos{\\left(x \\right)}\\, dx = C + \\sin{\\left(x \\right)}$"
      ],
      "text/plain": [
       "Eq(Integral(cos(x), x), C + sin(x))"
      ]
     },
     "metadata": {},
     "output_type": "display_data"
    },
    {
     "data": {
      "text/latex": [
       "$\\displaystyle \\int \\log{\\left(x \\right)}\\, dx = C + x \\log{\\left(x \\right)} - x$"
      ],
      "text/plain": [
       "Eq(Integral(log(x), x), C + x*log(x) - x)"
      ]
     },
     "metadata": {},
     "output_type": "display_data"
    },
    {
     "data": {
      "text/latex": [
       "$\\displaystyle \\int \\sqrt{x}\\, dx = C + \\frac{2 x^{\\frac{3}{2}}}{3}$"
      ],
      "text/plain": [
       "Eq(Integral(sqrt(x), x), C + 2*x**(3/2)/3)"
      ]
     },
     "metadata": {},
     "output_type": "display_data"
    }
   ],
   "source": [
    "functions = (Sin, Cos, Log, Sqrt)\n",
    "for func in functions:\n",
    "    display(Eq(Integral(func(x)), func(x).integrate() + C))"
   ]
  },
  {
   "cell_type": "markdown",
   "metadata": {
    "id": "2uNVnzX-8wwO"
   },
   "source": [
    "<a name=\"variable_change\"></a>\n",
    "### <font color=#02AF02>Замена переменной в интеграле</font>"
   ]
  },
  {
   "cell_type": "markdown",
   "metadata": {
    "id": "x5Au3ctl-B_W"
   },
   "source": [
    "\n",
    "Для корректной замены переменных в интеграле `Integral` используется метод `transform`.\n",
    "\n",
    "Методу `transform` передается переменная, которую нужно заменить, и выражение, на которое нужно ее заменить.\n",
    "\n",
    "Проведем замену переменной $y = \\sqrt{x}$ в интеграле $\\int \\frac {e^{\\sqrt{x}}} {\\sqrt{x}}\\ dx $."
   ]
  },
  {
   "cell_type": "code",
   "execution_count": 68,
   "metadata": {
    "colab": {
     "base_uri": "https://localhost:8080/",
     "height": 60
    },
    "id": "YEJpmnvx-Ejp",
    "outputId": "fa0dcb94-a075-4d44-eb57-ecbd64603d36"
   },
   "outputs": [
    {
     "data": {
      "text/latex": [
       "$\\displaystyle \\int \\frac{e^{\\sqrt{x}}}{\\sqrt{x}}\\, dx = \\int 2 e^{y}\\, dy$"
      ],
      "text/plain": [
       "Eq(Integral(exp(sqrt(x))/sqrt(x), x), Integral(2*exp(y), y))"
      ]
     },
     "execution_count": 68,
     "metadata": {},
     "output_type": "execute_result"
    }
   ],
   "source": [
    "y = Symbol('y', positive=True)\n",
    "I1 = Integral(Exp(Sqrt(x))/Sqrt(x))\n",
    "Eq(I1, I1.transform(Sqrt(x), y))"
   ]
  },
  {
   "cell_type": "markdown",
   "metadata": {
    "id": "VEkv0iv--H1P"
   },
   "source": [
    "Обратите внимание на то, что использован положительный символ $y$ (positive=True).\n",
    "\n",
    "Без этого ограничения возникает неоднозначность, и результат замены получается такой:"
   ]
  },
  {
   "cell_type": "code",
   "execution_count": 69,
   "metadata": {
    "colab": {
     "base_uri": "https://localhost:8080/",
     "height": 67
    },
    "id": "jQnHS1rP-MKh",
    "outputId": "3576941d-b20e-4de8-f7c0-2e382e85e2b2"
   },
   "outputs": [
    {
     "data": {
      "text/latex": [
       "$\\displaystyle \\int \\frac{e^{\\sqrt{x}}}{\\sqrt{x}}\\, dx = \\int \\frac{2 y e^{\\sqrt{y^{2}}}}{\\sqrt{y^{2}}}\\, dy$"
      ],
      "text/plain": [
       "Eq(Integral(exp(sqrt(x))/sqrt(x), x), Integral(2*y*exp(sqrt(y**2))/sqrt(y**2), y))"
      ]
     },
     "execution_count": 69,
     "metadata": {},
     "output_type": "execute_result"
    }
   ],
   "source": [
    "y = Symbol('y')\n",
    "I1 = Integral(Exp(Sqrt(x))/Sqrt(x))\n",
    "Eq(I1, I1.transform(Sqrt(x), y))"
   ]
  },
  {
   "cell_type": "markdown",
   "metadata": {
    "id": "RcgdIlb3-Pn-"
   },
   "source": [
    "Эту замену можно провести иначе, заменив $x$ на $y^2$."
   ]
  },
  {
   "cell_type": "code",
   "execution_count": 70,
   "metadata": {
    "colab": {
     "base_uri": "https://localhost:8080/",
     "height": 60
    },
    "id": "-JdZ15uz-Ti6",
    "outputId": "a6163124-b7bb-4086-c8ad-f5d7e732ed10"
   },
   "outputs": [
    {
     "data": {
      "text/latex": [
       "$\\displaystyle \\int \\frac{e^{\\sqrt{x}}}{\\sqrt{x}}\\, dx = \\int 2 e^{y}\\, dy$"
      ],
      "text/plain": [
       "Eq(Integral(exp(sqrt(x))/sqrt(x), x), Integral(2*exp(y), y))"
      ]
     },
     "execution_count": 70,
     "metadata": {},
     "output_type": "execute_result"
    }
   ],
   "source": [
    "y = Symbol('y', positive=True)\n",
    "Eq(I1, I1.transform(x, y**2))"
   ]
  },
  {
   "cell_type": "markdown",
   "metadata": {
    "id": "X4qzJgur9u3Q"
   },
   "source": [
    "<a name=\"task_2\"></a>\n",
    "**<font color=#FF5EDD>Задача 2**</font> (1 балл)"
   ]
  },
  {
   "cell_type": "markdown",
   "metadata": {
    "id": "hEiQdmv1y9nT"
   },
   "source": [
    "Найти и провести замену переменных $y = f(x)$ в неопределенном интеграле, используя которую мы из левого интеграла получаем правый интеграл:\n",
    "\\begin{align*}\n",
    "\\int e^{-x} \\cos({e^{-x} + 8})dx = \\int -\\cos y \\ dy\n",
    "\\end{align*}"
   ]
  },
  {
   "cell_type": "code",
   "execution_count": 71,
   "metadata": {
    "executionInfo": {
     "elapsed": 5,
     "status": "ok",
     "timestamp": 1715578057945,
     "user": {
      "displayName": "Алёна Числова",
      "userId": "14782409543211976818"
     },
     "user_tz": -180
    },
    "id": "re_dMnd6Sazw"
   },
   "outputs": [
    {
     "data": {
      "text/latex": [
       "$\\displaystyle \\int e^{- x} \\cos{\\left(8 + e^{- x} \\right)}\\, dx = \\int \\left(- \\cos{\\left(y \\right)}\\right)\\, dy$"
      ],
      "text/plain": [
       "Eq(Integral(exp(-x)*cos(8 + exp(-x)), x), Integral(-cos(y), y))"
      ]
     },
     "execution_count": 71,
     "metadata": {},
     "output_type": "execute_result"
    }
   ],
   "source": [
    "y_2 = 0  # В эту переменную вместо нуля запишите замену f(x)\n",
    "\n",
    "y = Symbol('y')\n",
    "\n",
    "y_2 = Exp(-x) + 8\n",
    "\n",
    "Eq(Integral(Exp(-x)*Cos(Exp(-x) + 8)), Integral(Exp(-x)*Cos(Exp(-x) + 8)).transform(y_2, y))"
   ]
  },
  {
   "cell_type": "markdown",
   "metadata": {
    "id": "JSOEO1IPAwUT"
   },
   "source": [
    "Запишем формулу интегрирования по частям:"
   ]
  },
  {
   "cell_type": "code",
   "execution_count": 72,
   "metadata": {
    "colab": {
     "base_uri": "https://localhost:8080/",
     "height": 55
    },
    "id": "63v7GWkKA2rk",
    "outputId": "bd9f6b0a-3118-4acc-9797-4251c9a78be5"
   },
   "outputs": [
    {
     "data": {
      "text/latex": [
       "$\\displaystyle \\int f{\\left(x \\right)} \\frac{d}{d x} g{\\left(x \\right)}\\, dx = f{\\left(x \\right)} g{\\left(x \\right)} - \\int g{\\left(x \\right)} \\frac{d}{d x} f{\\left(x \\right)}\\, dx$"
      ],
      "text/plain": [
       "Eq(Integral(f(x)*Derivative(g(x), x), x), f(x)*g(x) - Integral(g(x)*Derivative(f(x), x), x))"
      ]
     },
     "execution_count": 72,
     "metadata": {},
     "output_type": "execute_result"
    }
   ],
   "source": [
    "g = Function('g')\n",
    "Part_rule = Eq(integrate(f(x)*diff(g(x)), x), f(x)*g(x) - integrate(diff(f(x))*g(x), x))\n",
    "Part_rule"
   ]
  },
  {
   "cell_type": "markdown",
   "metadata": {
    "id": "U_64ScBCA7Kc"
   },
   "source": [
    "Вычислим $\\int x \\ln x\\,dx$, воспользовавшись формулой интегрирования по частям.\n",
    "\n",
    "Заметим, что $g(x)$ можно выразить как первообразную от сомножителя $x$."
   ]
  },
  {
   "cell_type": "code",
   "execution_count": 73,
   "metadata": {
    "colab": {
     "base_uri": "https://localhost:8080/",
     "height": 59
    },
    "id": "z-KMihvOBBUD",
    "outputId": "9e1eb483-b46b-4858-d6d1-9a0202fc6793"
   },
   "outputs": [
    {
     "data": {
      "text/latex": [
       "$\\displaystyle \\int \\log{\\left(x \\right)} \\frac{d}{d x} \\frac{x^{2}}{2}\\, dx = \\frac{x^{2} \\log{\\left(x \\right)}}{2} - \\int \\frac{x^{2} \\frac{d}{d x} \\log{\\left(x \\right)}}{2}\\, dx$"
      ],
      "text/plain": [
       "Eq(Integral(log(x)*Derivative(x**2/2, x), x), x**2*log(x)/2 - Integral(x**2*Derivative(log(x), x)/2, x))"
      ]
     },
     "execution_count": 73,
     "metadata": {},
     "output_type": "execute_result"
    }
   ],
   "source": [
    "ans = Part_rule.subs([(f(x), Log(x)), (g(x), x.integrate())])\n",
    "ans"
   ]
  },
  {
   "cell_type": "markdown",
   "metadata": {
    "id": "0a_FoAeWDHKO"
   },
   "source": [
    "Выделение правой и левой части уравнения.\n",
    "Для выделения частей уравнения применяются методы `rhs` и `lhs`.\n",
    "\n",
    "Вычислим правую часть уравнения для примера выше.\n",
    "\n",
    "Вначале выделим правую часть уравнения."
   ]
  },
  {
   "cell_type": "code",
   "execution_count": 74,
   "metadata": {
    "colab": {
     "base_uri": "https://localhost:8080/",
     "height": 59
    },
    "id": "x4zbVOABC8Qm",
    "outputId": "7ca58f64-7181-4e21-c90a-21d984217648"
   },
   "outputs": [
    {
     "data": {
      "text/latex": [
       "$\\displaystyle \\frac{x^{2} \\log{\\left(x \\right)}}{2} - \\int \\frac{x^{2} \\frac{d}{d x} \\log{\\left(x \\right)}}{2}\\, dx$"
      ],
      "text/plain": [
       "x**2*log(x)/2 - Integral(x**2*Derivative(log(x), x)/2, x)"
      ]
     },
     "execution_count": 74,
     "metadata": {},
     "output_type": "execute_result"
    }
   ],
   "source": [
    "right_part = ans.rhs\n",
    "right_part"
   ]
  },
  {
   "cell_type": "markdown",
   "metadata": {
    "id": "F2vRRDWaDPXW"
   },
   "source": [
    "Для вычисления интеграла в полученном выражении воспользуемся методом `doit`"
   ]
  },
  {
   "cell_type": "code",
   "execution_count": 75,
   "metadata": {
    "colab": {
     "base_uri": "https://localhost:8080/",
     "height": 54
    },
    "id": "Lv5zVgM-DQe8",
    "outputId": "1337a072-c588-44b6-aac9-ece98b31d0c6"
   },
   "outputs": [
    {
     "data": {
      "text/latex": [
       "$\\displaystyle \\frac{x^{2} \\log{\\left(x \\right)}}{2} - \\frac{x^{2}}{4}$"
      ],
      "text/plain": [
       "x**2*log(x)/2 - x**2/4"
      ]
     },
     "execution_count": 75,
     "metadata": {},
     "output_type": "execute_result"
    }
   ],
   "source": [
    "res = right_part.doit()\n",
    "res"
   ]
  },
  {
   "cell_type": "markdown",
   "metadata": {
    "id": "6S90x4IlDYoa"
   },
   "source": [
    "Проверим дифференцированием:"
   ]
  },
  {
   "cell_type": "code",
   "execution_count": 76,
   "metadata": {
    "colab": {
     "base_uri": "https://localhost:8080/",
     "height": 39
    },
    "id": "8XFsmlv2DZn0",
    "outputId": "3fa6b8ad-83a1-4b31-c9eb-8bc9c1702417"
   },
   "outputs": [
    {
     "data": {
      "text/latex": [
       "$\\displaystyle x \\log{\\left(x \\right)}$"
      ],
      "text/plain": [
       "x*log(x)"
      ]
     },
     "execution_count": 76,
     "metadata": {},
     "output_type": "execute_result"
    }
   ],
   "source": [
    "res.diff()"
   ]
  },
  {
   "cell_type": "markdown",
   "metadata": {
    "id": "rOEmHge_-3JI"
   },
   "source": [
    "В `SymPy` есть класс `Integral`, который можно использовать для проведения преобразований под знаким интеграла (без вычислений интеграла)\n",
    "\n",
    "Введем определенный интеграл\n",
    "$$\n",
    "I = \\int_0^3 \\sqrt{9 - x^2}\\,dx\n",
    "$$\n"
   ]
  },
  {
   "cell_type": "code",
   "execution_count": 77,
   "metadata": {
    "colab": {
     "base_uri": "https://localhost:8080/",
     "height": 80
    },
    "id": "LeS4i8kC_Ate",
    "outputId": "ab1db6bc-7698-4321-b350-0f76fdd61df7"
   },
   "outputs": [
    {
     "data": {
      "text/latex": [
       "$\\displaystyle \\int\\limits_{0}^{3} \\sqrt{9 - x^{2}}\\, dx$"
      ],
      "text/plain": [
       "Integral(sqrt(9 - x**2), (x, 0, 3))"
      ]
     },
     "execution_count": 77,
     "metadata": {},
     "output_type": "execute_result"
    }
   ],
   "source": [
    "x, y = symbols('x y', positive=True)\n",
    "I = Integral((9 - x**2)**S.Half, (x, 0, 3))\n",
    "I"
   ]
  },
  {
   "cell_type": "markdown",
   "metadata": {
    "id": "ifDG2buQADzQ"
   },
   "source": [
    "Для вычисления интегралов такого типа используется подстановка $x = 3 \\sin u$"
   ]
  },
  {
   "cell_type": "code",
   "execution_count": 78,
   "metadata": {
    "colab": {
     "base_uri": "https://localhost:8080/",
     "height": 83
    },
    "id": "elFYszVqLu0r",
    "outputId": "1ccaa8b0-b2f6-4f55-ff24-b7c4dbcb6b16"
   },
   "outputs": [
    {
     "data": {
      "text/latex": [
       "$\\displaystyle \\int\\limits_{0}^{\\frac{\\pi}{2}} 3 \\sqrt{9 - 9 \\sin^{2}{\\left(u \\right)}} \\cos{\\left(u \\right)}\\, du$"
      ],
      "text/plain": [
       "Integral(3*sqrt(9 - 9*sin(u)**2)*cos(u), (u, 0, pi/2))"
      ]
     },
     "execution_count": 78,
     "metadata": {},
     "output_type": "execute_result"
    }
   ],
   "source": [
    "x, u = symbols('x u', positive=True)\n",
    "I1 = I.transform(Asin(x/3), u)\n",
    "I1"
   ]
  },
  {
   "cell_type": "markdown",
   "metadata": {
    "id": "a2vOyQ1DAjNQ"
   },
   "source": [
    "Вычислить такой интеграл не получится, если `I1.doit()` попытаться выполнить прямо сейчас. Единственное, что произойдет - это вынос константы из интеграла."
   ]
  },
  {
   "cell_type": "code",
   "execution_count": 79,
   "metadata": {
    "colab": {
     "base_uri": "https://localhost:8080/",
     "height": 83
    },
    "id": "1VGs87vYzfY8",
    "outputId": "32249d2f-a433-4722-a00b-69b190cc6197"
   },
   "outputs": [
    {
     "data": {
      "text/latex": [
       "$\\displaystyle 9 \\int\\limits_{0}^{\\frac{\\pi}{2}} \\sqrt{1 - \\sin^{2}{\\left(u \\right)}} \\cos{\\left(u \\right)}\\, du$"
      ],
      "text/plain": [
       "9*Integral(sqrt(1 - sin(u)**2)*cos(u), (u, 0, pi/2))"
      ]
     },
     "execution_count": 79,
     "metadata": {},
     "output_type": "execute_result"
    }
   ],
   "source": [
    "I1.doit()"
   ]
  },
  {
   "cell_type": "markdown",
   "metadata": {
    "id": "pOFHlxAMgk2X"
   },
   "source": [
    "Однако невооруженным взглядом видно, что подынтегральное выражение можно упростить, но сначала до него нужно добраться!\n",
    "\n",
    "Поэтому, чтобы упростить этот интеграл, нам нужно выделить подыинтегральное выражение. Это мы будет делать в следующем разделе."
   ]
  },
  {
   "cell_type": "markdown",
   "metadata": {
    "id": "CWLvRDqM9qGw"
   },
   "source": [
    "<a name=\"task_3\"></a>\n",
    "**<font color=#FF5EDD>Задача 3**</font> (2 балла)"
   ]
  },
  {
   "cell_type": "markdown",
   "metadata": {
    "id": "YuFWgohC7p-C"
   },
   "source": [
    "Скорость $V$ — это производная от расстояния $S$, а ускорение $a$ - вторая производная от расстояния.\n",
    "\n",
    "Пусть ракета движется с ускорением $a(t)$, которое Вам задано по условию (`a` - ускорение, `t` - время).\n",
    "\n",
    "Расчитайте расстояние, которое пролетит ракета при заданном `t_find`, если известно, что ракета стартует с `x_0 = A` ($S(0) = A$) и начальной скорости `v_0 = B` ($S'(0) = B$)."
   ]
  },
  {
   "cell_type": "code",
   "execution_count": 80,
   "metadata": {
    "id": "ll8pizVbJXEF"
   },
   "outputs": [],
   "source": [
    "t = Symbol('t')\n",
    "\n",
    "def Solution_3(a, A, B, t_find):\n",
    "  answer_3 = 0 # В эту переменную вместо нуля запишите искомое расстояние\n",
    "\n",
    "  I = Integral(a)\n",
    "  V = I.doit() + B\n",
    "  S = Integral(V).doit() + A\n",
    "  answer_3 = S.subs(t, t_find)-S.subs(t, 0)\n",
    "\n",
    "  return answer_3"
   ]
  },
  {
   "cell_type": "code",
   "execution_count": 81,
   "metadata": {
    "colab": {
     "base_uri": "https://localhost:8080/"
    },
    "id": "5lSbtOZHJYAc",
    "outputId": "8c19722a-ccec-47a5-bd09-97df9d295a0c"
   },
   "outputs": [
    {
     "name": "stdout",
     "output_type": "stream",
     "text": [
      "GOOD\n"
     ]
    }
   ],
   "source": [
    "#TEST CASE\n",
    "\n",
    "t = Symbol('t')\n",
    "\n",
    "try:\n",
    "  assert Solution_3(t + t**2, 3, 10, 10) == 1100\n",
    "  print(\"GOOD\")\n",
    "except:\n",
    "  print(\"BAD\")"
   ]
  },
  {
   "cell_type": "markdown",
   "metadata": {
    "id": "X3drqXQbAlbJ"
   },
   "source": [
    "<a name=\"highlight_integrad\"></a>\n",
    "### <font color=#02AF02>Выделение подынтегрального выражения</font>"
   ]
  },
  {
   "cell_type": "markdown",
   "metadata": {
    "id": "Av2yYo0qg46s"
   },
   "source": [
    "Рассматриваем определенный интеграл\n",
    "$$\n",
    "I = \\int_0^3 \\sqrt{9 - x^2}\\,dx\n",
    "$$\n",
    "\n",
    "Вначале повторим шаги из предыдущего [раздела](#variable_change):"
   ]
  },
  {
   "cell_type": "code",
   "execution_count": 82,
   "metadata": {
    "colab": {
     "base_uri": "https://localhost:8080/",
     "height": 80
    },
    "id": "_DtuykvFhpG9",
    "outputId": "85ff428d-71d5-4609-92c3-008eaaf79dca"
   },
   "outputs": [
    {
     "data": {
      "text/latex": [
       "$\\displaystyle \\int\\limits_{0}^{3} \\sqrt{9 - x^{2}}\\, dx$"
      ],
      "text/plain": [
       "Integral(sqrt(9 - x**2), (x, 0, 3))"
      ]
     },
     "execution_count": 82,
     "metadata": {},
     "output_type": "execute_result"
    }
   ],
   "source": [
    "x, y = symbols('x y', positive=True)\n",
    "I = Integral((9 - x**2)**S.Half, (x, 0, 3))\n",
    "I"
   ]
  },
  {
   "cell_type": "markdown",
   "metadata": {
    "id": "mAnLtMTfht5i"
   },
   "source": [
    "Для вычисления интегралов такого типа используется подстановка $x = 3 \\sin u$"
   ]
  },
  {
   "cell_type": "code",
   "execution_count": 83,
   "metadata": {
    "colab": {
     "base_uri": "https://localhost:8080/",
     "height": 83
    },
    "id": "gIJAOqcoh57d",
    "outputId": "1921e981-4236-40a0-e2dd-57c22ed8add3"
   },
   "outputs": [
    {
     "data": {
      "text/latex": [
       "$\\displaystyle \\int\\limits_{0}^{\\frac{\\pi}{2}} 3 \\sqrt{9 - 9 \\sin^{2}{\\left(u \\right)}} \\cos{\\left(u \\right)}\\, du$"
      ],
      "text/plain": [
       "Integral(3*sqrt(9 - 9*sin(u)**2)*cos(u), (u, 0, pi/2))"
      ]
     },
     "execution_count": 83,
     "metadata": {},
     "output_type": "execute_result"
    }
   ],
   "source": [
    "x, u = symbols('x u', positive=True)\n",
    "I1 = I.transform(Asin(x/3), u)\n",
    "I1"
   ]
  },
  {
   "cell_type": "markdown",
   "metadata": {
    "id": "fU_fMW4CBRqg"
   },
   "source": [
    "В классе `Integral` есть атрибут `function` - подынтегральное выражение.\n",
    "Может быть полезно, если после проведения замены нужно преобразовать полученное выражение, прежде чем интегрировать дальше:"
   ]
  },
  {
   "cell_type": "code",
   "execution_count": 84,
   "metadata": {
    "colab": {
     "base_uri": "https://localhost:8080/",
     "height": 39
    },
    "id": "p4wdo7qcBVsG",
    "outputId": "a8b57cfb-0c7a-409f-d86b-78bac9c1b656"
   },
   "outputs": [
    {
     "data": {
      "text/latex": [
       "$\\displaystyle 9 \\cos{\\left(u \\right)} \\left|{\\cos{\\left(u \\right)}}\\right|$"
      ],
      "text/plain": [
       "9*cos(u)*Abs(cos(u))"
      ]
     },
     "execution_count": 84,
     "metadata": {},
     "output_type": "execute_result"
    }
   ],
   "source": [
    "f_simple = simplify(I1.function)\n",
    "f_simple"
   ]
  },
  {
   "cell_type": "markdown",
   "metadata": {
    "id": "o6vZG_PkBalr"
   },
   "source": [
    "После такого, хотя и неполного, упрощения, интеграл уже удается вычислить, интегрируя упрощенную подынтегральную функцию в тех же пределах `I1.limits`:"
   ]
  },
  {
   "cell_type": "code",
   "execution_count": 85,
   "metadata": {
    "colab": {
     "base_uri": "https://localhost:8080/",
     "height": 51
    },
    "id": "cq6rfHd5Bv-y",
    "outputId": "c75741ee-828d-4104-f6e3-a4e52492274c"
   },
   "outputs": [
    {
     "data": {
      "text/latex": [
       "$\\displaystyle \\frac{9 \\pi}{4}$"
      ],
      "text/plain": [
       "9*pi/4"
      ]
     },
     "execution_count": 85,
     "metadata": {},
     "output_type": "execute_result"
    }
   ],
   "source": [
    "f_simple.integrate(I1.limits)"
   ]
  },
  {
   "cell_type": "markdown",
   "metadata": {
    "id": "0zv-VRCEB2FT"
   },
   "source": [
    "Можно было вычислить исходный интеграл с помощью `doit`:"
   ]
  },
  {
   "cell_type": "code",
   "execution_count": 86,
   "metadata": {
    "colab": {
     "base_uri": "https://localhost:8080/",
     "height": 51
    },
    "id": "dMO4pslGB3Y6",
    "outputId": "145bc407-fa81-4bef-a0ac-b3e18e377551"
   },
   "outputs": [
    {
     "data": {
      "text/latex": [
       "$\\displaystyle \\frac{9 \\pi}{4}$"
      ],
      "text/plain": [
       "9*pi/4"
      ]
     },
     "execution_count": 86,
     "metadata": {},
     "output_type": "execute_result"
    }
   ],
   "source": [
    "I.doit()"
   ]
  },
  {
   "cell_type": "markdown",
   "metadata": {
    "id": "dJh-ifvkB_Pd"
   },
   "source": [
    "Примечание: подобные интегралы обычно вычисляют с помощью тригонометрической замены."
   ]
  },
  {
   "cell_type": "markdown",
   "metadata": {},
   "source": [
    "<a name=\"task_4\"></a>\n",
    "**<font color=#FF5EDD>Задача 4**</font> (2 балла)"
   ]
  },
  {
   "cell_type": "markdown",
   "metadata": {
    "id": "3vu5Ghr91h_G"
   },
   "source": [
    "Найти первообразную функции $ \\frac{7\\cos(x)^3}{4\\sqrt{\\sin(x)}}$ и ее первообразную, график которой проходит через начало координат. Если такой первообразной нет, то в переменную запишите $-1000$."
   ]
  },
  {
   "cell_type": "code",
   "execution_count": 87,
   "metadata": {
    "id": "A2hNlQBv1gLp"
   },
   "outputs": [
    {
     "data": {
      "text/latex": [
       "$\\displaystyle 0$"
      ],
      "text/plain": [
       "0"
      ]
     },
     "execution_count": 87,
     "metadata": {},
     "output_type": "execute_result"
    }
   ],
   "source": [
    "F_function_4 = 0 # В эту переменную вместо нуля запишите первообразную\n",
    "\n",
    "result_4 = 1000 # В эту переменную вместо 1000 запишите первообразную, график которой проходит через начало координат. Если ее нет, то запишите -1000.\n",
    "\n",
    "x = Symbol('x')\n",
    "t = Symbol('t', positive=True)\n",
    "f = (7 *Cos(x)**3)/(4 * Sqrt(Sin(x)))\n",
    "z = Sqrt(Sin(x))\n",
    "I = Integral(simplify(Integral(f).transform(z, t).function)).doit()\n",
    "\n",
    "F_function_4 = simplify(I.subs(t, z))\n",
    "\n",
    "result_4 = F_function_4\n",
    "\n",
    "F_function_4.subs(x, 0)"
   ]
  },
  {
   "cell_type": "markdown",
   "metadata": {
    "id": "m8vJcuCT99IN"
   },
   "source": [
    "<a name=\"task_5\"></a>\n",
    "**<font color=#FF5EDD>Задача 5**</font> (2 балла)"
   ]
  },
  {
   "cell_type": "markdown",
   "metadata": {
    "id": "qWpVIo6G20EM"
   },
   "source": [
    "$F(x)=-\\frac{1}{4} \\operatorname{arctg} \\frac{4 x\\left(x^2-1\\right)}{x^4-5 x^2+1}$.\n",
    "\n",
    "Посчитать $F^{\\prime}(x)$, $\\int_0^1 F^{\\prime}(x) d x$, $\\left.F(x)\\right|_0 ^1$.\n",
    "\n",
    "Равен ли интеграл $\\int_0^1 F^{\\prime}(x) d x$ этому значению  $\\left.F(x)\\right|_0 ^1$? Аргументируйте ответ, объясните с теоретической точки зрения это равенство/не равенство."
   ]
  },
  {
   "cell_type": "code",
   "execution_count": 88,
   "metadata": {
    "executionInfo": {
     "elapsed": 5,
     "status": "ok",
     "timestamp": 1715578057946,
     "user": {
      "displayName": "Алёна Числова",
      "userId": "14782409543211976818"
     },
     "user_tz": -180
    },
    "id": "1VSss44c4uMa"
   },
   "outputs": [
    {
     "data": {
      "text/latex": [
       "$\\displaystyle \\frac{\\operatorname{atan}{\\left(\\frac{1}{4} \\right)}}{4} + \\frac{\\operatorname{atan}{\\left(\\frac{13}{16} \\right)}}{4} + \\frac{\\operatorname{atan}{\\left(\\frac{61}{48} \\right)}}{4} + \\frac{\\operatorname{atan}{\\left(\\frac{15}{4} \\right)}}{4}$"
      ],
      "text/plain": [
       "atan(1/4)/4 + atan(13/16)/4 + atan(61/48)/4 + atan(15/4)/4"
      ]
     },
     "execution_count": 88,
     "metadata": {},
     "output_type": "execute_result"
    }
   ],
   "source": [
    "f_derivative_5 = 0  # В эту переменную вместо нуля запишите производную функции F(x)\n",
    "\n",
    "res_5 = 0  # В эту переменную вместо нуля запишите искомый интеграл\n",
    "\n",
    "x = Symbol('x')\n",
    "F = -Atan(4*x*(x**2-1)/(x**4-5*x**2 + 1))/4\n",
    "\n",
    "f_derivative_5 = simplify(sp.Derivative(simplify(F)).doit())\n",
    "res_5 = Integral(f_derivative_5, (x, 0, 1)).doit()\n",
    "\n",
    "res_5"
   ]
  },
  {
   "cell_type": "markdown",
   "metadata": {},
   "source": [
    "Нет. Так как для\n",
    "\n",
    "$$\n",
    "\\int_{0}^{1}F'(x)\\,dx = F(1)-F(0)\n",
    "$$\n",
    "\n",
    "требуется, чтобы $F$ была непрерывна на $[0,1]$ и дифференцируема на $(0,1)$. В нашем случае\n",
    "\n",
    "$$\n",
    "F(x)=-\\tfrac14\\arctan\\frac{4x(x^2-1)}{x^4-5x^2+1}\n",
    "$$\n",
    "\n",
    "имеет точку разрыва в том месте, где $x^4-5x^2+1=0$, поскольку дробь внутри арктангенса там стремится к $\\pm\\infty$ и аргумент прыгает через $\\pm\\frac\\pi2$. Из-за этого $F$ не непрерывна на всём $[0,1]$, и прямое применение теоремы нарушено.\n"
   ]
  },
  {
   "cell_type": "markdown",
   "metadata": {
    "id": "HvOoZhpwCE0q"
   },
   "source": [
    "<a name=\"improper_integral\"></a>\n",
    "### <font color=#02AF02>Несобственные интегралы и интегрирование функций с точками разрыва</font>"
   ]
  },
  {
   "cell_type": "markdown",
   "metadata": {
    "id": "uBBWWXNhDpuS"
   },
   "source": [
    "Вычислим интеграл  \n",
    "$$\n",
    "I=\\int_0^1 \\frac{1}{\\sqrt x}\\,dx.\n",
    "$$\n",
    "По определению несобственного интеграла II рода это\n",
    "$$\n",
    "I=\\lim_{A\\to 0+}\\int_A^1 \\frac{1}{\\sqrt x}\\,dx=\\lim_{A\\to 0+}2(\\sqrt 1- \\sqrt A)=2.\n",
    "$$"
   ]
  },
  {
   "cell_type": "code",
   "execution_count": 89,
   "metadata": {
    "colab": {
     "base_uri": "https://localhost:8080/",
     "height": 37
    },
    "id": "BbI9-5OUDrcF",
    "outputId": "56b17153-3e5b-420f-c90d-d60fa142b301"
   },
   "outputs": [
    {
     "data": {
      "text/latex": [
       "$\\displaystyle 2$"
      ],
      "text/plain": [
       "2"
      ]
     },
     "execution_count": 89,
     "metadata": {},
     "output_type": "execute_result"
    }
   ],
   "source": [
    "integrate(1/Sqrt(x), (x, 0, 1))"
   ]
  },
  {
   "cell_type": "markdown",
   "metadata": {
    "id": "o62QsnlRD5Hx"
   },
   "source": [
    "<a name=\"inf_limit_integral\"></a>\n",
    "### <font color=#02AF02>Бесконечные пределы интегрирования</font>"
   ]
  },
  {
   "cell_type": "markdown",
   "metadata": {
    "id": "3EgNZ4-bEDaw"
   },
   "source": [
    "Вычислим интеграл  \n",
    "$$\n",
    "I = \\int_1^\\infty \\frac{1}{x^2}\\,dx.\n",
    "$$\n",
    "По определению несобственного интеграла I рода это\n",
    "$$\n",
    "I = \\lim_{A\\to \\infty}\\int_1^A \\frac{1}{ x^2}\\,dx = \\lim_{A\\to \\infty}\\left(\\frac{-1}{ x}\\right)\\Bigg|_1^A\n",
    "=\\lim_{A\\to \\infty}\\left(\\frac{-1}{ A}-(-1)\\right) = 1\n",
    "$$"
   ]
  },
  {
   "cell_type": "code",
   "execution_count": 90,
   "metadata": {
    "colab": {
     "base_uri": "https://localhost:8080/",
     "height": 37
    },
    "id": "N3UErRWkEEkQ",
    "outputId": "decf1914-5508-4056-83fd-9e66c012e18b"
   },
   "outputs": [
    {
     "data": {
      "text/latex": [
       "$\\displaystyle 1$"
      ],
      "text/plain": [
       "1"
      ]
     },
     "execution_count": 90,
     "metadata": {},
     "output_type": "execute_result"
    }
   ],
   "source": [
    "integrate(1/x**2, (x, 1, Infinity))"
   ]
  },
  {
   "cell_type": "markdown",
   "metadata": {
    "id": "vIemkmb4-E1M"
   },
   "source": [
    "<a name=\"task_6\"></a>\n",
    "**<font color=#FF5EDD>Задача 6**</font> (1 балл)"
   ]
  },
  {
   "cell_type": "markdown",
   "metadata": {
    "id": "j4qvX1buAipS"
   },
   "source": [
    "Вычислить $\\int_{-\\infty}^1 x^2 2^x \\ dx$, используя формулу интегрирования по частям."
   ]
  },
  {
   "cell_type": "code",
   "execution_count": 91,
   "metadata": {
    "id": "re_dMnd6Sazw"
   },
   "outputs": [
    {
     "data": {
      "text/latex": [
       "$\\displaystyle \\frac{2 \\left(- 2 \\log{\\left(2 \\right)} + \\log{\\left(2 \\right)}^{2} + 2\\right)}{\\log{\\left(2 \\right)}^{3}}$"
      ],
      "text/plain": [
       "2*(-2*log(2) + log(2)**2 + 2)/log(2)**3"
      ]
     },
     "execution_count": 91,
     "metadata": {},
     "output_type": "execute_result"
    }
   ],
   "source": [
    "answer_6 = 0  # В эту переменную вместо нуля запишите ответ\n",
    "\n",
    "x = symbols('x')\n",
    "\n",
    "u = x**2\n",
    "dv = 2**x\n",
    "\n",
    "du = diff(u, x)             \n",
    "v = integrate(dv, x)          \n",
    "\n",
    "part1 = u * v\n",
    "rem = integrate(v * du, x)\n",
    "\n",
    "I = simplify(part1 - rem)\n",
    "\n",
    "answer_6 = simplify(integrate(sp.Derivative(I).doit(), (x, -Infinity, 1)))\n",
    "\n",
    "answer_6"
   ]
  },
  {
   "cell_type": "markdown",
   "metadata": {
    "id": "2sO_bvDuEmzD"
   },
   "source": [
    "<a name=\"upper_limit_integral\"></a>\n",
    "### <font color=#02AF02>С переменным верхним пределом интеграл</font>"
   ]
  },
  {
   "cell_type": "markdown",
   "metadata": {
    "id": "lNc5azGq603x"
   },
   "source": [
    "\n",
    "\n",
    "Пусть задана вещественная функция одной переменной $f(t)$, непрерывная на отрезке $[a,b]$.\n",
    "\n",
    "Пусть $F(x)$ определена на отрезке $[a,b]$ так:\n",
    "$$\n",
    "F(x)=\\int_a^x f(t)\\,dt.\n",
    "$$\n",
    "Такая функция $F(x)$ непрерывна на $[a,b]$, дифференцируема на $(a,b)$ и\n",
    "$$\n",
    "F'(x)=f(x)\\text{ на } (a,b).\n",
    "$$\n",
    "\n",
    "Пусть на отрезке $[a,b]$ задана вещественная интегрируемая на $[a,b]$ функция одной переменной $f(t)$, а $F$ - первообразная функции $f$ на $[a,b]$, т.е.\n",
    "$$\n",
    "f(x)=F'(x),\n",
    "$$\n",
    "тогда\n",
    "$$\n",
    "\\int_a^b f(t)\\,dt=F(b)-F(a).\n",
    "$$\n",
    "\n",
    "Например, пусть  $f(t)=\\cos(t)$, на отрезке $[0,4\\pi]$ тогда\n",
    "$$\n",
    "F(x)=\\int_0^x \\cos(t)\\,dt=\\sin(x).\n",
    "$$\n",
    "\n",
    "Вычислим $F(x)$ с помощью `integrate(f, t)` и построим  графики $F(x)$ и $\\sin(x)$. В легенде выведем значение $F(x)$, в нашем случае это $\\sin(x)$. Чтобы не писать формулу вручную, воспользуемся функцией `latex` в режиме `mode='inline'`."
   ]
  },
  {
   "cell_type": "code",
   "execution_count": 92,
   "metadata": {
    "colab": {
     "base_uri": "https://localhost:8080/",
     "height": 504
    },
    "id": "VpAYA6VY603y",
    "outputId": "687b72cf-08dd-43ae-8414-8feb5a040221"
   },
   "outputs": [
    {
     "data": {
      "image/png": "[encoded data removed]",
      "text/plain": [
       "<Figure size 640x480 with 1 Axes>"
      ]
     },
     "metadata": {},
     "output_type": "display_data"
    },
    {
     "data": {
      "text/plain": [
       "<sympy.plotting.backends.matplotlibbackend.matplotlib.MatplotlibBackend at 0x26896230130>"
      ]
     },
     "execution_count": 92,
     "metadata": {},
     "output_type": "execute_result"
    }
   ],
   "source": [
    "from sympy.abc import x, t\n",
    "F = integrate(Cos(t), (t, 0, x))\n",
    "plot(F, (x, 0, 4*Pi), label=latex(F, mode='inline'), legend=True)"
   ]
  },
  {
   "cell_type": "markdown",
   "metadata": {
    "id": "HjEVLcMA7wvT"
   },
   "source": [
    "Сравним посчитанный интеграл с функцией ответа. Две функции идентичны."
   ]
  },
  {
   "cell_type": "code",
   "execution_count": 93,
   "metadata": {
    "colab": {
     "base_uri": "https://localhost:8080/",
     "height": 504
    },
    "id": "GAWpL6Nr603z",
    "outputId": "eba00535-a2ed-4960-fbb8-f2d7a1a86cca",
    "scrolled": true
   },
   "outputs": [
    {
     "data": {
      "image/png": "[encoded data removed]",
      "text/plain": [
       "<Figure size 640x480 with 1 Axes>"
      ]
     },
     "metadata": {},
     "output_type": "display_data"
    },
    {
     "data": {
      "text/plain": [
       "<sympy.plotting.backends.matplotlibbackend.matplotlib.MatplotlibBackend at 0x268fb7896a0>"
      ]
     },
     "execution_count": 93,
     "metadata": {},
     "output_type": "execute_result"
    }
   ],
   "source": [
    "plot(Sin(x), (x, 0, 4*Pi), label=latex(Sin(x), mode='inline'), legend=True)"
   ]
  },
  {
   "cell_type": "markdown",
   "metadata": {
    "id": "Vz_FaNmL603z"
   },
   "source": [
    "Функция $F(x)$, определенная на отрезке $[a,b]$ по формуле\n",
    "$$\n",
    "F(x)=\\int_a^x f(t)\\,dt,\n",
    "$$\n",
    "выражает площадь между графиком функции $f$ и осью абсцисс на отрезке $[a,x]$ (если график $f$ ниже оси, то площадь считается отрицательной).\n",
    "\n",
    "Вычислим площадь под графиком функции\n",
    "$f(t)=\\frac1t$ на отрезке $[0.1,x]$\n",
    "$$\n",
    "S(x)=\\int_{0.1}^{x} \\frac1t \\,dt=\\ln|t||_{0.1}^x=\\ln x-\\ln 0.1=\\ln x+\\ln 10.\n",
    "$$\n",
    "Построим график функции $S(x)$, выражающей зависимость площади под графиком функции $f(t)$ от $x$ при $x$ из $[1, 2]$.\n",
    "\n",
    "Вначале опишем $S(x)$ в виде функции $S_{func}(x)$, вызовем $S_{func}(x)$, чтобы убедиться в правильности вычислений.\n",
    "\n",
    "Важно: не используйте имена встроенных функций и переменных, переопределение встроенных объектов приведет к непредсказуемым результатам."
   ]
  },
  {
   "cell_type": "code",
   "execution_count": 94,
   "metadata": {
    "colab": {
     "base_uri": "https://localhost:8080/",
     "height": 39
    },
    "id": "w5VRmBSV603z",
    "outputId": "bb812b4a-ecb6-47c2-c13d-8d680760e762"
   },
   "outputs": [
    {
     "data": {
      "text/latex": [
       "$\\displaystyle \\log{\\left(x \\right)} + \\log{\\left(10 \\right)}$"
      ],
      "text/plain": [
       "log(x) + log(10)"
      ]
     },
     "execution_count": 94,
     "metadata": {},
     "output_type": "execute_result"
    }
   ],
   "source": [
    "def S_func(x):\n",
    "    return integrate(1/t, (t, S(1)/10, x))\n",
    "S_func(x)"
   ]
  },
  {
   "cell_type": "markdown",
   "metadata": {
    "id": "DyZMtdAq603z"
   },
   "source": [
    "Построим график $S_{func}(t)$ на  $[1, 2]$"
   ]
  },
  {
   "cell_type": "code",
   "execution_count": 95,
   "metadata": {
    "colab": {
     "base_uri": "https://localhost:8080/",
     "height": 501
    },
    "id": "g9wr5Wvu603z",
    "outputId": "d674e224-f5ed-4ba7-9c26-032c1a4b8305"
   },
   "outputs": [
    {
     "data": {
      "image/png": "[encoded data removed]",
      "text/plain": [
       "<Figure size 640x480 with 1 Axes>"
      ]
     },
     "metadata": {},
     "output_type": "display_data"
    },
    {
     "data": {
      "text/plain": [
       "<sympy.plotting.backends.matplotlibbackend.matplotlib.MatplotlibBackend at 0x268fbe45af0>"
      ]
     },
     "execution_count": 95,
     "metadata": {},
     "output_type": "execute_result"
    }
   ],
   "source": [
    "plot(S_func(x), (x, 1, 2), axis_center=(1, S_func(1)), ylabel='S(x)', legend=True,\n",
    "     label='S(x)=' + latex(S_func(x), mode='inline'))"
   ]
  },
  {
   "cell_type": "markdown",
   "metadata": {
    "id": "4_E6YrgtEssk"
   },
   "source": [
    "<a name=\"param_integral\"></a>\n",
    "### <font color=#02AF02>Кусочно-заданная функция и ее интегрирование</font>"
   ]
  },
  {
   "cell_type": "markdown",
   "metadata": {
    "id": "N2gqBDzn6030"
   },
   "source": [
    "\n",
    "Пусть функция  $f(t)$ определена так:\n",
    "$$\n",
    "f(t)=|t|=\\left\\{\\begin{matrix}\n",
    "-t^2,\\quad t<0\\\\\n",
    "t^2,\\quad t\\ge0\n",
    "\\end{matrix}\\right.\n",
    "$$\n",
    "Для работы с кусочно-заданными функциями в `sympy` используется [`Piecewise`](\n",
    "https://docs.sympy.org/latest/modules/functions/elementary.html?highlight=piecewise#sympy.functions.elementary.piecewise.Piecewise)\n",
    "\n",
    "Определение:\n",
    "\n",
    "`Piecewise((expr, cond), (expr, cond), … )`\n",
    "\n",
    "аргументы `Piecewise` - кортежи `tuple`, состоящие из выражения и условия, при котором функция должна быть равна этому выражению.\n",
    "\n",
    "Условия проверяются слева направо, пока не будет выполнено какое-то условие, тогда функция принимает вычисленное по соответствующему выражению значение. Условия не обязательно должны быть взаимоисключающими, но это желательно, чтобы не было путаницы."
   ]
  },
  {
   "cell_type": "code",
   "execution_count": 96,
   "metadata": {
    "colab": {
     "base_uri": "https://localhost:8080/",
     "height": 504
    },
    "id": "cyfoCUCe6030",
    "outputId": "8ad8b674-239e-40b5-9720-6f4941fb9a31"
   },
   "outputs": [
    {
     "data": {
      "image/png": "[encoded data removed]",
      "text/plain": [
       "<Figure size 640x480 with 1 Axes>"
      ]
     },
     "metadata": {},
     "output_type": "display_data"
    },
    {
     "data": {
      "text/plain": [
       "<sympy.plotting.backends.matplotlibbackend.matplotlib.MatplotlibBackend at 0x268fd613400>"
      ]
     },
     "execution_count": 96,
     "metadata": {},
     "output_type": "execute_result"
    }
   ],
   "source": [
    "f = Piecewise((-t**2, t < 0), (t**2, True))\n",
    "plot(f, (t, -1, 1))"
   ]
  },
  {
   "cell_type": "markdown",
   "metadata": {
    "id": "mzu8OEqg6030"
   },
   "source": [
    "Найдем интеграл этой функции (точнее, выражения) на отрезке $[0,1]$:"
   ]
  },
  {
   "cell_type": "code",
   "execution_count": 97,
   "metadata": {
    "colab": {
     "base_uri": "https://localhost:8080/",
     "height": 51
    },
    "id": "C70Fwo946030",
    "outputId": "00dd8ec6-342f-4aaf-f117-79415aa88933"
   },
   "outputs": [
    {
     "data": {
      "text/latex": [
       "$\\displaystyle \\frac{1}{3}$"
      ],
      "text/plain": [
       "1/3"
      ]
     },
     "execution_count": 97,
     "metadata": {},
     "output_type": "execute_result"
    }
   ],
   "source": [
    "f.integrate((t, 0, 1))"
   ]
  },
  {
   "cell_type": "markdown",
   "metadata": {
    "id": "g7N39rpp6030"
   },
   "source": [
    "Напомним, что применять `integrate` можно и как метод, и как функцию."
   ]
  },
  {
   "cell_type": "code",
   "execution_count": 98,
   "metadata": {
    "colab": {
     "base_uri": "https://localhost:8080/",
     "height": 51
    },
    "id": "mKjXf4rP6030",
    "outputId": "37a7fe84-703b-493c-95f5-3f293a55f5dc"
   },
   "outputs": [
    {
     "data": {
      "text/latex": [
       "$\\displaystyle \\frac{1}{3}$"
      ],
      "text/plain": [
       "1/3"
      ]
     },
     "execution_count": 98,
     "metadata": {},
     "output_type": "execute_result"
    }
   ],
   "source": [
    "integrate(f, (t, 0, 1))"
   ]
  },
  {
   "cell_type": "markdown",
   "metadata": {
    "id": "cWP6gD3tjel5"
   },
   "source": [
    "<a name=\"implication_1\"></a>\n",
    "## **<font color=#EF1A1A>2. Раздел: применение интегралов</font>**"
   ]
  },
  {
   "cell_type": "markdown",
   "metadata": {},
   "source": [
    "<div style=\"border: 2px solid red; padding: 10px; border-radius: 5px;\">\n",
    "\n",
    "Напоминание: в решениях задач ***запрещено*** использовать любые численные методы вычисления интегралов (например: scipy.integrate, метод трапеций, парабол и так далее). Также запрещается использование `max/min` и численных приближений (`N` и `evalf`), не допускаются решения методом перебора.\n",
    "\n",
    "Но есть исключения: в 11 задаче разрешается реализовать численные методы, но запрещено пользоваться готовыми из библиотек. В задачах 18 и 19 разрешается использовать численные приближения (`N` и `evalf`).\n",
    "\n",
    "Во всех заданиях необходимо не только записать, как будет выглядеть интегралы, но и обязательно их вычислить. Они могут сразу не считаться, для этого нужно применить теорию из блока выше (выполнить замену, интегрирование по частям и так далее). Абсолютно все интегралы вычислимы!\n",
    "\n",
    "</div>"
   ]
  },
  {
   "cell_type": "markdown",
   "metadata": {
    "id": "7IYuhAYNjlCl"
   },
   "source": [
    "<a name=\"implication_1_part\"></a>\n",
    "### <font color=#EF1A1A>Применение интегралов для вычисления площади фигуры и длины дуги</font>"
   ]
  },
  {
   "cell_type": "markdown",
   "metadata": {
    "id": "1J-Ty1r3h7dF"
   },
   "source": [
    "<a name=\"implication_1_part_1\"></a>\n",
    "#### <font color=#EF1A1A>Площадь плоской фигуры, ограниченной графиками двух функций</font>"
   ]
  },
  {
   "cell_type": "markdown",
   "metadata": {
    "id": "AnnkK9DM6030"
   },
   "source": [
    "Площадь фигуры, ограниченной графиками функций, равна интегралу разности верхней и нижней функций в пределах от меньшего до большего из двух найденных корней.\n",
    "\n",
    "Например, вычислим площадь фигуры, ограниченной сверху графиком функции\n",
    "$$\n",
    "f(t)=\\left\\{\\begin{matrix}\n",
    "2-t^2,\\quad t<0\\\\\n",
    "\\sqrt{t + 4},\\quad t\\ge0\n",
    "\\end{matrix}\\right.\n",
    "$$\n",
    "а снизу $g(t)=|t|$.\n",
    "\n",
    "Вначале зададим $f(t)$ как кусочную функцию из [раздела](#param_integral) и построим графики $f(t)$ и $g(t)$, для извлечения квадратного корня воспользуемся возведением в степень $1/2$, а для того, чтобы $1/2$ считалась простой дробью, используем  `S.Half.`"
   ]
  },
  {
   "cell_type": "code",
   "execution_count": 99,
   "metadata": {
    "colab": {
     "base_uri": "https://localhost:8080/",
     "height": 504
    },
    "id": "YcHi4NiI6031",
    "outputId": "fe03e046-1332-404c-f728-faca6465957b"
   },
   "outputs": [
    {
     "data": {
      "image/png": "[encoded data removed]",
      "text/plain": [
       "<Figure size 640x480 with 1 Axes>"
      ]
     },
     "metadata": {},
     "output_type": "display_data"
    },
    {
     "data": {
      "text/plain": [
       "<sympy.plotting.backends.matplotlibbackend.matplotlib.MatplotlibBackend at 0x26896392130>"
      ]
     },
     "execution_count": 99,
     "metadata": {},
     "output_type": "execute_result"
    }
   ],
   "source": [
    "f = Piecewise((2 - t**2, t < 0), ((t + 4)**S.Half, t >= 0))\n",
    "g = abs(t)\n",
    "plot(f, g, (t, -2, 3))"
   ]
  },
  {
   "cell_type": "markdown",
   "metadata": {
    "id": "TNT_EKxj6031"
   },
   "source": [
    "Найдем точки пересечения $f(t)$ и $g(t)$"
   ]
  },
  {
   "cell_type": "code",
   "execution_count": 100,
   "metadata": {
    "colab": {
     "base_uri": "https://localhost:8080/",
     "height": 68
    },
    "id": "gliTtpt16031",
    "outputId": "a501ef40-c8b0-4a67-d1ed-92051e7e4d27"
   },
   "outputs": [
    {
     "data": {
      "text/latex": [
       "$\\displaystyle \\left\\{-1, \\frac{1}{2} + \\frac{\\sqrt{17}}{2}\\right\\}$"
      ],
      "text/plain": [
       "{-1, 1/2 + sqrt(17)/2}"
      ]
     },
     "execution_count": 100,
     "metadata": {},
     "output_type": "execute_result"
    }
   ],
   "source": [
    "roots = solveset(Eq(f, g), domain=S.Reals)\n",
    "roots"
   ]
  },
  {
   "cell_type": "markdown",
   "metadata": {
    "id": "OOv4cPI86031"
   },
   "source": [
    "Площадь фигуры, ограниченной графиками функций, равна интегралу разности верхней и нижней функци в пределах от меньшего до большего из двух найденных корней. Поэтому интегрируем разность функций на отрезке от минимального корня до наибольшего."
   ]
  },
  {
   "cell_type": "code",
   "execution_count": 101,
   "metadata": {
    "colab": {
     "base_uri": "https://localhost:8080/",
     "height": 72
    },
    "id": "5nET1zw86031",
    "outputId": "aebe1668-6227-4ef8-e5dc-8b5338d460e5"
   },
   "outputs": [
    {
     "data": {
      "text/latex": [
       "$\\displaystyle - \\frac{25}{6} - \\frac{\\left(\\frac{1}{2} + \\frac{\\sqrt{17}}{2}\\right)^{2}}{2} + \\frac{2 \\left(\\frac{\\sqrt{17}}{2} + \\frac{9}{2}\\right)^{\\frac{3}{2}}}{3}$"
      ],
      "text/plain": [
       "-25/6 - (1/2 + sqrt(17)/2)**2/2 + 2*(sqrt(17)/2 + 9/2)**(3/2)/3"
      ]
     },
     "execution_count": 101,
     "metadata": {},
     "output_type": "execute_result"
    }
   ],
   "source": [
    "S_fg = (f - g).integrate((t, min(roots), max(roots)))\n",
    "S_fg"
   ]
  },
  {
   "cell_type": "markdown",
   "metadata": {
    "id": "txL1OMc46031"
   },
   "source": [
    "Упростим, применим `simplify` как метод:"
   ]
  },
  {
   "cell_type": "code",
   "execution_count": 102,
   "metadata": {
    "colab": {
     "base_uri": "https://localhost:8080/",
     "height": 62
    },
    "id": "lYdup-Pp6031",
    "outputId": "b705ef75-92c5-4dbc-d8ba-a7f9c8ec2885"
   },
   "outputs": [
    {
     "data": {
      "text/latex": [
       "$\\displaystyle - \\frac{25}{6} - \\frac{\\left(1 + \\sqrt{17}\\right)^{2}}{8} + \\frac{\\sqrt{2} \\left(\\sqrt{17} + 9\\right)^{\\frac{3}{2}}}{6}$"
      ],
      "text/plain": [
       "-25/6 - (1 + sqrt(17))**2/8 + sqrt(2)*(sqrt(17) + 9)**(3/2)/6"
      ]
     },
     "execution_count": 102,
     "metadata": {},
     "output_type": "execute_result"
    }
   ],
   "source": [
    "S_fg.simplify()"
   ]
  },
  {
   "cell_type": "markdown",
   "metadata": {
    "id": "CxrHY86S-iV_"
   },
   "source": [
    "<a name=\"task_7\"></a>\n",
    "**<font color=#FF5EDD>Задача 7**</font> (2 балла)"
   ]
  },
  {
   "cell_type": "markdown",
   "metadata": {
    "id": "ZAkGqab4Tmrb"
   },
   "source": [
    "1. Вычислить площадь фигуры, ограниченной графиками функций $f(x) = 2 + x^2$ и  $g(x) = 5 - x^2$.\n",
    "\n",
    "2. Построить графики, найти и обозначить на графике точки пересечения."
   ]
  },
  {
   "cell_type": "code",
   "execution_count": 103,
   "metadata": {
    "executionInfo": {
     "elapsed": 5,
     "status": "ok",
     "timestamp": 1715578317669,
     "user": {
      "displayName": "Алёна Числова",
      "userId": "14782409543211976818"
     },
     "user_tz": -180
    },
    "id": "mDFb7WS8TlRV"
   },
   "outputs": [
    {
     "data": {
      "image/png": "[encoded data removed]",
      "text/plain": [
       "<Figure size 640x480 with 1 Axes>"
      ]
     },
     "metadata": {},
     "output_type": "display_data"
    },
    {
     "data": {
      "text/latex": [
       "$\\displaystyle - 2 \\sqrt{6}$"
      ],
      "text/plain": [
       "-2*sqrt(6)"
      ]
     },
     "execution_count": 103,
     "metadata": {},
     "output_type": "execute_result"
    }
   ],
   "source": [
    "x = Symbol('x')\n",
    "\n",
    "# Нельзя менять переменные f_7, g_7\n",
    "f_7 = 2 + x**2\n",
    "g_7 = 5 - x**2\n",
    "\n",
    "S_7 = 0 # В эту переменную вместо нуля запишите искомую площадь\n",
    "\n",
    "\n",
    "roots = solveset(Eq(f_7, g_7), domain=S.Reals)\n",
    "S_7 = (f_7 - g_7).integrate((x, min(roots), max(roots)))\n",
    "\n",
    "f_func = sp.lambdify(x, f_7, 'numpy')\n",
    "g_func = sp.lambdify(x, g_7, 'numpy')\n",
    "x_vals = np.linspace(-3, 3, 500)\n",
    "\n",
    "f_vals = f_func(x_vals)\n",
    "g_vals = g_func(x_vals)\n",
    "\n",
    "plt.plot(x_vals, f_vals, label=latex(f_7))\n",
    "plt.plot(x_vals, g_vals, label=latex(g_7))\n",
    "for x0 in roots:\n",
    "    y0 = f_func(x0)\n",
    "    plt.scatter(x0, y0, color='red', zorder=5, label='Точка пересечения')\n",
    "\n",
    "plt.title(\"Пересечение\")\n",
    "plt.xlabel(\"x\")\n",
    "plt.ylabel(\"y\")\n",
    "plt.grid(True)\n",
    "plt.legend()\n",
    "plt.show()\n",
    "\n",
    "S_7"
   ]
  },
  {
   "cell_type": "markdown",
   "metadata": {
    "id": "ctFEFS3akZei"
   },
   "source": [
    "<a name=\"implication_1_part_2\"></a>\n",
    "#### <font color=#EF1A1A>Площадь плоской фигуры, ограниченной снизу осью ОХ, сверху параметрически заданной кривой</font>"
   ]
  },
  {
   "cell_type": "markdown",
   "metadata": {
    "id": "82c7ErXlkhvo"
   },
   "source": [
    "Площадь плоской фигуры, ограниченной снизу осью $OX$, сверху параметрически заданной кривой\n",
    "$x=\\phi(t)$, $y=\\psi(t)$, $\\phi(\\alpha)=a$, $\\phi(\\beta)=b$, $\\alpha\\le t\\le\\beta$\n",
    "$$\n",
    "S=\\int_\\alpha^\\beta \\psi(t)\\phi'(t)\\,dt\n",
    "$$\n",
    "\n",
    "Например, окружность с центром в начале координат можно описать  как график параметрически заданной функции\n",
    "$x = \\cos(t)$, $y = \\sin(t)$, $0 \\le t\\le 2\\pi $.\n",
    "\n",
    "Вычислим площадь части круга с центром в начале координат, находящуюся в первой координатной четверти, в этом случае вычисляем площадь фигуры, ограниченной параметрически заданной кривой и осью $OX$ при $0\\le t\\le\\frac\\pi 2$\n",
    "$$\n",
    "S = \\int\\limits_0^{\\frac\\pi 2} \\sin(t)(\\cos(t))'\\,dt = -\\int\\limits_0^\\frac\\pi 2 \\sin^2(t)\\,dt\n",
    "= -\\frac 1 2\\int\\limits_0^{\\frac\\pi 2 }(1 - \\cos(2t))\\,dt = -\\frac 1 2\\left(t - \\frac 1 2\\sin(2t)\\right)\\Big|_0{}^{\\frac\\pi 2}= -\\frac \\pi 4\n",
    "$$\n",
    "Площадь получилась отрицательной, поскольку при увеличении значения параметра $t$ уменьшаются значения $x$. В таком случае нужно поменять пределы интегрирования:\n",
    "$$\n",
    "S = \\int\\limits_{\\frac\\pi 2}^0 \\sin(t)(\\cos(t))'\\,dt = \\frac{\\pi}{4}\n",
    "$$\n",
    "\n",
    "Вообще же пределы интегрирования $\\alpha$ (внизу) и $\\beta$ (вверху) расставляются так, чтобы $\\phi(\\alpha) \\le \\phi(\\beta)$."
   ]
  },
  {
   "cell_type": "code",
   "execution_count": 104,
   "metadata": {
    "colab": {
     "base_uri": "https://localhost:8080/",
     "height": 47
    },
    "id": "rMMTDm6Alfvw",
    "outputId": "dda1889b-5100-4d6e-f886-8ab7b2ed85d0"
   },
   "outputs": [
    {
     "data": {
      "text/latex": [
       "$\\displaystyle \\frac{\\pi}{4}$"
      ],
      "text/plain": [
       "pi/4"
      ]
     },
     "execution_count": 104,
     "metadata": {},
     "output_type": "execute_result"
    }
   ],
   "source": [
    "from sympy.abc import t\n",
    "(Sin(t)*Cos(t).diff(t)).integrate((t, Pi/2, 0))"
   ]
  },
  {
   "cell_type": "markdown",
   "metadata": {
    "id": "jnX2c6r_l6Rd"
   },
   "source": [
    "<a name=\"implication_1_part_3\"></a>\n",
    "#### <font color=#EF1A1A>Площадь плоской фигуры в полярных координатах</font>"
   ]
  },
  {
   "cell_type": "markdown",
   "metadata": {
    "id": "imrMIPnml89F"
   },
   "source": [
    "Площадь фигуры, ограниченной лучами $\\phi = \\phi_1$ и $\\phi = \\phi_2$ и кривой\n",
    "$r = r(\\phi)$, $\\phi_1 \\le \\phi \\le \\phi_2$, вычисляется по формуле\n",
    "$$\n",
    "S = \\frac12\\int\\limits_{\\phi_1}^{\\phi_2}r^2(\\phi)\\,d\\phi.\n",
    "$$\n",
    "\n",
    "Например, вычислим по этой формуле площадь четверти окружности как в примере из раздела выше, в этом случае\n",
    "фигура ограничена лучами $\\phi=0$ и $\\phi=\\pi/2$ и кривой $r=1$, поскольку все точки окружности находятся на расстоянии $1$ от начала координат.\n",
    "$r = 1$, $0 \\le \\phi \\le \\pi/2$,\n",
    "$$\n",
    "S = \\frac12\\int\\limits_0^{\\pi/2}1\\,d\\phi = \\phi\\big|_0^\\frac\\pi 2 = \\frac{\\pi}{4}\n",
    "$$"
   ]
  },
  {
   "cell_type": "code",
   "execution_count": 105,
   "metadata": {
    "colab": {
     "base_uri": "https://localhost:8080/",
     "height": 47
    },
    "id": "s04VbWqGmRFC",
    "outputId": "73a66858-f3ee-4f1c-b9f6-a443b7817a46"
   },
   "outputs": [
    {
     "data": {
      "text/latex": [
       "$\\displaystyle \\frac{\\pi}{4}$"
      ],
      "text/plain": [
       "pi/4"
      ]
     },
     "execution_count": 105,
     "metadata": {},
     "output_type": "execute_result"
    }
   ],
   "source": [
    "phi = S('phi')\n",
    "S(1)/2*integrate(1, (phi, 0, Pi/2))"
   ]
  },
  {
   "cell_type": "markdown",
   "metadata": {
    "id": "MJT4934bowXl"
   },
   "source": [
    "<a name=\"implication_1_part_4\"></a>\n",
    "#### <font color=#EF1A1A>Кривые: класс Curve в Sympy</font>"
   ]
  },
  {
   "cell_type": "markdown",
   "metadata": {
    "id": "3RsqGPkYoz1_"
   },
   "source": [
    "В `Sympy` есть класс кривых [`Curve`](https://docs.sympy.org/latest/modules/geometry/curves.html), кривые описываются параметрическими уравнениями, параметр всегда один, поскольку кривая - одномерный объект.\n",
    "\n",
    "Аргументы `Curve`: `tuple` из выражений для координат $x$ и $y$ точек кривой и `tuple` из параметра и его начального и конечного значений.\n",
    "\n",
    "У кривых есть атрибут длина `length`, воспользуемся этим инструментом для вычисления длины полуокружности для примера, рассматриваемего ранее: окружности радиуса $R$ с центром в точке $(x_0, y_0)$:\n",
    "$$\n",
    "\\left\\{\n",
    "\\begin{matrix}\n",
    "x = x_0 + R\\cos(t)\\\\\n",
    "y = y_0 + R\\sin(t)\n",
    "\\end{matrix}\n",
    "\\right.\n",
    "\\qquad t \\in [0, \\pi]\n",
    "$$"
   ]
  },
  {
   "cell_type": "code",
   "execution_count": 106,
   "metadata": {
    "colab": {
     "base_uri": "https://localhost:8080/",
     "height": 39
    },
    "id": "WYmfDwrSoRAg",
    "outputId": "b49bec71-14ac-4c08-a484-56cd1277d795"
   },
   "outputs": [
    {
     "data": {
      "text/latex": [
       "$\\displaystyle \\pi R$"
      ],
      "text/plain": [
       "pi*R"
      ]
     },
     "execution_count": 106,
     "metadata": {},
     "output_type": "execute_result"
    }
   ],
   "source": [
    "R, x0, y0 = symbols('R x0 y0', positive=True)\n",
    "phi = x0 + R*Cos(t)\n",
    "psi = y0 + R*Sin(t)\n",
    "Curve((phi, psi), (t, 0, Pi)).length"
   ]
  },
  {
   "cell_type": "markdown",
   "metadata": {
    "id": "NYkQ0ohjoVfB"
   },
   "source": [
    "Этот способ работает и для кривой, заданной как $y=f(x)$.\n",
    "Например, вычислим длину дуги параболы $y = x^2$ от $x = 0$ до $x = 2$:"
   ]
  },
  {
   "cell_type": "code",
   "execution_count": 107,
   "metadata": {
    "colab": {
     "base_uri": "https://localhost:8080/",
     "height": 55
    },
    "id": "QOAWPWlgocV7",
    "outputId": "1ac2a150-ce93-4152-9252-3d086078554e"
   },
   "outputs": [
    {
     "data": {
      "text/latex": [
       "$\\displaystyle \\frac{\\operatorname{asinh}{\\left(2 \\right)}}{4} + \\frac{\\sqrt{5}}{2}$"
      ],
      "text/plain": [
       "asinh(2)/4 + sqrt(5)/2"
      ]
     },
     "execution_count": 107,
     "metadata": {},
     "output_type": "execute_result"
    }
   ],
   "source": [
    "from sympy.abc import x\n",
    "Curve((x, x**2), (x, 0, 1)).length"
   ]
  },
  {
   "cell_type": "markdown",
   "metadata": {
    "id": "5qX4VLfYnx-_"
   },
   "source": [
    "<a name=\"implication_1_part_5\"></a>\n",
    "#### <font color=#EF1A1A>Длина дуги кривой $y = f(x)$</font>"
   ]
  },
  {
   "cell_type": "markdown",
   "metadata": {
    "id": "y8BYOnrHmoPu"
   },
   "source": [
    "Длина дуги кривой $y = f(x)$,\n",
    "заключенной между точками с абсциссами $a$ и $b$\n",
    "$$\n",
    "l = \\int_a^b\\sqrt{1+(f'(x))^2}\\,dx\n",
    "$$\n",
    "\n",
    "Например, все та же четверть окружности:\n",
    "$f(x) = \\sqrt{1 - x^2}$, $f'(x) = \\frac1{2\\sqrt{1 - x^2}}(-2x)$,\n",
    "\n",
    "$(f'(x))^2 = \\frac{4x^2}{4(1 - x^2)}=\\frac{x^2}{1 - x^2}$\n",
    "\n",
    "$l = \\int_0^1\\sqrt{1 + \\frac{x^2}{1-x^2}}\\,dx = \\int_0^1\\sqrt{\\frac1{1 - x^2}}\\,dx\n",
    "=\\int_0^1\\frac1{\\sqrt{1 - x^2}}\\,dx = \\arcsin x|_0^1 = \\frac\\pi2$"
   ]
  },
  {
   "cell_type": "code",
   "execution_count": 108,
   "metadata": {
    "colab": {
     "base_uri": "https://localhost:8080/",
     "height": 47
    },
    "id": "Asvw933NnA9Z",
    "outputId": "13a14b20-573d-40c9-9b7a-4b6b93490cb5"
   },
   "outputs": [
    {
     "data": {
      "text/latex": [
       "$\\displaystyle \\frac{\\pi}{2}$"
      ],
      "text/plain": [
       "pi/2"
      ]
     },
     "execution_count": 108,
     "metadata": {},
     "output_type": "execute_result"
    }
   ],
   "source": [
    "from sympy.abc import x\n",
    "(1/((1 - x**2)**S.Half)).integrate((x, 0, 1))"
   ]
  },
  {
   "cell_type": "markdown",
   "metadata": {
    "id": "YvCgjBS3nLgV"
   },
   "source": [
    "Можно провести более универсальные вычисления, используя абстрактную функцию"
   ]
  },
  {
   "cell_type": "code",
   "execution_count": 109,
   "metadata": {
    "colab": {
     "base_uri": "https://localhost:8080/",
     "height": 80
    },
    "id": "SRLEI82anU_g",
    "outputId": "c0c25d01-c8d3-4c07-da6d-20a859d0a58c"
   },
   "outputs": [
    {
     "data": {
      "text/latex": [
       "$\\displaystyle \\int\\limits_{0}^{1} \\sqrt{\\left(\\frac{d}{d x} \\sqrt{1 - x^{2}}\\right)^{2} + 1}\\, dx = \\frac{\\pi}{2}$"
      ],
      "text/plain": [
       "Eq(Integral(sqrt(Derivative(sqrt(1 - x**2), x)**2 + 1), (x, 0, 1)), pi/2)"
      ]
     },
     "execution_count": 109,
     "metadata": {},
     "output_type": "execute_result"
    }
   ],
   "source": [
    "f = Function('f')\n",
    "from sympy.abc import a, b\n",
    "l = ((1+(f(x).diff(x))**2)**S.Half).integrate((x, a, b))\n",
    "l1 = l.subs({f(x): (1 - x**2)**S.Half, a: 0, b: 1})\n",
    "Eq(l1, l1.doit())"
   ]
  },
  {
   "cell_type": "markdown",
   "metadata": {
    "id": "jNRtylMp-SZe"
   },
   "source": [
    "<a name=\"task_8\"></a>\n",
    "**<font color=#FF5EDD>Задача 8**</font> (5 баллов)"
   ]
  },
  {
   "cell_type": "markdown",
   "metadata": {
    "id": "quE5MsXtEOsa"
   },
   "source": [
    "Артем спроектировал американскую горку.\n",
    "\n",
    "Американская горка задана следующей функцией:\n",
    "$$f(x) = \\left\\{\\begin{matrix}\n",
    "40 \\log_{\\frac{1}{2}}(400 - x) + 400, \\quad 0 \\le x < 365.81 \\\\\n",
    "-0.005(x - 650)^2 + 600, \\quad 365.81 \\le x < 934.19 \\\\\n",
    "40 \\log_{\\frac{1}{2}}(x - 900) + 400, \\quad 934.19 \\le x < 1044.252 \\\\\n",
    "80 \\sin(-0.02(x - 110)) + 100, \\quad 1044.252 \\le x < 1540.682 \\\\\n",
    "-0.02(x - 1710)^2 + 700, \\quad 1540.682 \\le x < 1806.642 \\\\\n",
    "\\frac{2000}{x - 1775} + 450, \\quad 1806.642 \\le x < 1900 \\\\\n",
    "-0.01(x - 1900)^2 + 466, \\quad 1900 \\le x < 2049 \\\\\n",
    "80 \\sin(-0.07(x + 7)) + 200, \\quad 2049 \\le x < 2329.283 \\\\\n",
    "5 e^{-0.1(x - 2349)} + 150, \\quad 2329.283 \\le x \\le 2500\n",
    "\\end{matrix}\\right.\n",
    "$$\n",
    "\n",
    "Чтобы новый аттракцион ввели в эксплуатацию, перед Артемом стоят 4 основные задачи:\n",
    "1. Построить график функции, задающей горку. \n",
    "2. Найти длину горки. \n",
    "3. Посчитать количество материала, необходимого для строительства опор, держащих горку. Необходимое количество материала = 55% от площади под горкой. \n",
    "4. Найти самую высокую и самую низкую точки на горке. \n",
    "\n",
    "Помогите Артему справиться с его задачами."
   ]
  },
  {
   "cell_type": "code",
   "execution_count": null,
   "metadata": {
    "id": "WIEQ0qKdn8sI"
   },
   "outputs": [
    {
     "name": "stderr",
     "output_type": "stream",
     "text": [
      "<lambdifygenerated-49>:2: RuntimeWarning: invalid value encountered in log\n",
      "  return select([logical_and.reduce((less(x, 365.81),greater_equal(x, 0))),logical_and.reduce((greater_equal(x, 365.81),less(x, 934.19))),logical_and.reduce((greater_equal(x, 934.19),less(x, 1044.252))),logical_and.reduce((greater_equal(x, 1044.252),less(x, 1540.682))),logical_and.reduce((greater_equal(x, 1540.682),less(x, 1806.642))),logical_and.reduce((greater_equal(x, 1806.642),less(x, 1900))),logical_and.reduce((greater_equal(x, 1900),less(x, 2049))),logical_and.reduce((less(x, 2329.283),greater_equal(x, 2049))),logical_and.reduce((greater_equal(x, 2329.283),less_equal(x, 2500)))], [400 - 57.7078016355585*log(400 - x),600 - 0.005*(x - 650)**2,400 - 57.7078016355585*log(x - 900),100 - 80*sin(0.02*x - 2.2),700 - 0.02*(x - 1710)**2,450 + 2000/(x - 1775),466 - 0.01*(x - 1900)**2,200 - 80*sin(0.07*x + 0.49),150 + 5.18494081542916e+102*exp(-0.1*x)], default=nan)\n"
     ]
    },
    {
     "data": {
      "image/png": "[encoded data removed]",
      "text/plain": [
       "<Figure size 640x480 with 1 Axes>"
      ]
     },
     "metadata": {},
     "output_type": "display_data"
    },
    {
     "data": {
      "text/plain": [
       "[-270.651260980637,\n",
       " 1032.90369670554,\n",
       " 140.491624861956,\n",
       " 1.6*Integral(sqrt(1.0*cos(0.02*x - 2.2)**2 + 0.390625), (x, 1044.252, 1540.682)),\n",
       " -4.03305579998294e+15,\n",
       " -125*gamma(-1/4)*hyper((-1/2, -1/4), (3/4,), -256/15625)/(4*gamma(3/4)) + 7.91050000000001*gamma(-1/4)*hyper((-1/2, -1/4), (3/4,), 3.99028840792179*exp_polar(I*pi))/gamma(3/4),\n",
       " 279.479193048526,\n",
       " 5.6*Integral(sqrt(1.0*cos(0.07*x + 0.49)**2 + 0.0318877551020408), (x, 2049, 2329.283)),\n",
       " 5.18494081542916e+101*Integral(sqrt(3.71973835786852e-204*exp(0.2*x) + 1.0)*exp(-0.1*x), (x, 2329.283, 2500))]"
      ]
     },
     "execution_count": 129,
     "metadata": {},
     "output_type": "execute_result"
    }
   ],
   "source": [
    "x = Symbol('x')\n",
    "\n",
    "# Нельзя менять переменные f1_8, f2_8, f3_8, f4_8, f5_8, f6_8, f7_8, f8_8, f9_8\n",
    "f1_8 = 40*Log(400-x, 1/2) + 400\n",
    "f2_8 = -0.005*(x-650)**2 + 600\n",
    "f3_8 = 40*Log(x-900, 1/2) + 400\n",
    "f4_8 = 80*Sin(-0.02*(x-110)) + 100\n",
    "f5_8 = -0.02*(x-1710)**2 + 700\n",
    "f6_8 = 2000/(x-1775) + 450\n",
    "f7_8 = -0.01*(x-1900)**2 + 466\n",
    "f8_8 = 80*Sin(-0.07*(x+7)) + 200\n",
    "f9_8 = 5*Exp(-0.1*(x-2349)) + 150\n",
    "\n",
    "roller_coaster = Piecewise(\n",
    "    (f1_8, (x >= 0) & (x < 365.81)),\n",
    "    (f2_8, (x >= 365.81) & (x < 934.19)),\n",
    "    (f3_8, (x >= 934.19) & (x < 1044.252)),\n",
    "    (f4_8, (x >= 1044.252) & (x < 1540.682)),\n",
    "    (f5_8, (x >= 1540.682) & (x < 1806.642)),\n",
    "    (f6_8, (x >= 1806.642) & (x < 1900)),\n",
    "    (f7_8, (x >= 1900) & (x < 2049)),\n",
    "    (f8_8, (x >= 2049) & (x < 2329.283)),\n",
    "    (f9_8, (x >= 2329.283) & (x <= 2500)),\n",
    ")\n",
    "\n",
    "pieces = [\n",
    "    (f1_8, 0,       365.81),\n",
    "    (f2_8, 365.81,  934.19),\n",
    "    (f3_8, 934.19,  1044.252),\n",
    "    (f4_8, 1044.252,1540.682),\n",
    "    (f5_8, 1540.682,1806.642),\n",
    "    (f6_8, 1806.642,1900),\n",
    "    (f7_8, 1900,    2049),\n",
    "    (f8_8, 2049,    2329.283),\n",
    "    (f9_8, 2329.283,2500),\n",
    "]\n",
    "\n",
    "length_8 = 0 # В эту переменную вместо нуля запишите длину горки;\n",
    "\n",
    "material_8 = 0 # В эту переменную вместо нуля запишите количество материала, требуемого во 2 пункте;\n",
    "\n",
    "max_point_8 = 0 # В эту переменную вместо нуля запишите x-координату самой высокой точки на горке;\n",
    "\n",
    "min_point_8 = 0 # В эту переменную вместо нуля запишите x-координату самой низкой точки на горке.\n",
    "\n",
    "def arc_length(expr, x_min, x_max):\n",
    "    df = sp.diff(expr, x)\n",
    "    return sp.integrate(sp.sqrt(1 + df**2), (x, x_min, x_max))\n",
    "\n",
    "lengths = []\n",
    "for fi, a, b in pieces:\n",
    "    Li = arc_length(fi, a, b)\n",
    "    lengths.append(Li)\n",
    "\n",
    "length_8 = sp.simplify(sum(lengths))\n",
    "\n",
    "f_func = sp.lambdify(x, roller_coaster, 'numpy')\n",
    "x_vals = np.linspace(0, 2500, 1000)\n",
    "\n",
    "f_vals = f_func(x_vals)\n",
    "\n",
    "plt.plot(x_vals, f_vals, label=\"Горка\")\n",
    "\n",
    "\n",
    "plt.title(\"График функции, задающий горку\")\n",
    "plt.xlabel(\"x\")\n",
    "plt.ylabel(\"y\")\n",
    "plt.grid(True)\n",
    "plt.legend()\n",
    "plt.show()\n",
    "\n",
    "lengths"
   ]
  },
  {
   "cell_type": "markdown",
   "metadata": {
    "id": "4MnZ1khRns66"
   },
   "source": [
    "<a name=\"implication_1_part_6\"></a>\n",
    "#### <font color=#EF1A1A>Длина дуги кривой, заданной параметрически</font>"
   ]
  },
  {
   "cell_type": "markdown",
   "metadata": {
    "id": "ooAh6hn8nlrN"
   },
   "source": [
    "Длина дуги кривой, заданной параметрически\n",
    "$x=\\phi(t)$, $y=\\psi(t)$, $\\alpha\\le t\\le\\beta$, $\\dot{\\phi}^2(t)+\\dot{\\psi}^2(t)>0$\n",
    "$$\n",
    "l=\\int_\\alpha^\\beta\\sqrt{\\dot{\\phi}^2(t)+\\dot{\\psi}^2(t)}\\,dt\n",
    "$$\n",
    "\n",
    "Например, вычислим длину верхней дуги окружности радиуса $R$ с центром в точке $(x_0, y_0)$:\n",
    "$$\n",
    "\\left\\{\n",
    "\\begin{matrix}\n",
    "x = x_0 + R\\cos(t)\\\\\n",
    "y = y_0 + R\\sin(t)\n",
    "\\end{matrix}\n",
    "\\right.\n",
    "\\qquad t \\in [0, \\pi]\n",
    "$$"
   ]
  },
  {
   "cell_type": "code",
   "execution_count": 52,
   "metadata": {
    "colab": {
     "base_uri": "https://localhost:8080/",
     "height": 39
    },
    "id": "_XtekEXYn3u-",
    "outputId": "2eecc06c-9f2f-418a-fc60-82af8e443112"
   },
   "outputs": [
    {
     "data": {
      "text/latex": [
       "$\\displaystyle \\pi R$"
      ],
      "text/plain": [
       "pi*R"
      ]
     },
     "execution_count": 52,
     "metadata": {},
     "output_type": "execute_result"
    }
   ],
   "source": [
    "R, x0, y0 = symbols('R x0 y0', positive=True)\n",
    "phi = x0 + R*Cos(t)\n",
    "psi = y0 + R*Sin(t)\n",
    "((phi.diff(t)**2 + psi.diff(t)**2)**S.Half).integrate((t, 0, Pi))"
   ]
  },
  {
   "cell_type": "markdown",
   "metadata": {
    "id": "FNn4x06loLOW"
   },
   "source": [
    "\n",
    "Вычислим длину кривой, заданной параметрически $x = \\cos t + t\\sin t$, $y = \\sin t - t\\cos t$, $0 \\le t \\le T$."
   ]
  },
  {
   "cell_type": "code",
   "execution_count": 53,
   "metadata": {
    "colab": {
     "base_uri": "https://localhost:8080/",
     "height": 66
    },
    "id": "vy5NWIleoQkW",
    "outputId": "6c340ff9-803a-4d6f-b87a-ed807b99fac2"
   },
   "outputs": [
    {
     "data": {
      "text/latex": [
       "$\\displaystyle \\frac{T^{2} \\sqrt{\\sin^{2}{\\left(T \\right)} + \\cos^{2}{\\left(T \\right)}}}{2}$"
      ],
      "text/plain": [
       "T**2*sqrt(sin(T)**2 + cos(T)**2)/2"
      ]
     },
     "execution_count": 53,
     "metadata": {},
     "output_type": "execute_result"
    }
   ],
   "source": [
    "t, T = symbols('t T', positive=True)\n",
    "x = Cos(t) + t*Sin(t)\n",
    "y = Sin(t) - t*Cos(t)\n",
    "res = ((x.diff(t)**2 + y.diff(t)**2)**S.Half).integrate((t, 0, T))\n",
    "res"
   ]
  },
  {
   "cell_type": "markdown",
   "metadata": {
    "id": "-akIBowjoaeN"
   },
   "source": [
    "Упростим получившиеся выражение"
   ]
  },
  {
   "cell_type": "code",
   "execution_count": 54,
   "metadata": {
    "colab": {
     "base_uri": "https://localhost:8080/",
     "height": 54
    },
    "id": "kQaoWh0roXZO",
    "outputId": "3424d3cc-28eb-44ce-f286-cdc32569eb0c"
   },
   "outputs": [
    {
     "data": {
      "text/latex": [
       "$\\displaystyle \\frac{T^{2}}{2}$"
      ],
      "text/plain": [
       "T**2/2"
      ]
     },
     "execution_count": 54,
     "metadata": {},
     "output_type": "execute_result"
    }
   ],
   "source": [
    "simplify(res)"
   ]
  },
  {
   "cell_type": "markdown",
   "metadata": {
    "id": "A1CyQhUPnaJh"
   },
   "source": [
    "<a name=\"implication_1_part_7\"></a>\n",
    "#### <font color=#EF1A1A>Длина дуги кривой, заданной в полярных координатах</font>"
   ]
  },
  {
   "cell_type": "markdown",
   "metadata": {
    "id": "CN5rQ050qo2P"
   },
   "source": [
    "Пусть кривая задана в полярной системе координат уравнением\n",
    "$r = r(\\phi)$, $r(\\phi)$ непрерывна при $\\phi_1 \\le \\phi \\le \\phi_2$.\n",
    "\n",
    "Длина такой кривой вычисляется по формуле\n",
    "$$\n",
    "l = \\int_{\\phi_1}^{\\phi_2}\\sqrt{r^2(\\phi) + (r'(\\phi))^2}\\,d\\phi.\n",
    "$$\n",
    "\n",
    "Например, кривая задана в полярной системе координат уравнением $r=\\sin\\phi$, $0\\le\\phi\\le\\pi$, на этом интервале функция $\\sin\\phi$ неотрицательна, $r'=\\cos(\\phi)$:\n",
    "$$\n",
    "l = \\int_{0}^{\\pi}\\sqrt{\\sin^2\\phi+\\cos^2\\phi}\\,d\\phi = \\int_{0}^{\\pi}1\\,d\\phi = \\pi.\n",
    "$$\n"
   ]
  },
  {
   "cell_type": "code",
   "execution_count": 55,
   "metadata": {
    "colab": {
     "base_uri": "https://localhost:8080/",
     "height": 39
    },
    "id": "Z4pmEWAEqxwm",
    "outputId": "c3593b62-6ec3-4088-f71a-bc9e3eac5f9a"
   },
   "outputs": [
    {
     "data": {
      "text/latex": [
       "$\\displaystyle \\pi$"
      ],
      "text/plain": [
       "pi"
      ]
     },
     "execution_count": 55,
     "metadata": {},
     "output_type": "execute_result"
    }
   ],
   "source": [
    "phi = S('phi')\n",
    "r = Sin(phi)\n",
    "((r**2 + r.diff(phi)**2)**S.Half).integrate((phi, 0, Pi))"
   ]
  },
  {
   "cell_type": "markdown",
   "metadata": {
    "id": "lTFYifLHq-aS"
   },
   "source": [
    "Приспособим класс кривых `Curve` к этой задаче, для этого переведем из полярных координат в декартовые координаты, а именно\n",
    "$$\n",
    "\\left\\{\n",
    "\\begin{matrix}\n",
    "x=r(\\phi)\\cos\\phi\\\\\n",
    "y=r(\\phi)\\sin\\phi\n",
    "\\end{matrix}\n",
    "\\right.\n",
    "$$"
   ]
  },
  {
   "cell_type": "code",
   "execution_count": 56,
   "metadata": {
    "colab": {
     "base_uri": "https://localhost:8080/",
     "height": 39
    },
    "id": "q1D32QOIrWRO",
    "outputId": "d98ceb11-451d-48ef-957e-8ac73a97262a"
   },
   "outputs": [
    {
     "data": {
      "text/latex": [
       "$\\displaystyle \\pi$"
      ],
      "text/plain": [
       "pi"
      ]
     },
     "execution_count": 56,
     "metadata": {},
     "output_type": "execute_result"
    }
   ],
   "source": [
    "x = r*Sin(phi)\n",
    "y = r*Cos(phi)\n",
    "Curve((x, y), (phi, 0, Pi)).length"
   ]
  },
  {
   "cell_type": "markdown",
   "metadata": {},
   "source": [
    "<a name=\"task_9\"></a>\n",
    "**<font color=#FF5EDD>Задача 9**</font> (1 балл)"
   ]
  },
  {
   "cell_type": "markdown",
   "metadata": {},
   "source": [
    "Вычислить длину кривой, заданной в полярных координатах\n",
    "$r = \\cos (2\\phi$), $\\phi$ от 0 до $2\\pi$. Результат вычислить приближенно до 3 знаков после запятой."
   ]
  },
  {
   "cell_type": "code",
   "execution_count": null,
   "metadata": {},
   "outputs": [],
   "source": [
    "phi = S('phi')\n",
    "\n",
    "# Нельзя менять переменную r_9\n",
    "r_9 = Cos(2*phi)\n",
    "\n",
    "len_curve_9 = 2*Pi # В эту переменную вместо 2pi запишите длину кривой\n",
    "\n",
    "# ღゝ◡╹)ノ♡ Ваш код здесь\n",
    "\n",
    "len_curve_9.evalf(4) # Вычисляем результат приближенно до 3 знаков после запятой"
   ]
  },
  {
   "cell_type": "markdown",
   "metadata": {
    "id": "_fga28_rriWj"
   },
   "source": [
    "<a name=\"implication_2_part\"></a>\n",
    "### <font color=#EF1A1A>Применение интегралов для вычисления объема тела вращения</font>"
   ]
  },
  {
   "cell_type": "markdown",
   "metadata": {
    "id": "Qg99gCJzs0XS"
   },
   "source": [
    "<a name=\"implication_2_part_1\"></a>\n",
    "#### <font color=#EF1A1A>Объем тела вращения вокруг оси ОХ</font>"
   ]
  },
  {
   "cell_type": "markdown",
   "metadata": {
    "id": "caPbVCiCsLfd"
   },
   "source": [
    "Пусть тело ограничено поверхностью, образованной вращением графика функции $f(x)$ вокруг оси $OX$.\n",
    "Объем тела вращения вокруг оси $OX$\n",
    "$$\n",
    "V_{OX}=\\pi\\int\\limits_a^b f^2(x)\\,dx\n",
    "$$\n",
    "\n",
    "Например, вычислим объем тела вращения вокруг $OX$ фигуры, образованной параболой $y = kx - x^2$, $k > 0$ и осью $OX$."
   ]
  },
  {
   "cell_type": "code",
   "execution_count": 57,
   "metadata": {
    "colab": {
     "base_uri": "https://localhost:8080/",
     "height": 80
    },
    "id": "E-CfeLJEsXRh",
    "outputId": "5957e848-3046-469c-fd53-6afbc6b0fc52"
   },
   "outputs": [
    {
     "data": {
      "text/latex": [
       "$\\displaystyle \\pi \\int\\limits_{0}^{k} \\left(k x - x^{2}\\right)^{2}\\, dx = \\frac{\\pi k^{5}}{30}$"
      ],
      "text/plain": [
       "Eq(pi*Integral((k*x - x**2)**2, (x, 0, k)), pi*k**5/30)"
      ]
     },
     "metadata": {},
     "output_type": "display_data"
    }
   ],
   "source": [
    "k = Symbol('k', positive=True)\n",
    "x = Symbol('x')\n",
    "y = k*x - x**2\n",
    "roots = solveset(y, x, domain=S.Reals)\n",
    "a = min(roots)\n",
    "b = max(roots)\n",
    "V_OX = Pi*Integral(y**2, (x, a, b))\n",
    "display(Eq(V_OX, V_OX.doit()))"
   ]
  },
  {
   "cell_type": "markdown",
   "metadata": {
    "id": "EBCfaTUGt15x"
   },
   "source": [
    "<a name=\"implication_2_part_2\"></a>\n",
    "#### <font color=#EF1A1A>Объем тела вращения, ограниченного параметрически заданной кривой</font>"
   ]
  },
  {
   "cell_type": "markdown",
   "metadata": {
    "id": "2I1pipXMtqNo"
   },
   "source": [
    "Пусть тело ограничено кривой, заданной параметрически:\n",
    "$$\n",
    "\\left\\{\n",
    "\\begin{matrix}\n",
    "x = \\phi(t)\\\\\n",
    "y = \\psi(t)\n",
    "\\end{matrix}\n",
    "\\right.\n",
    "\\qquad t \\in [a, b]\n",
    "$$\n",
    "тогда объем тела можно вычислить по формуле\n",
    "$$\n",
    "V_{OX}=\\pi\\int\\limits_a^b \\psi^2(t)\\frac{d\\phi(t)}{dt}\\,dt.\n",
    "$$\n",
    "\n",
    "Например, вычислим объем эллипсоида, получающегося вращением вокруг ОХ эллипса $\\frac{x^2}{a^2}+\\frac{y^2}{b^2}=1$, для этого\n",
    "используем параметрические уравнения эллипса:\n",
    "$$\n",
    "\\left\\{\n",
    "\\begin{matrix}\n",
    "x=a\\cos t\\\\\n",
    "y=b\\sin t\n",
    "\\end{matrix}\n",
    "\\right.\n",
    "$$\n",
    "Заметим, что $\\frac{d(a\\cos t)}{dt}=-a\\sin t\\, dt$, а верхняя дуга эллипса получается при $t$ от 0 до $\\pi$, получим формулу для объема:\n",
    "$$\n",
    "V_{OX}=-a\\pi\\int\\limits_{0}^{\\pi}(b\\sin t)^2\\sin t\\, dt=-ab^2\\pi\\int\\limits_{0}^{\\pi}\\sin^3 t\\, dt\n",
    "$$"
   ]
  },
  {
   "cell_type": "code",
   "execution_count": 58,
   "metadata": {
    "colab": {
     "base_uri": "https://localhost:8080/",
     "height": 79
    },
    "id": "XWSd0tW5t67T",
    "outputId": "719194db-7d2e-40c3-ec12-79d5f5b4009f"
   },
   "outputs": [
    {
     "data": {
      "text/latex": [
       "$\\displaystyle \\pi \\int\\limits_{\\pi}^{0} \\left(- a b^{2} \\sin^{3}{\\left(t \\right)}\\right)\\, dt = \\frac{4 \\pi a b^{2}}{3}$"
      ],
      "text/plain": [
       "Eq(pi*Integral(-a*b**2*sin(t)**3, (t, pi, 0)), 4*pi*a*b**2/3)"
      ]
     },
     "metadata": {},
     "output_type": "display_data"
    }
   ],
   "source": [
    "a, b = symbols('a b', positive=True)\n",
    "t = Symbol('t')\n",
    "x = a*Cos(t)\n",
    "y = b*Sin(t)\n",
    "V_OX = Pi*Integral(y**2*x.diff(t), (t, Pi, 0))\n",
    "display(Eq(V_OX, V_OX.doit()))"
   ]
  },
  {
   "cell_type": "markdown",
   "metadata": {
    "id": "NleFVerAAttx"
   },
   "source": [
    "<a name=\"task_10\"></a>\n",
    "**<font color=#FF5EDD>Задача 10**</font> (2 балла)"
   ]
  },
  {
   "cell_type": "markdown",
   "metadata": {
    "id": "0vQg5yTaZv-K"
   },
   "source": [
    "\n",
    "На космической станции нового поколения инженеры разрабатывают топливный бак новой звездолётной астромды! Его форма получается при вращении траектории астромды вокруг оси $OX$. Параметры траектории заданы уравнениями:  \n",
    "$$\n",
    "\\begin{cases} \n",
    "x = \\cos^5 t \\\\ \n",
    "y = \\sin^5 t \n",
    "\\end{cases}\n",
    "$$ \n",
    "Необходимо определить объем этого бака, чтобы корабль долетел до пункта назначения. \n",
    "\n",
    "Также необходимо рассчитать длину энергетического кабеля, который тянется вдоль кривой, заданной параметрически $x = t^2 $, $y = t^4$ при $0 \\le t \\le \\pi$.  \n",
    "Ошибка в расчётах приведёт к обрыву кабеля и потере энергии на борту."
   ]
  },
  {
   "cell_type": "code",
   "execution_count": null,
   "metadata": {
    "id": "W1YcZbLrZ8xL"
   },
   "outputs": [],
   "source": [
    "t = Symbol('t')\n",
    "\n",
    "Volume_10 = 0 # В эту переменную вместо нуля запишите объем бака\n",
    "\n",
    "length_10 = 0 # В эту переменную вместо нуля запишите длину кабеля\n",
    "\n",
    "# ღゝ◡╹)ノ♡ Ваш код здесь"
   ]
  },
  {
   "cell_type": "markdown",
   "metadata": {
    "id": "p1LR4fPBvRiK"
   },
   "source": [
    "<a name=\"implication_2_part_3\"></a>\n",
    "#### <font color=#EF1A1A>Объем тела вращения в полярной системе координат</font>"
   ]
  },
  {
   "cell_type": "markdown",
   "metadata": {
    "id": "hrx51h5bvKeQ"
   },
   "source": [
    "\n",
    "Объем тела, полученного при вращении сектора, ограниченного дугой кривой $r = F(\\phi)$  и двумя полярными радиусами $\\phi = \\alpha$, $\\phi = \\beta$, вокруг полярной оси:\n",
    "$$\n",
    "V_p = \\frac23\\pi\\int_\\alpha^\\beta r^3\\sin\\phi\\,d\\phi.\n",
    "$$\n",
    "По этой формуле можно вычислять объем тела вращения вокруг полярной оси фигуры, органиченной замкнутой кривой, заданной в полярных координатах.\n",
    "\n",
    "Например, найдем объем тела, которое получается вращением кардиоиды $r = a(1+\\cos\\phi)$ вокруг полярной оси.\n",
    "Вначале построим график кардиоиды в полярной системе координат.\n",
    "В `sympy` нет инструмента для построения таких графиков непосредственно, можно воспользоваться `plot_parametric`, замечая, что\n",
    "$$\n",
    "\\left\\{\n",
    "\\begin{matrix}\n",
    "x = r\\cos\\phi\\\\\n",
    "y = r\\sin\\phi\n",
    "\\end{matrix}\n",
    "\\right.,\n",
    "$$\n",
    "но можно воспользоваться функцией `polar` из `matplotlib.pyplot`, передавая `linspace` значений угла $\\phi$ и функцию $r = F(\\phi)$, а нашем случае $r = a(1+\\cos\\phi)$."
   ]
  },
  {
   "cell_type": "code",
   "execution_count": 59,
   "metadata": {
    "colab": {
     "base_uri": "https://localhost:8080/",
     "height": 476
    },
    "id": "fcEZb-QfvUD5",
    "outputId": "9da8f5dc-71f5-42aa-e776-d39557242dc0"
   },
   "outputs": [
    {
     "data": {
      "text/plain": [
       "[<matplotlib.lines.Line2D at 0x15f01759eb0>]"
      ]
     },
     "execution_count": 59,
     "metadata": {},
     "output_type": "execute_result"
    }
   ],
   "source": [
    "Phi = np.linspace(0, 2*Pi_, 256)\n",
    "R = 2*(1 + Cos_(Phi))\n",
    "plt.polar(Phi, R, color='green', lw=3)"
   ]
  },
  {
   "cell_type": "markdown",
   "metadata": {
    "id": "gdD1UQv3vg30"
   },
   "source": [
    "Верхняя дуга кардиоиды соответствует интервалу $[0, \\pi]$ значений  угла $\\phi$, поэтому пределы интегрирования будут $0$ и $\\pi$"
   ]
  },
  {
   "cell_type": "code",
   "execution_count": 60,
   "metadata": {
    "colab": {
     "base_uri": "https://localhost:8080/",
     "height": 76
    },
    "id": "qPlymo0HviPQ",
    "outputId": "78f0f0e7-58ca-49ba-f333-c8f7f534f2a3"
   },
   "outputs": [
    {
     "data": {
      "text/latex": [
       "$\\displaystyle \\frac{2 \\pi \\int\\limits_{0}^{\\pi} a^{3} \\left(\\cos{\\left(\\phi \\right)} + 1\\right)^{3} \\sin{\\left(\\phi \\right)}\\, d\\phi}{3} = \\frac{8 \\pi a^{3}}{3}$"
      ],
      "text/plain": [
       "Eq(2*pi*Integral(a**3*(cos(phi) + 1)**3*sin(phi), (phi, 0, pi))/3, 8*pi*a**3/3)"
      ]
     },
     "metadata": {},
     "output_type": "display_data"
    }
   ],
   "source": [
    "phi, a = symbols('phi a')\n",
    "r = a*(1 + Cos(phi))\n",
    "V_p = S(2)/3*Pi*Integral(r**3*Sin(phi), (phi, 0, Pi))\n",
    "display(Eq(V_p, V_p.doit()))"
   ]
  },
  {
   "cell_type": "markdown",
   "metadata": {
    "id": "O9O6ohBkv-hD"
   },
   "source": [
    "<a name=\"implication_2_part_4\"></a>\n",
    "#### <font color=#EF1A1A>Объем тела, образованного вращением фигуры, ограниченной кривыми $y_1 = f_1(x)$ и $y_2 = f_2(x)$, $f_1(x) \\le f_2(x)$ и прямыми $x = a$, $x = b$, вокруг оси ОХ</font>"
   ]
  },
  {
   "cell_type": "markdown",
   "metadata": {
    "id": "3HQgy7nRvxhU"
   },
   "source": [
    "Объем тела, образованного вращением фигуры, ограниченной кривыми $y_1 = f_1(x)$ и $y_2 = f_2(x)$, $f_1(x) \\le f_2(x)$ и прямыми $x = a$, $x = b$, вокруг оси $OX$\n",
    "$$\n",
    "V_{OX}=\\pi\\int\\limits_a^b (f_2^2(x) - f_1^2(x))\\,dx.\n",
    "$$\n",
    "\n",
    "Например, вычислим объем тела, получающегося вращением вокруг $OX$ фигуры, ограниченной параболами $y=x^2$ и $y=\\sqrt x$.\n",
    "\n",
    "Вначале изобразим на графике обе кривые и найдем пределы инетгрирования, решая уравнение:"
   ]
  },
  {
   "cell_type": "code",
   "execution_count": 61,
   "metadata": {
    "colab": {
     "base_uri": "https://localhost:8080/",
     "height": 501
    },
    "id": "92HsxDYhwBUN",
    "outputId": "3e9751d7-a27c-4bbc-c00d-9af608f099cc"
   },
   "outputs": [
    {
     "data": {
      "image/png": "[encoded data removed]",
      "text/plain": [
       "<Figure size 640x480 with 1 Axes>"
      ]
     },
     "metadata": {},
     "output_type": "display_data"
    },
    {
     "data": {
      "image/png": "[encoded data removed]",
      "text/plain": [
       "<Figure size 640x480 with 1 Axes>"
      ]
     },
     "metadata": {},
     "output_type": "display_data"
    },
    {
     "name": "stdout",
     "output_type": "stream",
     "text": [
      "0 1\n"
     ]
    }
   ],
   "source": [
    "x = Symbol('x')\n",
    "y1 = x**2\n",
    "y2 = x**S.Half\n",
    "plot(y1, y2, (x, 0, 1.2), aspect_ratio=(1, 1))\n",
    "roots = solve(Eq(y1, y2))\n",
    "a = min(roots)\n",
    "b = max(roots)\n",
    "print(a, b)"
   ]
  },
  {
   "cell_type": "markdown",
   "metadata": {
    "id": "nivZCl9UwOLL"
   },
   "source": [
    "Объем тела вращения получится как разность объемов тел, полученных вращением кадждой функции отдельно, интегрирование ведется от $0$ до $1$. Воспользуемся линейностью интеграла:"
   ]
  },
  {
   "cell_type": "code",
   "execution_count": 62,
   "metadata": {
    "colab": {
     "base_uri": "https://localhost:8080/",
     "height": 80
    },
    "id": "iMBI3nWbwPjG",
    "outputId": "16693659-80c2-47b7-aeeb-7520ec0041ad"
   },
   "outputs": [
    {
     "data": {
      "text/latex": [
       "$\\displaystyle \\pi \\int\\limits_{0}^{1} \\left(- x^{4} + x\\right)\\, dx = \\frac{3 \\pi}{10}$"
      ],
      "text/plain": [
       "Eq(pi*Integral(-x**4 + x, (x, 0, 1)), 3*pi/10)"
      ]
     },
     "metadata": {},
     "output_type": "display_data"
    }
   ],
   "source": [
    "V_OX = Pi*Integral(y2**2-y1**2, (x, a, b))\n",
    "display(Eq(V_OX, V_OX.doit()))"
   ]
  },
  {
   "cell_type": "markdown",
   "metadata": {
    "id": "76DouuC7wjx_"
   },
   "source": [
    "<a name=\"implication_2_part_5\"></a>\n",
    "#### <font color=#EF1A1A>Объем тела вращения вокруг оси ОY</font>"
   ]
  },
  {
   "cell_type": "markdown",
   "metadata": {
    "id": "lnq_Jpwnws0y"
   },
   "source": [
    "**Случай 1**\n",
    "\n",
    "Пусть тело ограничено поверхностью, полученной при вращении вокруг оси $OY$ фигуры, ограниченной графиком $f(x)$  при $x$ от $a$ до $b$ и прямыми $x = a$ и $x = b$.\n",
    "Этот объем вычисляется по формуле\n",
    "$$\n",
    "V_{OY} = 2\\pi\\int\\limits_a^b xf(x)\\,dx\n",
    "$$\n",
    "\n",
    "Например, вычислим объем тела, получающегося вращением вокруг $OY$ фигуры, ограниченной полукубической параболой $y^2 = x^3$, осью $OX$ и прямой $x = 1$. Вначале построим график фигуры, которую вращают около оси $OY$."
   ]
  },
  {
   "cell_type": "code",
   "execution_count": 63,
   "metadata": {
    "colab": {
     "base_uri": "https://localhost:8080/",
     "height": 504
    },
    "id": "L8JHyuDwxWMO",
    "outputId": "9bc3b4c9-3601-4741-8cd7-52047d95037a"
   },
   "outputs": [
    {
     "data": {
      "image/png": "[encoded data removed]",
      "text/plain": [
       "<Figure size 640x480 with 1 Axes>"
      ]
     },
     "metadata": {},
     "output_type": "display_data"
    },
    {
     "data": {
      "text/plain": [
       "<sympy.plotting.backends.matplotlibbackend.matplotlib.MatplotlibBackend at 0x15f00fb3890>"
      ]
     },
     "execution_count": 63,
     "metadata": {},
     "output_type": "execute_result"
    }
   ],
   "source": [
    "x, y = symbols('x y')\n",
    "plot_implicit(And(y**2 < x**3, x < 1), (x, 0, 1.2), (y, 0, 1.2))"
   ]
  },
  {
   "cell_type": "code",
   "execution_count": 64,
   "metadata": {
    "colab": {
     "base_uri": "https://localhost:8080/",
     "height": 80
    },
    "id": "zK98t0vMxtWb",
    "outputId": "e4978754-3577-4f57-dda6-a8a1c6a2e285"
   },
   "outputs": [
    {
     "data": {
      "text/latex": [
       "$\\displaystyle 2 \\pi \\int\\limits_{0}^{1} x^{\\frac{5}{2}}\\, dx = \\frac{4 \\pi}{7}$"
      ],
      "text/plain": [
       "Eq(2*pi*Integral(x**(5/2), (x, 0, 1)), 4*pi/7)"
      ]
     },
     "metadata": {},
     "output_type": "display_data"
    }
   ],
   "source": [
    "y1 = x**(S(3)/2)\n",
    "V_OY = 2*Pi*Integral(x*y1, (x, 0, 1))\n",
    "display(Eq(V_OY, V_OY.doit()))"
   ]
  },
  {
   "cell_type": "markdown",
   "metadata": {
    "id": "zykYonXTDI7G"
   },
   "source": [
    "<a name=\"task_11\"></a>\n",
    "**<font color=#FF5EDD>Задача 11**</font> (3 бонусных балла)"
   ]
  },
  {
   "cell_type": "markdown",
   "metadata": {
    "id": "NJQRUpN0vehS"
   },
   "source": [
    "На столе лежит тарелка. известно, что она образована поверхностью, полученной вращением вокруг оси $OY$ фигуры, ограниченной графиком функции $f(x) = \\sin(x^2)$ при $x$ от $-1.253$ до $1.253$ и прямыми $x = -1.253$ и $x = 1.253$.\n",
    "\n",
    "Мы хотим до краёв заполнить эту тарелку водой. Для этого вычислите её объём.\n",
    "\n",
    "Вычисления нужно производить оптимальным методом. При проверке максимальный балл будет ставиться, если:\n",
    "1.   Код работает быстро.\n",
    "2.   Ответ получен с максимальной точностью.\n",
    "\n",
    "Кстати, плюсом будет нарисовать графики зависимости скорости и точности от метода нахождения интеграла:)\n",
    "\n",
    "В этой задаче разрешается реализовать численные методы, но запрещено пользоваться готовыми из библиотек."
   ]
  },
  {
   "cell_type": "code",
   "execution_count": null,
   "metadata": {
    "id": "QeXUnAJ-veUL"
   },
   "outputs": [],
   "source": [
    "x = Symbol('x')\n",
    "\n",
    "# Нельзя менять переменные f_11, x1_11, x2_11\n",
    "f_11 = Sin(x**2)\n",
    "x1_11 = -1.253\n",
    "x2_11 = 1.253\n",
    "\n",
    "answer_11 = 0 # В эту переменную вместо нуля запишите искомый объём\n",
    "\n",
    "# ღゝ◡╹)ノ♡ Ваш код здесь"
   ]
  },
  {
   "cell_type": "markdown",
   "metadata": {
    "id": "MKSpQBNWx2fZ"
   },
   "source": [
    "**Случай 2**\n",
    "\n",
    "Пусть тело ограничено поверхностью, полученной при вращении вокруг оси $OY$ фигуры, ограниченной графиком $f(x)$  и  прямыми $y = c$ и $y = d$.\n",
    "Этот объем вычисляется по формуле\n",
    "$$\n",
    "V_{OY}=\\pi\\int\\limits_c^d x^2(y)\\,dy\n",
    "$$\n",
    "\n",
    "Например, вычислим объем тела, получающегося вращением вокруг $OY$ фигуры, ограниченной полукубической параболой $y^2=x^3$, осью $OY$ и прямой $y=1$.\n",
    "\n",
    "На графике изобразим фигуру, вращающуюся около оси $OY$ в примере из случая 1"
   ]
  },
  {
   "cell_type": "code",
   "execution_count": 65,
   "metadata": {
    "colab": {
     "base_uri": "https://localhost:8080/",
     "height": 504
    },
    "id": "xilnll5Gx8kj",
    "outputId": "5ec8cf64-879a-4cf6-bb5a-d62e9048ec14"
   },
   "outputs": [
    {
     "data": {
      "image/png": "[encoded data removed]",
      "text/plain": [
       "<Figure size 640x480 with 1 Axes>"
      ]
     },
     "metadata": {},
     "output_type": "display_data"
    },
    {
     "data": {
      "text/plain": [
       "<sympy.plotting.backends.matplotlibbackend.matplotlib.MatplotlibBackend at 0x15f017a1d00>"
      ]
     },
     "execution_count": 65,
     "metadata": {},
     "output_type": "execute_result"
    }
   ],
   "source": [
    "x, y = symbols('x y')\n",
    "plot_implicit(And(y**2 > x**3, y < 1), (x, 0, 1.2), (y, 0, 1.2))"
   ]
  },
  {
   "cell_type": "code",
   "execution_count": 66,
   "metadata": {
    "colab": {
     "base_uri": "https://localhost:8080/",
     "height": 80
    },
    "id": "f8MHPmFBykDb",
    "outputId": "4a51ccb6-1850-4829-c15e-caa7b624b131"
   },
   "outputs": [
    {
     "data": {
      "text/latex": [
       "$\\displaystyle \\pi \\int\\limits_{0}^{1} y^{\\frac{4}{3}}\\, dy = \\frac{3 \\pi}{7}$"
      ],
      "text/plain": [
       "Eq(pi*Integral(y**(4/3), (y, 0, 1)), 3*pi/7)"
      ]
     },
     "metadata": {},
     "output_type": "display_data"
    }
   ],
   "source": [
    "x = y**(S(2)/3)\n",
    "V_OY = Pi*Integral(x**2, (y, 0, 1))\n",
    "display(Eq(V_OY, V_OY.doit()))"
   ]
  },
  {
   "cell_type": "markdown",
   "metadata": {
    "id": "PvwXlcyczdLn"
   },
   "source": [
    "<a name=\"implication_2_part_6\"></a>\n",
    "#### <font color=#EF1A1A>Объем тела, образованного вращением фигуры, ограниченной кривыми $y_1 = f_1(x)$ и $y_2 = f_2(x)$, $f_1(x) \\le f_2(x)$ и прямыми $x = a$, $x = b$, вокруг оси ОY</font>\n"
   ]
  },
  {
   "cell_type": "markdown",
   "metadata": {
    "id": "b3Cg9_D1ytHM"
   },
   "source": [
    "Объем тела, образованного вращением фигуры, ограниченной кривыми $y_1 = f_1(x)$ и $y_2 = f_2(x)$, $f_1(x) \\le f_2(x)$ и прямыми $x = a$, $x = b$, вокруг оси $OY$\n",
    "$$\n",
    "V_{OY}=2\\pi\\int\\limits_a^b x(f_2(x) - f_1(x))\\,dx.\n",
    "$$\n",
    "\n",
    "Например, вычислим объем тела, получающегося вращением вокруг $OY$ фигуры, ограниченной параболами $y=x^2$ и $y=\\sqrt x$ (этот же пример был рассмотрен в разделе: Объем тела, образованного вращением фигуры, ограниченной кривыми $y_1 = f_1(x)$ и $y_2 = f_2(x)$, $f_1(x) \\le f_2(x)$ и прямыми $x = a$, $x = b$, вокруг оси $OX$).\n",
    "\n",
    "В силу симметрии вращаемой фигуры относительно биссектрисы первой координатной четверти результат будет такой же, как в [разделе](#implication_2_part_4)."
   ]
  },
  {
   "cell_type": "code",
   "execution_count": 67,
   "metadata": {
    "colab": {
     "base_uri": "https://localhost:8080/",
     "height": 80
    },
    "id": "99MACz-8zjKb",
    "outputId": "20a191d6-ea8c-464f-af54-7758f98c63c9"
   },
   "outputs": [
    {
     "data": {
      "text/latex": [
       "$\\displaystyle 2 \\pi \\int\\limits_{0}^{1} x \\left(\\sqrt{x} - x^{2}\\right)\\, dx = \\frac{3 \\pi}{10}$"
      ],
      "text/plain": [
       "Eq(2*pi*Integral(x*(sqrt(x) - x**2), (x, 0, 1)), 3*pi/10)"
      ]
     },
     "metadata": {},
     "output_type": "display_data"
    }
   ],
   "source": [
    "x = Symbol('x')\n",
    "y1 = x**2\n",
    "y2 = x**S.Half\n",
    "V_OY = 2*Pi*Integral(x*(y2 - y1), (x, 0, 1))\n",
    "display(Eq(V_OY, V_OY.doit()))"
   ]
  },
  {
   "cell_type": "markdown",
   "metadata": {
    "id": "WjKylqQ8DZ_V"
   },
   "source": [
    "<a name=\"task_12\"></a>\n",
    "**<font color=#FF5EDD>Задача 12**</font> (2 балла)"
   ]
  },
  {
   "cell_type": "markdown",
   "metadata": {
    "id": "sBZw1GZ2a9O2"
   },
   "source": [
    "Перед вами стоит следующая задача: найти объем сердца.\n",
    "\n",
    "Сердце человека образовано вращением фигуры вокруг $OY$, ограниченной кривыми $y_1$ и $y_2$ и прямыми $x = x_1$ и $x = x_2$."
   ]
  },
  {
   "cell_type": "code",
   "execution_count": 68,
   "metadata": {
    "id": "LxmczBRpa-gR"
   },
   "outputs": [],
   "source": [
    "t = Symbol('t')\n",
    "\n",
    "def Solution_12(y_1_12, y_2_12, x_1_12, x_2_12):\n",
    "\n",
    "  answer_12 = 0 # В эту переменную вместо нуля запишите искомый объём крови\n",
    "\n",
    "  # ღゝ◡╹)ノ♡ Ваш код здесь\n",
    "\n",
    "  return answer_12"
   ]
  },
  {
   "cell_type": "code",
   "execution_count": 69,
   "metadata": {
    "colab": {
     "base_uri": "https://localhost:8080/"
    },
    "id": "82psfot9bBVV",
    "outputId": "6a1e35d6-3be9-4cda-d5fd-35b994026481"
   },
   "outputs": [
    {
     "name": "stdout",
     "output_type": "stream",
     "text": [
      "BAD\n"
     ]
    }
   ],
   "source": [
    "#TEST CASE\n",
    "\n",
    "t = Symbol('t')\n",
    "\n",
    "try:\n",
    "  assert Solution_12(t**2, t**S.Half, 0, 1) == 3 * Pi / 10\n",
    "  print(\"GOOD\")\n",
    "except:\n",
    "  print(\"BAD\")"
   ]
  },
  {
   "cell_type": "markdown",
   "metadata": {
    "id": "tduWB6znz9Du"
   },
   "source": [
    "<a name=\"implication_2_part_7\"></a>\n",
    "#### <font color=#EF1A1A>Вычисление объема тела вращения по известным поперечным сечениям</font>"
   ]
  },
  {
   "cell_type": "markdown",
   "metadata": {
    "id": "8JUp8GOhzvmb"
   },
   "source": [
    "\n",
    "Пусть $S = S(x)$ - площадь сечения тела плоскостью, перпендикулярной к некоторой прямой (которую принимаем за ось $OX$), в точке с абсциссой $x$, то объем этого тела равен\n",
    "$$\n",
    "V = \\int_{x_1}^{x_2} S(x)\\, dx,\n",
    "$$\n",
    "где $x_1$ и $x_2$ - абсциссы крайних сечений тела.\n",
    "\n",
    "Например, определим объем клина, отсеченного от круглого цилиндра плоскостью, проходящей через диаметр основания и наклоненной к основанию под углом $\\alpha$. Радиус основания равен $R$.\n",
    "\n",
    "Примем за ось $OX$ диаметр основания, по которому секущая плоскость пересекает основание, и за ось $OY$ диаметр основания, ему перпендикулярный. Уравнение окружности основания будет $x^2 + y^2 = R^2$.\n",
    "Площадь сечения ABC, отстоящего на расстоянии $x$ от начала координат O, равна\n",
    "$$\n",
    "S(x) = S(ABC) = \\frac12 AB\\cdot BC = \\frac12 y^2{\\rm tg} \\alpha.\n",
    "$$\n",
    "Учтем, что $y^2 = R^2 - x^2$.\n",
    "Абсциссы крайних точек сечений тела в нашем случае  $-R$ и $R$."
   ]
  },
  {
   "cell_type": "code",
   "execution_count": 70,
   "metadata": {
    "colab": {
     "base_uri": "https://localhost:8080/",
     "height": 54
    },
    "id": "MYRldi_vz_iW",
    "outputId": "6f6478a3-5621-4cad-f5ab-682b4ddc9f2d"
   },
   "outputs": [
    {
     "data": {
      "text/latex": [
       "$\\displaystyle \\frac{2 R^{3} \\tan{\\left(\\alpha \\right)}}{3}$"
      ],
      "text/plain": [
       "2*R**3*tan(alpha)/3"
      ]
     },
     "execution_count": 70,
     "metadata": {},
     "output_type": "execute_result"
    }
   ],
   "source": [
    "x, alpha, R = symbols('x, alpha, R')\n",
    "y2 = R**2 - x**2\n",
    "(Tan(alpha)*y2/2).integrate((x, -R, R))"
   ]
  },
  {
   "cell_type": "markdown",
   "metadata": {
    "id": "254prrMNDgyi"
   },
   "source": [
    "<a name=\"task_13\"></a>\n",
    "**<font color=#FF5EDD>Задача 13**</font> (2 балла)"
   ]
  },
  {
   "cell_type": "markdown",
   "metadata": {
    "id": "DriI74K3rYRX"
   },
   "source": [
    "На предприятии по производству мебели была изготовлена тумбочка в форме круглого цилиндра с диаметром основания $a$ см. У дизайнера возникла идея сделать из тумбочки необычную модель. Для этого он разрезал тумбочку по плоскости, проходящей через диаметр основания. Плоскость наклоненена под углом $\\alpha$ градусов к основанию. Получились две новых тумбочки (верхняя и нижняя часть исходной).\n",
    "\n",
    "Ваша задача: найти объем отсеченной нижней части."
   ]
  },
  {
   "cell_type": "code",
   "execution_count": 71,
   "metadata": {
    "id": "oD--mLzAdTL-"
   },
   "outputs": [],
   "source": [
    "x, alpha, R = symbols('x, alpha, R')\n",
    "\n",
    "def Solution_13(a_13: int, alpha_13: int) -> float:\n",
    "\n",
    "  answer_13 = 0 # В эту переменную вместо нуля запишите искомый объём\n",
    "\n",
    "  # ღゝ◡╹)ノ♡ Ваш код здесь\n",
    "\n",
    "  return answer_13"
   ]
  },
  {
   "cell_type": "code",
   "execution_count": 72,
   "metadata": {
    "colab": {
     "base_uri": "https://localhost:8080/"
    },
    "id": "Qdxj_sMBd0ZQ",
    "outputId": "96277ba0-48c7-48c7-9665-ee9dc8ce6f49"
   },
   "outputs": [
    {
     "name": "stdout",
     "output_type": "stream",
     "text": [
      "BAD\n"
     ]
    }
   ],
   "source": [
    "#TEST CASE\n",
    "\n",
    "try:\n",
    "  assert abs(Solution_13(50, 30) - 10416.6666666667*Tan(30)) < 0.0001\n",
    "  print(\"GOOD\")\n",
    "except:\n",
    "  print(\"BAD\")"
   ]
  },
  {
   "cell_type": "markdown",
   "metadata": {},
   "source": [
    "<a name=\"task_14\"></a>\n",
    "**<font color=#FF5EDD>Задача 14**</font> (1 балл)"
   ]
  },
  {
   "cell_type": "markdown",
   "metadata": {},
   "source": [
    "1. Вычислить объем тела, образованного вращением около оси $OY$ фигуры, ограниченной параболой $y^4 = 2px$, прямой $x=\\frac{p}{2}$, $p > 0$ - параметр и осью $OY$. (Вращаемая фигура симметрична относительно оси $OX$, поэтому можно вычислить объем фигуры, получающейся вращением верхней ветви параболы, а затем этот объем удвоить).\n",
    "2. С помощью `plot_implicit` изобразить вращаемую фигуру."
   ]
  },
  {
   "cell_type": "code",
   "execution_count": null,
   "metadata": {},
   "outputs": [],
   "source": [
    "x = Symbol('x')\n",
    "p = Symbol('p', positive=True)\n",
    "\n",
    "# Нельзя менять переменную x_from_14\n",
    "x_from_14 = p/2\n",
    "\n",
    "res_14 = 0 # В эту переменную вместо нуля запишите искомый объём тела\n",
    "\n",
    "# ღゝ◡╹)ノ♡ Ваш код здесь"
   ]
  },
  {
   "cell_type": "markdown",
   "metadata": {},
   "source": [
    "<a name=\"task_15\"></a>\n",
    "**<font color=#FF5EDD>Задача 15**</font> (1 балл)"
   ]
  },
  {
   "cell_type": "markdown",
   "metadata": {},
   "source": [
    "Вычислить объем тела, образованного вращением около оси $OY$ фигуры, ограниченной прямыми $y = \\sqrt{x}$, $y=5$ и $y = e^2$."
   ]
  },
  {
   "cell_type": "code",
   "execution_count": null,
   "metadata": {},
   "outputs": [],
   "source": [
    "x = Symbol('x')\n",
    "\n",
    "# Нельзя менять переменные y_1_15, y_2_15, y_3_15\n",
    "y_1_15 = x**(0.5)\n",
    "y_2_15 = 5\n",
    "y_3_15 = Exp(2)\n",
    "\n",
    "answer_15 = 0 # В эту переменную вместо нуля запишите искомый объём\n",
    "\n",
    "# ღゝ◡╹)ノ♡ Ваш код здесь"
   ]
  },
  {
   "cell_type": "markdown",
   "metadata": {
    "id": "SIwRFZM0LPbB"
   },
   "source": [
    "<a name=\"implication_3_part\"></a>\n",
    "### <font color=#EF1A1A>Применение интегралов для вычисления площади поверхности тела вращения</font>"
   ]
  },
  {
   "cell_type": "markdown",
   "metadata": {
    "id": "20uWlOHpLUNC"
   },
   "source": [
    "<a name=\"implication_3_part_1\"></a>\n",
    "#### <font color=#EF1A1A>Площадь поверхности, образованной вращением вокруг оси ОХ дуги гладкой кривой $y=f(x)$</font>"
   ]
  },
  {
   "cell_type": "markdown",
   "metadata": {
    "id": "S_MwpH8-Kbtq"
   },
   "source": [
    "Площадь поверхности, образованной вращением вокруг оси $OX$\n",
    "дуги гладкой кривой $y=f(x)$ между точками $x=a$ и $x=b$\n",
    "$$\n",
    "S_{OX}=2\\pi\\int\\limits_a^b f(x)\\sqrt{1+(f'(x))^2}\\,dx\n",
    "$$\n",
    "\n",
    "Например, вычислим площадь поверхности образованной вращением вокруг $OX$ петли кривой $9y^2 = x(3 - x)^2$.\n",
    "\n",
    "Посмотрим на график:"
   ]
  },
  {
   "cell_type": "code",
   "execution_count": 73,
   "metadata": {
    "colab": {
     "base_uri": "https://localhost:8080/",
     "height": 504
    },
    "id": "c32-1jR8Lczi",
    "outputId": "5005215c-197f-4485-b744-86fdf33b4930"
   },
   "outputs": [
    {
     "data": {
      "image/png": "[encoded data removed]",
      "text/plain": [
       "<Figure size 640x480 with 1 Axes>"
      ]
     },
     "metadata": {},
     "output_type": "display_data"
    },
    {
     "data": {
      "text/plain": [
       "<sympy.plotting.backends.matplotlibbackend.matplotlib.MatplotlibBackend at 0x15f14daffe0>"
      ]
     },
     "execution_count": 73,
     "metadata": {},
     "output_type": "execute_result"
    }
   ],
   "source": [
    "x = Symbol('x', positive=True)\n",
    "y = Symbol('y')\n",
    "Eq1 = Eq(9*y**2, x*(3 - x)**2)\n",
    "plot_implicit(Eq1, (x, 0, 4), (y, -1, 1))"
   ]
  },
  {
   "cell_type": "markdown",
   "metadata": {
    "id": "EHvi9bNCL4zU"
   },
   "source": [
    "Выразим $y$ из уравнения, определяющего неявно заданную функцию:"
   ]
  },
  {
   "cell_type": "code",
   "execution_count": 74,
   "metadata": {
    "colab": {
     "base_uri": "https://localhost:8080/",
     "height": 54
    },
    "id": "5aKXRleLL5yh",
    "outputId": "798a30d1-64d6-4e33-df9f-b0f8e8dd42b0"
   },
   "outputs": [
    {
     "data": {
      "text/latex": [
       "$\\displaystyle \\frac{\\sqrt{x} \\left(3 - x\\right)}{3}$"
      ],
      "text/plain": [
       "sqrt(x)*(3 - x)/3"
      ]
     },
     "metadata": {},
     "output_type": "display_data"
    }
   ],
   "source": [
    "y1 = solve(Eq1, y)[0]\n",
    "display(y1)"
   ]
  },
  {
   "cell_type": "code",
   "execution_count": 75,
   "metadata": {
    "colab": {
     "base_uri": "https://localhost:8080/",
     "height": 113
    },
    "id": "6eCE-mKOMAwL",
    "outputId": "39a904e3-fd82-4cf6-8b51-9be0ad843383"
   },
   "outputs": [
    {
     "data": {
      "text/latex": [
       "$\\displaystyle 2 \\pi \\int\\limits_{0}^{3} \\frac{\\sqrt{x} \\left(3 - x\\right) \\sqrt{\\left(- \\frac{\\sqrt{x}}{3} + \\frac{3 - x}{6 \\sqrt{x}}\\right)^{2} + 1}}{3}\\, dx$"
      ],
      "text/plain": [
       "2*pi*Integral(sqrt(x)*(3 - x)*sqrt((-sqrt(x)/3 + (3 - x)/(6*sqrt(x)))**2 + 1)/3, (x, 0, 3))"
      ]
     },
     "metadata": {},
     "output_type": "display_data"
    },
    {
     "data": {
      "text/latex": [
       "$\\displaystyle 3 \\pi$"
      ],
      "text/plain": [
       "3*pi"
      ]
     },
     "metadata": {},
     "output_type": "display_data"
    }
   ],
   "source": [
    "S_OX1 = 2*Pi*Integral(y1*(1 + y1.diff(x)**2)**S.Half, (x, 0, 3))\n",
    "res1 = S_OX1.doit()\n",
    "display(S_OX1, res1)"
   ]
  },
  {
   "cell_type": "markdown",
   "metadata": {
    "id": "Bur-0Nl3MSVH"
   },
   "source": [
    "Результат вычисления интеграла нужно упростить, пользуемся `simplify`. В случае применения `simplify` как метода не обязательно импортировать `simplify` из `Sympy`. В нашем случае этот метод изначально импортирован из `Sympy`."
   ]
  },
  {
   "cell_type": "code",
   "execution_count": 76,
   "metadata": {
    "colab": {
     "base_uri": "https://localhost:8080/",
     "height": 39
    },
    "id": "oVhpqlYMMZ-D",
    "outputId": "0dc4537a-e8cb-4377-e19b-52ee4bd884ed"
   },
   "outputs": [
    {
     "data": {
      "text/latex": [
       "$\\displaystyle 3 \\pi$"
      ],
      "text/plain": [
       "3*pi"
      ]
     },
     "execution_count": 76,
     "metadata": {},
     "output_type": "execute_result"
    }
   ],
   "source": [
    "res1.simplify()"
   ]
  },
  {
   "cell_type": "markdown",
   "metadata": {
    "id": "FUjB-FAsFKaQ"
   },
   "source": [
    "<a name=\"task_16\"></a>\n",
    "**<font color=#FF5EDD>Задача 16**</font> (3 балла)"
   ]
  },
  {
   "cell_type": "markdown",
   "metadata": {
    "id": "gJxJJWHDqgzW"
   },
   "source": [
    "*Надуть воздушный шарик и получить 10 по математическому анализу.\n",
    "В один прекрасный день Вы пришли на лекцию по математическому анализу и Вам говорят: кто надует больше всех воздушный шарик получит 10 по математическому анализу, однако если шарик лопнет, то Вы автоматом выбываете из соревнования!*\n",
    "\n",
    "Воздушный шарик образован поверхностью, образованной вращением вокруг $OX$ петли кривой $9y^2 = x(a - x)^2$ между точками $x = 0$, $x = a$.\n",
    "\n",
    "Найдите этот коэффициент $a$, а также максимальный объём шарика, при условии, что его максимальная площадь поверхности составляет $5\\pi$."
   ]
  },
  {
   "cell_type": "code",
   "execution_count": 77,
   "metadata": {
    "id": "5NeNJpTTaZvS"
   },
   "outputs": [],
   "source": [
    "x, a = symbols('x a')\n",
    "\n",
    "a_16 = 0 # В эту переменную вместо нуля запишите коэффициент а;\n",
    "\n",
    "V_16 = 0 # В эту переменную вместо нуля запишите объем шарика\n",
    "\n",
    "# ღゝ◡╹)ノ♡ Ваш код здесь"
   ]
  },
  {
   "cell_type": "markdown",
   "metadata": {
    "id": "_UwwDefkNSot"
   },
   "source": [
    "<a name=\"implication_3_part_2\"></a>\n",
    "#### <font color=#EF1A1A>Площадь поверхности, образованной вращением вокруг оси ОХ дуги гладкой параметрически заданной кривой</font>\n"
   ]
  },
  {
   "cell_type": "markdown",
   "metadata": {
    "id": "5owSBio7M9WL"
   },
   "source": [
    "Площадь поверхности, образованной вращением вокруг оси $OX$\n",
    "дуги гладкой параметрически заданной кривой\n",
    "$$\n",
    "\\left\\{\n",
    "\\begin{matrix}\n",
    "x = \\phi(t)\\\\\n",
    "y = \\psi(t)\n",
    "\\end{matrix}\n",
    "\\right.\n",
    "$$\n",
    "между точками $t=a$ и $t=b$ выражается формулой\n",
    "$$\n",
    "S_{OX}=2\\pi\\int\\limits_a^b \\phi(t)\\sqrt{\\phi'(t)^2+\\psi'(t)^2}\\,dt\n",
    "$$\n",
    "\n",
    "Например, вычислим площадь поверхности, образованной вращением  одной арки циклоиды\n",
    "$$\n",
    "\\left\\{\n",
    "\\begin{matrix}\n",
    "x = a(t - \\sin t)\\\\\n",
    "y = a(1 - \\cos t)\n",
    "\\end{matrix}\n",
    "\\right.,\\qquad a>0\n",
    "$$\n",
    "около оси $OX$."
   ]
  },
  {
   "cell_type": "code",
   "execution_count": 78,
   "metadata": {
    "colab": {
     "base_uri": "https://localhost:8080/",
     "height": 546
    },
    "id": "653dZDepNuC3",
    "outputId": "5c674f6b-1f4d-45e0-e9b9-f14380410a59"
   },
   "outputs": [
    {
     "data": {
      "image/png": "[encoded data removed]",
      "text/plain": [
       "<Figure size 640x480 with 1 Axes>"
      ]
     },
     "metadata": {},
     "output_type": "display_data"
    },
    {
     "data": {
      "text/latex": [
       "$\\displaystyle \\int\\limits_{0}^{2 \\pi} 2 \\sqrt{2} \\pi a^{2} \\left(1 - \\cos{\\left(t \\right)}\\right)^{\\frac{3}{2}}\\, dt$"
      ],
      "text/plain": [
       "Integral(2*sqrt(2)*pi*a**2*(1 - cos(t))**(3/2), (t, 0, 2*pi))"
      ]
     },
     "metadata": {},
     "output_type": "display_data"
    }
   ],
   "source": [
    "t = Symbol('t')\n",
    "a = Symbol('a', positive=True)\n",
    "x2 = a*(t - Sin(t))\n",
    "y2 = a*(1 - Cos(t))\n",
    "plot_parametric(x2.subs(a, 1), y2.subs(a, 1), (t, 0, 2*Pi))\n",
    "S_OX2 = Integral(2*Pi*(y2*(x2.diff(t)**2 + y2.diff(t)**2)**S.Half).simplify(), (t, 0, 2*Pi))\n",
    "display(S_OX2)"
   ]
  },
  {
   "cell_type": "markdown",
   "metadata": {
    "id": "oYqW4KxXN5Cz"
   },
   "source": [
    "`sympy` не удается вычислить этот интеграл, поэтому вручную проведем замену $1 - \\cos(t) = 2\\sin^2(t/2)$, замена осуществляется с помощью `replace`, это не замена переменной в интеграле, переменная остается все той же."
   ]
  },
  {
   "cell_type": "code",
   "execution_count": 79,
   "metadata": {
    "colab": {
     "base_uri": "https://localhost:8080/",
     "height": 80
    },
    "id": "ZmLFPyvfN587",
    "outputId": "c1c41c06-1ee5-4a56-b5d6-5db6e0efcfa3"
   },
   "outputs": [
    {
     "data": {
      "text/latex": [
       "$\\displaystyle \\int\\limits_{0}^{2 \\pi} 2 \\sqrt{2} \\pi a^{2} \\left(1 - \\cos{\\left(t \\right)}\\right)^{\\frac{3}{2}}\\, dt = \\frac{64 \\pi a^{2}}{3}$"
      ],
      "text/plain": [
       "Eq(Integral(2*sqrt(2)*pi*a**2*(1 - cos(t))**(3/2), (t, 0, 2*pi)), 64*pi*a**2/3)"
      ]
     },
     "metadata": {},
     "output_type": "display_data"
    }
   ],
   "source": [
    "res = S_OX2.function.replace(1 - Cos(t), 2*Sin(t/2)**2)\n",
    "display(Eq(S_OX2,res.integrate((t, 0, 2*Pi))))"
   ]
  },
  {
   "cell_type": "markdown",
   "metadata": {
    "id": "bpGVm-nlQR19"
   },
   "source": [
    "<a name=\"implication_3_part_3\"></a>\n",
    "#### <font color=#EF1A1A>Поверхность тела вращения в полярной системе координат</font>"
   ]
  },
  {
   "cell_type": "markdown",
   "metadata": {
    "id": "vtQ_vHSAQHJW"
   },
   "source": [
    "Площадь поверхности тела, полученного при вращении сектора, ограниченного дугой кривой $r = F(\\phi)$  и двумя полярными радиусами $\\phi = \\alpha$, $\\phi = \\beta$, вокруг полярной оси:\n",
    "$$\n",
    "S_\\phi = 2\\pi\\int_\\alpha^\\beta r\\sin\\phi\\sqrt{r^2 +(r')^2}\\,d\\phi.\n",
    "$$\n",
    "\n",
    "Например, вычислим площадь поверхности, образованной вращением кардиоиды $r=2a(1+\\cos\\phi)$ вокруг полярной оси.\n",
    "\n",
    "Здесь применим `simplify` как функцию, в общем случае ее нужно импортировать из `Sympy` или вызывать как `sympy.simplify`. Но в нашем случае она импортирована в самом начале."
   ]
  },
  {
   "cell_type": "code",
   "execution_count": 80,
   "metadata": {
    "colab": {
     "base_uri": "https://localhost:8080/",
     "height": 77
    },
    "id": "_Pg0LrrMQkYs",
    "outputId": "c13f9449-d461-43a2-bc98-8a6b2a0dedfd"
   },
   "outputs": [
    {
     "data": {
      "text/latex": [
       "$\\displaystyle \\int\\limits_{0}^{\\pi} 8 \\sqrt{2} \\pi a^{2} \\left(\\cos{\\left(\\phi \\right)} + 1\\right)^{\\frac{3}{2}} \\sin{\\left(\\phi \\right)}\\, d\\phi = \\frac{128 \\pi a^{2}}{5}$"
      ],
      "text/plain": [
       "Eq(Integral(8*sqrt(2)*pi*a**2*(cos(phi) + 1)**(3/2)*sin(phi), (phi, 0, pi)), 128*pi*a**2/5)"
      ]
     },
     "metadata": {},
     "output_type": "display_data"
    }
   ],
   "source": [
    "phi = Symbol('phi')\n",
    "a = Symbol('a', positive=True)\n",
    "r = 2*a*(1 + Cos(phi))\n",
    "S_p = Integral(simplify(2*Pi*r*Sin(phi)*(r**2 + r.diff(phi)**2)**S.Half), (phi, 0, Pi))\n",
    "display(Eq(S_p, S_p.doit()))"
   ]
  },
  {
   "cell_type": "markdown",
   "metadata": {
    "id": "kntap4lhOGnw"
   },
   "source": [
    "<a name=\"implication_3_part_4\"></a>\n",
    "#### <font color=#EF1A1A>Площадь поверхности, образованной вращением вокруг оси ОY дуги гладкой кривой $y=f(x)$</font>"
   ]
  },
  {
   "cell_type": "markdown",
   "metadata": {
    "id": "FVfc3oQvOIwb"
   },
   "source": [
    "Площадь поверхности, образованной вращением вокруг оси $OY$\n",
    "дуги гладкой кривой $y = f(x)$ между точками $y = c$ и $y = d$\n",
    "$$\n",
    "S_{OY}=2\\pi\\int\\limits_a^b x(y)\\sqrt{1+(x'(y))^2}\\,dy\n",
    "$$\n",
    "\n",
    "Например, найдем площадь поверхности вращения астроиды\n",
    "$x^{2/3} + y^{2/3} = a^{2/3}$\n",
    "вокруг оси $OY$.\n",
    "\n",
    "Вначале выразим $x$ из уравнения с помощью `solve`:"
   ]
  },
  {
   "cell_type": "code",
   "execution_count": 81,
   "metadata": {
    "colab": {
     "base_uri": "https://localhost:8080/",
     "height": 90
    },
    "id": "e7VnmiWyOTRZ",
    "outputId": "b59969bf-0c91-44f4-d591-b58b0edd92d4"
   },
   "outputs": [
    {
     "data": {
      "text/latex": [
       "$\\displaystyle - \\left(a^{\\frac{2}{3}} - y^{\\frac{2}{3}}\\right)^{\\frac{3}{2}}$"
      ],
      "text/plain": [
       "-(a**(2/3) - y**(2/3))**(3/2)"
      ]
     },
     "metadata": {},
     "output_type": "display_data"
    },
    {
     "data": {
      "text/latex": [
       "$\\displaystyle \\left(a^{\\frac{2}{3}} - y^{\\frac{2}{3}}\\right)^{\\frac{3}{2}}$"
      ],
      "text/plain": [
       "(a**(2/3) - y**(2/3))**(3/2)"
      ]
     },
     "metadata": {},
     "output_type": "display_data"
    }
   ],
   "source": [
    "a = Symbol('a', positive=True)\n",
    "x, y = symbols('x y', real=True)\n",
    "Eq4 = Eq(x**(S(2)/3) + y**(S(2)/3), a**(S(2)/3))\n",
    "x1, x2 = solve(Eq4, x)\n",
    "display(x1, x2)"
   ]
  },
  {
   "cell_type": "markdown",
   "metadata": {
    "id": "582XCxVXObIq"
   },
   "source": [
    "Для облегчения дальнейших вычислений раскроем скобки в подынтегральном выражении с помощью `expand `(применили как метод):"
   ]
  },
  {
   "cell_type": "code",
   "execution_count": 82,
   "metadata": {
    "colab": {
     "base_uri": "https://localhost:8080/",
     "height": 82
    },
    "id": "zrtjyliLObwe",
    "outputId": "5cefaa39-385f-485b-ee91-cf54bc84d85b"
   },
   "outputs": [
    {
     "data": {
      "text/latex": [
       "$\\displaystyle 4 \\pi \\int\\limits_{0}^{a} \\left(- \\sqrt[3]{a} \\sqrt[3]{y} \\sqrt{a^{\\frac{2}{3}} - y^{\\frac{2}{3}}} + \\frac{a \\sqrt{a^{\\frac{2}{3}} - y^{\\frac{2}{3}}}}{\\sqrt[3]{y}}\\right)\\, dy$"
      ],
      "text/plain": [
       "4*pi*Integral(-a**(1/3)*y**(1/3)*sqrt(a**(2/3) - y**(2/3)) + a*sqrt(a**(2/3) - y**(2/3))/y**(1/3), (y, 0, a))"
      ]
     },
     "execution_count": 82,
     "metadata": {},
     "output_type": "execute_result"
    }
   ],
   "source": [
    "S_OY4 = 2*2*Pi*Integral((x2*(1 + x2.diff(y)**2)**S.Half).expand(), (y, 0, a))\n",
    "S_OY4"
   ]
  },
  {
   "cell_type": "code",
   "execution_count": 83,
   "metadata": {
    "colab": {
     "base_uri": "https://localhost:8080/",
     "height": 82
    },
    "id": "7rjzCq1xOjp4",
    "outputId": "b6bd41f7-403b-48c3-da24-3c5badf2655a"
   },
   "outputs": [
    {
     "data": {
      "text/latex": [
       "$\\displaystyle 4 \\pi \\int\\limits_{0}^{a} \\left(- \\sqrt[3]{a} \\sqrt[3]{y} \\sqrt{a^{\\frac{2}{3}} - y^{\\frac{2}{3}}} + \\frac{a \\sqrt{a^{\\frac{2}{3}} - y^{\\frac{2}{3}}}}{\\sqrt[3]{y}}\\right)\\, dy = \\frac{12 \\pi a^{2}}{5}$"
      ],
      "text/plain": [
       "Eq(4*pi*Integral(-a**(1/3)*y**(1/3)*sqrt(a**(2/3) - y**(2/3)) + a*sqrt(a**(2/3) - y**(2/3))/y**(1/3), (y, 0, a)), 12*pi*a**2/5)"
      ]
     },
     "metadata": {},
     "output_type": "display_data"
    }
   ],
   "source": [
    "res4 = S_OY4.doit()\n",
    "display(Eq(S_OY4, res4))"
   ]
  },
  {
   "cell_type": "markdown",
   "metadata": {
    "id": "PcRAOfVrO5nV"
   },
   "source": [
    "<a name=\"implication_3_part_5\"></a>\n",
    "#### <font color=#EF1A1A>Площадь поверхности, образованной вращением вокруг произвольной оси</font>"
   ]
  },
  {
   "cell_type": "markdown",
   "metadata": {
    "id": "rRTn4SPfOs7b"
   },
   "source": [
    "При вычислении поверхности тела вращения относительно вертикальной оси $x = a$, образованного вращением дуги гладкой кривой $y = f(x)$ между точками $y = c$ и $y = d$, нужно из $x$ вычитать $a$ в интеграле:\n",
    "$$\n",
    "S_{x=a} = 2\\pi\\int\\limits_a^b (a - x(y))\\sqrt{1 + (x'(y))^2}\\,dy\n",
    "$$\n",
    "\n",
    "Например, найдём площадь поверхности, образованной вращением\n",
    "$y^2 = x$ вокруг оси $x = 1$. Заметим, что поверхность симметрична относительно оси $OX$, поэтому можно удвоить интеграл от $0$ до $1$, вместо интегрирования от $-1$ до $1$."
   ]
  },
  {
   "cell_type": "code",
   "execution_count": 84,
   "metadata": {
    "colab": {
     "base_uri": "https://localhost:8080/",
     "height": 80
    },
    "id": "RuqOegEWO8I7",
    "outputId": "2dcfbd3c-9bf8-4061-9d56-f7e7cb5f92dd"
   },
   "outputs": [
    {
     "data": {
      "text/latex": [
       "$\\displaystyle 4 \\pi \\int\\limits_{0}^{1} \\left(1 - y^{2}\\right) \\sqrt{4 y^{2} + 1}\\, dy = 4 \\pi \\left(\\frac{17 \\operatorname{asinh}{\\left(2 \\right)}}{64} + \\frac{7 \\sqrt{5}}{32}\\right)$"
      ],
      "text/plain": [
       "Eq(4*pi*Integral((1 - y**2)*sqrt(4*y**2 + 1), (y, 0, 1)), 4*pi*(17*asinh(2)/64 + 7*sqrt(5)/32))"
      ]
     },
     "metadata": {},
     "output_type": "display_data"
    }
   ],
   "source": [
    "y = Symbol('y', real=True)\n",
    "x5 = y**2\n",
    "S5 = 2*2*Pi*Integral(((1 - x5)*(1 + x5.diff(y)**2)**S.Half), (y, 0, 1))\n",
    "display(Eq(S5, S5.doit()))"
   ]
  },
  {
   "cell_type": "markdown",
   "metadata": {
    "id": "8kNccluUPVni"
   },
   "source": [
    "Рассмотрим другой пример: найдём площадь поверхности, образованной вращением одной арки циклоиды\n",
    "$$\n",
    "\\left\\{\n",
    "\\begin{matrix}\n",
    "x = a(t-\\sin t)\\\\\n",
    "y = a(1-\\cos t)\n",
    "\\end{matrix}\n",
    "\\right.\n",
    "$$\n",
    "вокруг ее оси симметрии, график можно увидеть в [следующем разделе](#implication_3_part_2).\n",
    "\n",
    "Поверхность образуется вращением левой половины дуги вокруг прямой $x = \\pi a$. Принимая $y$ за независимую переменную и учитывая, что ось вращения сдвинута относительно координатной оси $OY$ на расстояние $\\pi a$, имеем:\n",
    "$$\n",
    "S_{x = \\pi a} = 2\\pi\\int\\limits_0^\\pi (\\pi a - x(t))\\sqrt{x'^2(t) + y'^2(t)}\\,dt\n",
    "$$"
   ]
  },
  {
   "cell_type": "code",
   "execution_count": 85,
   "metadata": {
    "colab": {
     "base_uri": "https://localhost:8080/",
     "height": 77
    },
    "id": "r5o2l_yuPhQu",
    "outputId": "f396318e-b9fc-4460-f68a-074979d51056"
   },
   "outputs": [
    {
     "data": {
      "text/latex": [
       "$\\displaystyle \\int\\limits_{0}^{\\pi} 2 \\pi a^{2} \\sqrt{2 - 2 \\cos{\\left(t \\right)}} \\left(- t + \\sin{\\left(t \\right)} + \\pi\\right)\\, dt$"
      ],
      "text/plain": [
       "Integral(2*pi*a**2*sqrt(2 - 2*cos(t))*(-t + sin(t) + pi), (t, 0, pi))"
      ]
     },
     "metadata": {},
     "output_type": "display_data"
    }
   ],
   "source": [
    "t = Symbol('t')\n",
    "a = Symbol('a', positive=True)\n",
    "x6 = a*(t - Sin(t))\n",
    "y6 = a*(1 - Cos(t))\n",
    "S6 = Integral(2*Pi*((Pi*a - x6)*(x6.diff(t)**2 + y6.diff(t)**2)**S.Half).simplify(), (t, 0, Pi))\n",
    "display(S6)"
   ]
  },
  {
   "cell_type": "markdown",
   "metadata": {
    "id": "jtR4yogSPlyD"
   },
   "source": [
    "Укажем вручную, что $\\sqrt{2 - 2\\cos(t)} = 2\\sin(t/2)$, используем replace"
   ]
  },
  {
   "cell_type": "code",
   "execution_count": 86,
   "metadata": {
    "colab": {
     "base_uri": "https://localhost:8080/",
     "height": 77
    },
    "id": "U4Yap_zuPmqU",
    "outputId": "65389359-f962-47bd-8928-d2763f673a35"
   },
   "outputs": [
    {
     "data": {
      "text/latex": [
       "$\\displaystyle \\int\\limits_{0}^{\\pi} 4 \\pi a^{2} \\left(- t + \\sin{\\left(t \\right)} + \\pi\\right) \\sin{\\left(\\frac{t}{2} \\right)}\\, dt$"
      ],
      "text/plain": [
       "Integral(4*pi*a**2*(-t + sin(t) + pi)*sin(t/2), (t, 0, pi))"
      ]
     },
     "execution_count": 86,
     "metadata": {},
     "output_type": "execute_result"
    }
   ],
   "source": [
    "S7 = S6.replace((2 - 2*Cos(t))**S.Half, 2*Sin(t/2))\n",
    "S7"
   ]
  },
  {
   "cell_type": "code",
   "execution_count": 87,
   "metadata": {
    "colab": {
     "base_uri": "https://localhost:8080/",
     "height": 77
    },
    "id": "6LiuKPonPr1H",
    "outputId": "294b9142-6319-47a5-b5b2-ad6e1be7c22a"
   },
   "outputs": [
    {
     "data": {
      "text/latex": [
       "$\\displaystyle \\int\\limits_{0}^{\\pi} 2 \\pi a^{2} \\sqrt{2 - 2 \\cos{\\left(t \\right)}} \\left(- t + \\sin{\\left(t \\right)} + \\pi\\right)\\, dt = - \\frac{32 \\pi a^{2}}{3} + 8 \\pi^{2} a^{2}$"
      ],
      "text/plain": [
       "Eq(Integral(2*pi*a**2*sqrt(2 - 2*cos(t))*(-t + sin(t) + pi), (t, 0, pi)), -32*pi*a**2/3 + 8*pi**2*a**2)"
      ]
     },
     "metadata": {},
     "output_type": "display_data"
    }
   ],
   "source": [
    "display(Eq(S6, S7.doit()))"
   ]
  },
  {
   "cell_type": "markdown",
   "metadata": {
    "id": "YdRsjd2LZqPy"
   },
   "source": [
    "<a name=\"task_17\"></a>\n",
    "**<font color=#FF5EDD>Задача 17**</font> (1 балл)"
   ]
  },
  {
   "cell_type": "markdown",
   "metadata": {
    "id": "JNTp7wWSpLdk"
   },
   "source": [
    "Вычислить площадь поверхности образованной вращением вокруг $OX$ заданной следующей кривой\n",
    "$$\n",
    "\\left\\{\n",
    "\\begin{matrix}\n",
    "x=a(\\cos t-\\cos 2t)\\\\\n",
    "y=a(\\sin t-\\sin 2t)\n",
    "\\end{matrix}\n",
    "\\right.\n",
    "$$"
   ]
  },
  {
   "cell_type": "code",
   "execution_count": null,
   "metadata": {
    "id": "J5CoO-ydorh-"
   },
   "outputs": [],
   "source": [
    "t, a = symbols('t a', positive=True)\n",
    "\n",
    "# Нельзя менять переменные x_17, y_17\n",
    "x_17 = a*(Cos(t) - Cos(2*t))\n",
    "y_17 = a*(Sin(t) - Sin(2*t))\n",
    "\n",
    "area_17 = 0 # В эту переменную вместо нуля запишите площадь поверхности\n",
    "\n",
    "# ღゝ◡╹)ノ♡ Ваш код здесь"
   ]
  },
  {
   "cell_type": "markdown",
   "metadata": {},
   "source": [
    "<a name=\"task_18\"></a>\n",
    "**<font color=#FF5EDD>Задача 18**</font> (3 балла)"
   ]
  },
  {
   "cell_type": "markdown",
   "metadata": {},
   "source": [
    "Ветер изменяет направление форсунки дождевателя, орошающего сектор. Под действием ветра граница орошаемой зоны в полярных координатах задаётся функцией:  \n",
    "$$\n",
    "r(\\theta) = 2 + \\cos(2\\theta), \\quad \\theta \\in \\left[0, \\frac{\\pi}{2}\\right],\n",
    "$$  \n",
    "где: $ r(\\theta) $ — расстояние от центра дождевателя до границы зоны орошения; $ \\theta $ — полярный угол\n",
    "\n",
    "Требуется найти:  \n",
    "1. Площадь орошаемой зоны.  \n",
    "2. Определить длину ограждения, которое необходимо установить по границе зоны.  \n",
    "3. Угол $\\theta$, при котором зона орошения максимально удалена от центра, и определить это расстояние.\n",
    "\n",
    "В этой задаче разрешается использовать численные приближения (`N` и `evalf`)."
   ]
  },
  {
   "cell_type": "code",
   "execution_count": null,
   "metadata": {},
   "outputs": [],
   "source": [
    "A_18 = 0  # В эту переменную вместо нуля запишите искомую площадь\n",
    "\n",
    "fence_18 = 0 # В эту переменную вместо нуля запишите искомую длину\n",
    "\n",
    "angle_18 = 0 # В эту переменную вместо нуля запишите искомый угол\n",
    "\n",
    "# ღゝ◡╹)ノ♡ Ваш код здесь"
   ]
  },
  {
   "cell_type": "markdown",
   "metadata": {},
   "source": [
    "<a name=\"task_19\"></a>\n",
    "**<font color=#FF5EDD>Задача 19**</font> (3 балла)"
   ]
  },
  {
   "cell_type": "markdown",
   "metadata": {
    "id": "Ad7vUc6xA8eY"
   },
   "source": [
    "Проектируют пешеходный мост с тремя арочными пролетами, расположенными параллельно вдоль оси $OZ$. Ширина каждого пролёта 3 метра (по оси $OZ$)\n",
    ".\n",
    "\n",
    "Мост задается следующей функцией:\n",
    "$$ y(x) = \n",
    "\\begin{cases} \n",
    "0.5\\left(1 - \\frac{(x+11.5)^2}{6.25}\\right), & -14 \\leq x < -9 \\\\\n",
    "0.9\\cos\\left(\\frac{\\pi x}{18}\\right), & -9 \\leq x \\leq 9 \\\\\n",
    "0.5\\sin\\left(\\frac{\\pi (x-9)}{12}\\right), & 9 < x \\leq 21 \\\\\n",
    "0, & \\text{иначе}\n",
    "\\end{cases}\n",
    "$$\n",
    "\n",
    "Требуется найти:\n",
    "1. Общую длину светодиодной ленты, если она проложена вдоль всех трёх арок.\n",
    "2. Суммарную площадь вертикальных профилей арок для забора декоративной плитки.\n",
    "3. Общий объём пространства под мостом.\n",
    "\n",
    "В этой задаче разрешается использовать численные приближения (`N` и `evalf`).\n"
   ]
  },
  {
   "cell_type": "code",
   "execution_count": null,
   "metadata": {
    "id": "UB0Bg-uQBZ5i"
   },
   "outputs": [],
   "source": [
    "length_19 = 0  # В эту переменную вместо нуля запишите искомую длину\n",
    "\n",
    "square_19 = 0 # В эту переменную вместо нуля запишите искомую площадь\n",
    "\n",
    "vol_19 = 0 # В эту переменную вместо нуля запишите искомый объем\n",
    "\n",
    "# ღゝ◡╹)ノ♡ Ваш код здесь"
   ]
  }
 ],
 "metadata": {
  "colab": {
   "collapsed_sections": [
    "J9jQja2MiB-e",
    "4Me3CFrtw-cu",
    "zcmDD4qFR8FQ",
    "1J-Ty1r3h7dF",
    "ctFEFS3akZei",
    "jnX2c6r_l6Rd",
    "MJT4934bowXl"
   ],
   "provenance": []
  },
  "kernelspec": {
   "display_name": "Python 3",
   "language": "python",
   "name": "python3"
  },
  "language_info": {
   "codemirror_mode": {
    "name": "ipython",
    "version": 3
   },
   "file_extension": ".py",
   "mimetype": "text/x-python",
   "name": "python",
   "nbconvert_exporter": "python",
   "pygments_lexer": "ipython3",
   "version": "3.9.13"
  }
 },
 "nbformat": 4,
 "nbformat_minor": 4
}
