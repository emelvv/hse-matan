{
 "cells": [
  {
   "cell_type": "markdown",
   "metadata": {
    "id": "BzhHcQVgwYsV"
   },
   "source": [
    "***Студент: Емельянов Владимир Михайлович***\n",
    "\n",
    "***Группа: 247***\n",
    "\n",
    "***Вариант: 77***"
   ]
  },
  {
   "cell_type": "markdown",
   "metadata": {
    "id": "T7rVMQ_JwKQC"
   },
   "source": [
    "# **Математический анализ I. Лабораторная работа №2. Часть 1**"
   ]
  },
  {
   "cell_type": "markdown",
   "metadata": {
    "id": "lao7Gk2Mm2ra"
   },
   "source": [
    "<font color=#FF5EDD>**Правила:**</font>\n",
    "1. ***Запрещено*** изменять функции `Solution_number`. В тех задачах, где есть функция `Solution_number` проверяться будет только код, написанный внутри этой функции `Solution_number`. Также ***запрещено*** изменять значения переменных, которые определены кодом в некоторых заданиях.\n",
    "2. Все необходимо считать и выполнять с помощью кода. (Где необходимо, не забывайте пояснять текстом).\n",
    "3. Запрещено менять название файла!\n",
    "4. В решении лабораторной работы ***не допускается*** использование методов, которые не были изучены в этой и предыдущей лабораторных работах.\n",
    "   \n",
    "*P.S. Если у Вас будут вопросы, обращайтесь к ассистенту лектора [Алёне Числовой](https://t.me/Alyona_Chislova). Отвечаю в течении суток после вопроса. Don't worry.*\n",
    "\n",
    "**Перед отправкой обязательно перезапустите ядро и скомпилируйте весь ноутбук заново!**\n",
    "\n",
    "Убедитесь, что Вы использовали только наш блок со всеми импортами библиотек. Если Вы писали код в Jupyter/VS Code/PyCharm и т.д.(в приложениях со своими встроенными импортами), обязательно запустите свой ноутбук в Google Colab (в нем нет своих встроенных импортов), чтобы убедиться, что все работает!) Ваша работа будет проверяться в Google Colab.\n",
    "\n",
    "**[Теория](https://colab.research.google.com/drive/1J3vPW7-6f5H1_667S9PNtmYtubv7VC4d?usp=sharing)** - по этой ссылке можно посмотреть всю теорию (jupyter notebook) для этой лабораторной работы."
   ]
  },
  {
   "cell_type": "markdown",
   "metadata": {
    "id": "J9jQja2MiB-e"
   },
   "source": [
    "## **<font color=#10A1C4> *Содержание:</font>***"
   ]
  },
  {
   "cell_type": "markdown",
   "metadata": {
    "id": "0ZUGe2zrpBRm"
   },
   "source": [
    "**Примечание:** в Google Colab в содержании ссылки на главы теории и на задачи работают только когда названия разделов не скрыты"
   ]
  },
  {
   "cell_type": "markdown",
   "metadata": {
    "id": "OzU4508qhmxM"
   },
   "source": [
    "### **<font color=#10A1C4>*Содержание по задачам:</font>***"
   ]
  },
  {
   "cell_type": "markdown",
   "metadata": {
    "id": "nDQJtMOY3xUd"
   },
   "source": [
    "[Задача 1](#task_1) (1 балл)<br>\n",
    "[Задача 2](#task_2) (1 балл)<br>\n",
    "[Задача 3](#task_3) (4 балла)<br>\n",
    "[Задача 4](#task_4) (1 балл)<br>\n",
    "[Задача 5](#task_5) (2 балла)<br>\n",
    "[Задача 6](#task_6) (1 балл)<br>\n",
    "[Задача 7](#task_7) (1 балл)<br>\n",
    "[Задача 8](#task_8) (1 балл) <br>\n",
    "[Задача 9](#task_9) (1 балл)<br>\n",
    "[Задача 10](#task_10) (5 баллов)<br>\n",
    "[Задача 11](#task_11) (1 балл)<br>\n",
    "[Задача 12](#task_12) (1 балл)<br>\n",
    "[Задача 13](#task_13) (4 балла)<br>\n",
    "[Задача 14](#task_14) (2 балла)<br>\n",
    "[Задача 15](#task_15) (2 балла)<br>\n",
    "[Задача 16](#task_16) (2 балла)<br>\n"
   ]
  },
  {
   "cell_type": "markdown",
   "metadata": {
    "id": "4Me3CFrtw-cu"
   },
   "source": [
    "## **<font color=#10A1C4>*Необходимые библиотеки для всех частей</font>***"
   ]
  },
  {
   "cell_type": "markdown",
   "metadata": {
    "id": "fcTCqd97k7w5"
   },
   "source": [
    "Обратите внимание на обозначения импортированных функций из разных библиотек. Эти обозначения используются во всей лабораторной работе.\n",
    "\n",
    "Этот блок с всеми импортами менять нельзя!"
   ]
  },
  {
   "cell_type": "code",
   "execution_count": 2,
   "metadata": {
    "id": "SM8eQacAvSLS"
   },
   "outputs": [],
   "source": [
    "import numpy as np\n",
    "from numpy import pi as Pi_, cos as Cos_, sin as Sin_, exp as Exp_, sqrt as Sqrt_, log as Log_, arccos as Arccos_, tan as Tan_, arctan as Atan_, arcsin as Asin_\n",
    "import matplotlib.pyplot as plt\n",
    "import math\n",
    "import plotly.graph_objects as go\n",
    "import sympy as sp\n",
    "from sympy import Symbol, symbols, diff, solve, Eq, nsolve, solveset, integrate, Integral, Function, latex, S, simplify, fraction, Union, Interval, intersection, limit, plot, Piecewise, Curve, plot_parametric, plot_implicit, And, nonlinsolve, Matrix, factor, lambdify\n",
    "from sympy.calculus.util import continuous_domain\n",
    "from sympy.plotting import plot3d\n",
    "from sympy.geometry import Point\n",
    "from sympy import sin as Sin, cos as Cos, tan as Tan, exp as Exp, log as Log, pi as Pi, sqrt as Sqrt, asin as Asin, atan as Atan, oo as Infinity, acos as Acos\n",
    "%matplotlib inline"
   ]
  },
  {
   "cell_type": "markdown",
   "metadata": {
    "id": "P8Gfn2BPR49-"
   },
   "source": [
    "<a name=\"function_several_variables\"></a>\n",
    "## **<font color=#FF6100>1. Раздел: функции нескольких переменных**"
   ]
  },
  {
   "cell_type": "markdown",
   "metadata": {
    "id": "KtZVhKg-qdXz"
   },
   "source": [
    "<a name=\"function_several_variables_1_part\"></a>\n",
    "### <font color=#FF6100>Область определения, предел и непрерывность, приращение и дифференциал"
   ]
  },
  {
   "cell_type": "markdown",
   "metadata": {
    "id": "rV_eEKe4r_8L"
   },
   "source": [
    "<a name=\"task_1\"></a>\n",
    "**<font color=#FF5EDD>Задача 1**</font> (1 балл)"
   ]
  },
  {
   "cell_type": "markdown",
   "metadata": {
    "id": "0I6UzYJU8tx-"
   },
   "source": [
    "*Уровень пыльцы*\n",
    "\n",
    "В тихом и уютном городке под названием «Долина математиков» раскинулся плодовый сад. Координаты его — $(0,0)$, то есть прямо в центре мира (по мнению местных пчёл). С наступлением весны здесь происходит настоящее буйство цветения, а вместе с ним — и великое нашествие пыльцы.\n",
    "\n",
    "Математик Аркадий, вдохновлённый не только красотой природы, но и мощным чиханием, вывел формулу, которая описывает пыльцевой индекс — показатель того, насколько сильно здесь может заложить нос:\n",
    "\n",
    "$$\n",
    "f(x, y) = \\frac{\\sin(x^3 y)}{x^2 + y^2}\n",
    "$$\n",
    "\n",
    "- Здесь $(x, y)$ — это Ваши координаты.\n",
    "- В числителе — $\\sin(x^3 y)$ — не просто синус, а синус со странностями: он отражает таинственные колебания пыльцевого потока, зависящие от того, как именно Вы отклонились от центра.\n",
    "- В знаменателе — $x^2 + y^2$, и он напоминает нам, что чем дальше вы убегаете от сада, тем больше пыльца начинает лениться и оседать.\n",
    "\n",
    "Но есть одно но: в самом центре — в точке $(0,0)$ — происходит что-то загадочное. Формула там *не определена* — ведь мы получаем $\\tfrac{0}{0}$, математическую версию «мы не уверены, но возможно произойдёт пыльцевой апокалипсис».\n",
    "\n",
    "Аркадий решил ответить на волнующий всех чихающих математиков вопрос:  \n",
    "«А что вообще происходит с пыльцевым индексом *вблизи* центра? Он стремится к чему-то конкретному?»\n",
    "\n",
    "Помогите Аркадию:)"
   ]
  },
  {
   "cell_type": "code",
   "execution_count": 3,
   "metadata": {
    "id": "my8yNOZv8wGh"
   },
   "outputs": [],
   "source": [
    "import sympy as sp\n",
    "\n",
    "x, y = sp.symbols('x y')\n",
    "f = sp.sin(x**3 * y) / (x**2 + y**2)\n",
    "\n",
    "answer_1 = sp.limit(sp.limit(f, x, 0), y, 0) # вместо нуля запишите значение пыльцевого индекса в самом центре. Если его не существует, запишите -1000"
   ]
  },
  {
   "cell_type": "markdown",
   "metadata": {
    "id": "CeeiAWbZF_em"
   },
   "source": [
    "<a name=\"task_2\"></a>\n",
    "**<font color=#FF5EDD>Задача 2**</font> (1 балл)"
   ]
  },
  {
   "cell_type": "markdown",
   "metadata": {
    "id": "eEUo-38zSTpH"
   },
   "source": [
    "Вам дана следующая функция:\n",
    "$$\n",
    "f(x, y) = \\ln\\left(\\frac{x}{y}\\right) + x + y\n",
    "$$\n",
    "1. Построить линии уровня.\n",
    "2. Найти полный дифференциал функции."
   ]
  },
  {
   "cell_type": "code",
   "execution_count": 4,
   "metadata": {
    "id": "QujQXSnaSU9o"
   },
   "outputs": [
    {
     "data": {
      "image/png": "[encoded data removed]",
      "text/plain": [
       "<Figure size 800x600 with 1 Axes>"
      ]
     },
     "metadata": {},
     "output_type": "display_data"
    }
   ],
   "source": [
    "x, y = symbols('x y')\n",
    "dx, dy = symbols('dx dy')\n",
    "\n",
    "# Нельзя менять переменную f_2\n",
    "f_2 = Log(x/y) + x + y\n",
    "\n",
    "answer_2 = sp.diff(f_2, x)*dx + sp.diff(f_2, y)*dy  # В эту переменную вместо нуля запишите искомый полный дифференциал\n",
    "\n",
    "f_numeric = sp.lambdify((x, y), f_2, 'numpy')\n",
    "x_vals = np.linspace(0.1, 5, 400)\n",
    "y_vals = np.linspace(0.1, 5, 400)\n",
    "X, Y = np.meshgrid(x_vals, y_vals)\n",
    "Z = f_numeric(X, Y)\n",
    "\n",
    "levels = np.linspace(-1, 10, 12)\n",
    "plt.figure(figsize=(8, 6))\n",
    "cs = plt.contour(X, Y, Z, levels)\n",
    "plt.clabel(cs, inline=True, fontsize=8)\n",
    "plt.xlabel(\"x\")\n",
    "plt.ylabel(\"y\")\n",
    "plt.grid(True)\n",
    "plt.show()"
   ]
  },
  {
   "cell_type": "markdown",
   "metadata": {
    "id": "L8qhvyM64eIX"
   },
   "source": [
    "<a name=\"function_several_variables_2_part\"></a>\n",
    "### <font color=#FF6100>Экстремум функции нескольких переменных"
   ]
  },
  {
   "cell_type": "markdown",
   "metadata": {},
   "source": [
    "<a name=\"function_several_variables_2_part_2\"></a>\n",
    "#### <font color=#FF6100>Поиск экстремума функции нескольких переменных. Достаточные условия экстремума"
   ]
  },
  {
   "cell_type": "markdown",
   "metadata": {
    "id": "CDaau1ujGIxQ"
   },
   "source": [
    "<a name=\"task_3\"></a>\n",
    "**<font color=#FF5EDD>Задача 3**</font> (4 балла)"
   ]
  },
  {
   "cell_type": "markdown",
   "metadata": {
    "id": "Or0OAAmKXYY-"
   },
   "source": [
    "Вам даны следующие функции:\n",
    "\n",
    "1) $z = x^2 + xy + y^2 - 2x - y$\n",
    "\n",
    "2) $z = x^3y^2(6 - x - y)$, $(x, y > 0)$\n",
    "\n",
    "3) $z = \\frac{8}{x} + \\frac{x}{y} + y$\n",
    "\n",
    "4) $z = \\frac{1 + x - y}{\\sqrt{1 + x^2 + y^2}}$\n",
    "\n",
    "1. Построить область определения.\n",
    "2. Найти и классифицировать точки экстремума.\n"
   ]
  },
  {
   "cell_type": "code",
   "execution_count": 5,
   "metadata": {
    "id": "M4clOQ2FXZBO"
   },
   "outputs": [
    {
     "name": "stdout",
     "output_type": "stream",
     "text": [
      "f1:\n",
      "Область определения: x, y ∈ ℝ\n",
      "Критические точки и классификация: [(1, 0, 'min')]\n",
      "\n",
      "f2:\n",
      "Область определения: x > 0, y > 0\n",
      "Критические точки и классификация: [(3, 2, 'max')]\n",
      "\n",
      "f3:\n",
      "Область определения: x ≠ 0, y ≠ 0\n",
      "Критические точки и классификация: [(4, 2, 'min')]\n",
      "\n",
      "f4:\n",
      "Область определения: x, y ∈ ℝ\n",
      "Критические точки и классификация: [(1, -1, 'max')]\n",
      "\n"
     ]
    }
   ],
   "source": [
    "import sympy as sp\n",
    "\n",
    "x, y = sp.symbols('x y', real=True)\n",
    "\n",
    "f1 = x**2 + x*y + y**2 - 2*x - y\n",
    "f2 = x**3 * y**2 * (6 - x - y)\n",
    "f3 = 8/x + x/y + y\n",
    "f4 = (1 + x - y) / sp.sqrt(1 + x**2 + y**2)\n",
    "\n",
    "domains = {\n",
    "    \"f1\": \"x, y ∈ ℝ\",\n",
    "    \"f2\": \"x > 0, y > 0\",\n",
    "    \"f3\": \"x ≠ 0, y ≠ 0\",\n",
    "    \"f4\": \"x, y ∈ ℝ\",\n",
    "}\n",
    "\n",
    "\n",
    "def classify(hess, point):\n",
    "    H = hess.subs({x: point[0], y: point[1]})\n",
    "    D1 = H[0, 0]\n",
    "    D2 = H.det()\n",
    "    if D1 > 0 and D2 > 0:\n",
    "        return \"min\"\n",
    "    if D1 < 0 and D2 > 0:\n",
    "        return \"max\"\n",
    "    \n",
    "    return \"not extr\"\n",
    "\n",
    "\n",
    "results = {}\n",
    "\n",
    "def points(name, f):\n",
    "    grad = [sp.diff(f, x), sp.diff(f, y)]\n",
    "    crit_points = sp.solve(grad, (x, y), dict=True)\n",
    "\n",
    "    full_pts = [pt for pt in crit_points if x in pt and y in pt]\n",
    "\n",
    "    hess = sp.hessian(f, (x, y))\n",
    "\n",
    "    classified = []\n",
    "    for pt in full_pts:\n",
    "        xv = pt.get(x)\n",
    "        yv = pt.get(y)\n",
    "\n",
    "        if name == \"f2\" and (xv <= 0 or yv <= 0):\n",
    "            continue\n",
    "        if name == \"f3\" and (xv == 0 or yv == 0):\n",
    "            continue\n",
    "        cls = classify(hess, (xv, yv))\n",
    "        classified.append((xv, yv, cls))\n",
    "\n",
    "    return classified\n",
    "\n",
    "\n",
    "for name, f in [(\"f1\", f1), (\"f2\", f2), (\"f3\", f3), (\"f4\", f4)]:\n",
    "    classified = points(name, f)\n",
    "\n",
    "    results[name] = {\n",
    "        \"domain\": domains[name],\n",
    "        \"critical_points\": classified\n",
    "    }\n",
    "\n",
    "for name, res in results.items():\n",
    "    print(f\"{name}:\")\n",
    "    print(\"Область определения:\", res[\"domain\"])\n",
    "    print(\"Критические точки и классификация:\", res[\"critical_points\"])\n",
    "    print()"
   ]
  },
  {
   "cell_type": "markdown",
   "metadata": {
    "id": "OWSC-3tMGOrT"
   },
   "source": [
    "<a name=\"task_4\"></a>\n",
    "**<font color=#FF5EDD>Задача 4**</font> (1 балл)"
   ]
  },
  {
   "cell_type": "markdown",
   "metadata": {
    "id": "Qi3lDs83rAgo"
   },
   "source": [
    "Найти точки экстремума следующей функции: $$u = x^2 + y^2 + z^2 - xy + x - 2z$$"
   ]
  },
  {
   "cell_type": "code",
   "execution_count": 6,
   "metadata": {
    "id": "oV8qfejHrB_m"
   },
   "outputs": [
    {
     "name": "stdout",
     "output_type": "stream",
     "text": [
      "Критические точки: [(-2/3, -1/3, 1, 'min')]\n"
     ]
    }
   ],
   "source": [
    "x = Symbol('x')\n",
    "y = Symbol('y')\n",
    "z = Symbol('z')\n",
    "\n",
    "# Нельзя менять переменную u_4\n",
    "u_4 = x**2 + y**2 + z**2 - x*y + x - 2 * z\n",
    "\n",
    "answer_4 = 0 # В эту переменную вместо нуля запишите искомые точки экстремума; type(answer_4) = <class 'sympy.sets.sets.FiniteSet'>\n",
    "\n",
    "domain_u = \"x, y, z ∈ ℝ\"\n",
    "\n",
    "grad_u = [sp.diff(u_4, v) for v in (x, y, z)]\n",
    "\n",
    "crit_pts = sp.solve(grad_u, (x, y, z), dict=True)\n",
    "\n",
    "H = sp.hessian(u_4, (x, y, z))\n",
    "\n",
    "\n",
    "classified = []\n",
    "for pt in crit_pts:\n",
    "    H_sub = H.subs(pt)\n",
    "\n",
    "    D1 = H_sub[0, 0]\n",
    "    D2 = H_sub[:2, :2].det()\n",
    "    D3 = H_sub.det()\n",
    "\n",
    "    if D1 > 0 and D2 > 0 and D3 > 0:\n",
    "        typ = \"min\"\n",
    "    elif D1 < 0 and D2 > 0 and D3 < 0:\n",
    "        typ = \"max\"\n",
    "    else:\n",
    "        typ = \"saddle\"\n",
    "    classified.append((pt[x], pt[y], pt[z], typ))\n",
    "\n",
    "print(\"Критические точки:\", classified)\n",
    "\n",
    "answer_4 = sp.FiniteSet(*[(x, y, z) for x, y, z, t in classified])\n",
    "\n"
   ]
  },
  {
   "cell_type": "markdown",
   "metadata": {
    "id": "zloAo3EJvb_M"
   },
   "source": [
    "<a name=\"task_5\"></a>\n",
    "**<font color=#FF5EDD>Задача 5**</font> (2 балла)"
   ]
  },
  {
   "cell_type": "markdown",
   "metadata": {
    "id": "9G0cNKRt_U0B"
   },
   "source": [
    "Где пчёлам собирать выгоднее всего?\n",
    "\n",
    "Вернемся к «Долине математиков». Только теперь рассмотрим улей (его полярные координаты - $(0, 0)$) \n",
    "\n",
    "Местные пчёлы — существа умные и ленивые (не любят зря летать). Они хотят собирать нектар максимально эффективно, то есть выбирать такую точку приземления в окрестности сада, чтобы было:\n",
    "\n",
    "- много нектара (чем больше, тем лучше),\n",
    "- недалеко от улия (энергия на полёты — это вам не шутки).\n",
    "\n",
    "Аркадий также придумал зависимость выгоды пчёл: а именно функцию, которая показывает, насколько выгодно пчеле приземлиться в точку $(R, \\varphi)$\n",
    "\n",
    "Эта функция задается в полярных координатах следующим образом:\n",
    "$$\n",
    "g(R, \\varphi) = \\sin(3R) \\cdot \\cos(5\\varphi) \\cdot e^{-R}\n",
    "$$\n",
    "\n",
    "где $R$ - радиус и $\\varphi$ - угол.\n",
    "\n",
    "Помогите Аркадию посчитать все точки $(R, \\varphi)$, в которые пчеле стоит сесть, чтобы получить максимум нектара с минимальными усилиями и какую выгоду пчела получит в этих точках:)"
   ]
  },
  {
   "cell_type": "code",
   "execution_count": 7,
   "metadata": {
    "id": "vHf7GZm9_dpz"
   },
   "outputs": [],
   "source": [
    "R, phi = sp.symbols('R phi', real=True)\n",
    "\n",
    "g = sp.sin(3*R) * sp.cos(5*phi) * sp.exp(-R)\n",
    "\n",
    "dg_dR = sp.diff(g, R)\n",
    "dg_dphi = sp.diff(g, phi)\n",
    "\n",
    "crit_pts = sp.solve([dg_dR, dg_dphi], (R, phi), dict=True)\n",
    "\n",
    "crit_pts = [pt for pt in crit_pts\n",
    "            if pt[R].is_real and pt[R] >= 0 and pt[phi].is_real]\n",
    "\n",
    "H = sp.hessian(g, (R, phi))\n",
    "\n",
    "classified = []\n",
    "for pt in crit_pts:\n",
    "    H_sub = H.subs(pt)\n",
    "    D1 = H_sub[0, 0]\n",
    "    D2 = H_sub.det()\n",
    "    if D1 < 0 and D2 > 0:\n",
    "        tp = \"max\"\n",
    "    elif D1 > 0 and D2 > 0:\n",
    "        tp = \"min\"\n",
    "    else:\n",
    "        tp = \"saddle\"\n",
    "    classified.append((pt[R].simplify(), pt[phi].simplify(), tp))\n",
    "\n",
    "\n",
    "max_pts = [(R0, phi0) for R0, phi0, tp in classified if tp == \"max\"]\n",
    "max_val = None\n",
    "if max_pts:\n",
    "    max_val = g.subs({R: max_pts[0][0], phi: max_pts[0][1]}).simplify()\n",
    "\n",
    "\n",
    "# в эту переменную запишите самые выгодные для пчел точки (R, phi)\n",
    "p_5 = sp.FiniteSet(*max_pts)\n",
    "\n",
    "# вместо нуля запишите какую максимальную выгоду может получить пчела\n",
    "g_5 = sp.simplify(max_val)"
   ]
  },
  {
   "cell_type": "markdown",
   "metadata": {
    "id": "gUEOvmVGIsZI"
   },
   "source": [
    "<a name=\"function_several_variables_2_part_3\"></a>\n",
    "#### <font color=#FF6100>Условный экстремум. Метод множителей Лагранжа"
   ]
  },
  {
   "cell_type": "markdown",
   "metadata": {
    "id": "nTmqkEYoGTgY"
   },
   "source": [
    "<a name=\"task_6\"></a>\n",
    "**<font color=#FF5EDD>Задача 6**</font> (1 балл)"
   ]
  },
  {
   "cell_type": "markdown",
   "metadata": {
    "id": "QSzVpmJenGGv"
   },
   "source": [
    "С помощью метода Лагранжа найти условные экстремумы функции\n",
    "$z = 6 - 4x - 3y$  при условии $x^2+y^2=1$."
   ]
  },
  {
   "cell_type": "code",
   "execution_count": 8,
   "metadata": {
    "id": "2KFUXAAhnRy6"
   },
   "outputs": [
    {
     "name": "stdout",
     "output_type": "stream",
     "text": [
      "{(-4/5, -3/5, 11), (4/5, 3/5, 1)}\n"
     ]
    }
   ],
   "source": [
    "x = Symbol('x')\n",
    "y = Symbol('y')\n",
    "\n",
    "# Нельзя менять переменную z_6\n",
    "z_6 = 6 - 4*x - 3*y\n",
    "\n",
    "# В эту переменную вместо нуля запишите искомые условные экстремумы; type(answer_6) = <class 'sympy.sets.sets.FiniteSet'>\n",
    "answer_6 = 0\n",
    "\n",
    "lam = sp.symbols('lam', real=True)\n",
    "\n",
    "phi = x**2 + y**2 - 1\n",
    "\n",
    "L = z_6 - lam * phi\n",
    "\n",
    "\n",
    "eqs = [\n",
    "    sp.diff(L, x),\n",
    "    sp.diff(L, y),\n",
    "    sp.diff(L, lam)\n",
    "]\n",
    "\n",
    "solutions = sp.solve(eqs, (x, y, lam), dict=True)\n",
    "\n",
    "H_L = sp.hessian(L, (x, y))\n",
    "\n",
    "classified = []\n",
    "for sol in solutions:\n",
    "    xv, yv, lamv = sol[x], sol[y], sol[lam]\n",
    "    zv = z_6.subs({x: xv, y: yv})\n",
    "    Hsub = H_L.subs(sol)\n",
    "\n",
    "    D1 = Hsub[0, 0]\n",
    "    D2 = Hsub.det()\n",
    "    if D1 > 0 and D2 > 0:\n",
    "        tp = \"min\"\n",
    "    elif D1 < 0 and D2 > 0:\n",
    "        tp = \"max\"\n",
    "    else:\n",
    "        tp = \"saddle\"\n",
    "\n",
    "    classified.append((sp.simplify(xv), sp.simplify(yv), sp.simplify(zv), tp))\n",
    "\n",
    "\n",
    "pts = [(xv, yv, zv)\n",
    "       for xv, yv, zv, t in classified if t == \"max\" or t == \"min\"]\n",
    "\n",
    "answer_6 = sp.FiniteSet(*pts)\n",
    "print(answer_6)"
   ]
  },
  {
   "cell_type": "markdown",
   "metadata": {
    "id": "etpgljNkGWz1"
   },
   "source": [
    "<a name=\"task_7\"></a>\n",
    "**<font color=#FF5EDD>Задача 7**</font> (1 балл)"
   ]
  },
  {
   "cell_type": "markdown",
   "metadata": {
    "id": "U8UK3EAspKDa"
   },
   "source": [
    "С помощью метода Лагранжа найти экстремумы функции $u = x + y + z$ при условии $x^2 + y^2 + z^2 = 9$."
   ]
  },
  {
   "cell_type": "code",
   "execution_count": 9,
   "metadata": {
    "id": "b7kFuVfcpLJ9"
   },
   "outputs": [
    {
     "name": "stdout",
     "output_type": "stream",
     "text": [
      "{(-sqrt(3), -sqrt(3), -3*sqrt(3), 3*sqrt(3)), (sqrt(3), sqrt(3), 3*sqrt(3), 3*sqrt(3))}\n"
     ]
    }
   ],
   "source": [
    "x = Symbol('x')\n",
    "y = Symbol('y')\n",
    "z = Symbol('z')\n",
    "\n",
    "# Нельзя менять переменную u_7\n",
    "u_7 = x + y + z\n",
    "\n",
    "# В эту переменную вместо нуля запишите искомые экстремумы; type(answer_7) = <class 'sympy.sets.sets.FiniteSet'>\n",
    "answer_7 = 0\n",
    "\n",
    "lam = sp.symbols('lam', real=True)\n",
    "\n",
    "phi = x**2 + y**2 + z**2 - 9\n",
    "\n",
    "L = u_7 - lam * phi\n",
    "\n",
    "\n",
    "eqs = [\n",
    "    sp.diff(L, x),\n",
    "    sp.diff(L, y),\n",
    "    sp.diff(L, z),\n",
    "    sp.diff(L, lam)\n",
    "]\n",
    "\n",
    "solutions = sp.solve(eqs, (x, y, z, lam), dict=True)\n",
    "\n",
    "pts = []\n",
    "for sol in solutions:\n",
    "    xv = sol[x]\n",
    "    yv = sol[y]\n",
    "    zv = sol[y]\n",
    "    uv = u_7.subs({x: xv, y: yv, z: zv})\n",
    "    pts.append((sp.simplify(xv), sp.simplify(yv),\n",
    "               sp.simplify(zv), sp.simplify(uv)))\n",
    "\n",
    "H_L = sp.hessian(L, (x, y, z))\n",
    "\n",
    "classified = []\n",
    "for sol in solutions:\n",
    "    xv, yv, zv, lamv = sol[x], sol[y], sol[z], sol[lam]\n",
    "    zv = u_7.subs({x: xv, y: yv, z: zv})\n",
    "    Hsub = H_L.subs(sol)\n",
    "\n",
    "    D1 = Hsub[0, 0]\n",
    "    D2 = Hsub[:2, :2].det()\n",
    "    D3 = Hsub.det()\n",
    "\n",
    "    if D1 > 0 and D2 > 0 and D3 > 0:\n",
    "        typ = \"min\"\n",
    "    elif D1 < 0 and D2 > 0 and D3 < 0:\n",
    "        typ = \"max\"\n",
    "    else:\n",
    "        typ = \"saddle\"\n",
    "\n",
    "    classified.append((sp.simplify(xv), sp.simplify(yv), sp.simplify(zv), sp.simplify(uv), typ))\n",
    "\n",
    "\n",
    "pts = [(xv, yv, zv, uv)\n",
    "       for xv, yv, zv, uv, t in classified if t == \"max\" or t == \"min\"]\n",
    "\n",
    "answer_7 = sp.FiniteSet(*pts)\n",
    "print(answer_7)"
   ]
  },
  {
   "cell_type": "markdown",
   "metadata": {
    "id": "f3C-Qp_fzcJX"
   },
   "source": [
    "<a name=\"task_8\"></a>\n",
    "**<font color=#FF5EDD>Задача 8**</font> (1 балл)"
   ]
  },
  {
   "cell_type": "markdown",
   "metadata": {
    "id": "OHSgyIFrxlpX"
   },
   "source": [
    "Компания выпускает два продукта:\n",
    "\n",
    "- $x$ — умные термокружки с Bluetooth и лампочкой (высокая маржинальность, но медленное производство),\n",
    "- $y$ — классические термосы (дешевле, быстрее, массово).\n",
    "\n",
    "Каждая единица продукции требует разных затрат:  \n",
    "- Производство одной кружки тянет на 3 единицы ресурса;  \n",
    "- Один термос — всего 1 единица.\n",
    "\n",
    "Компания располагает ровно $M$ единиц ресурса (рабочее время, материалы и пр.) и планирует всё потратить.  \n",
    "\n",
    "Экономист Юра вывел следующую формулу дохода компании:\n",
    "$$\n",
    "P(x, y) = 150\\,\\sqrt{x} + 180\\,\\ln(1 + y) - \\bigl(2x + 0.5y\\bigr)\n",
    "$$\n",
    "\n",
    "- $150\\sqrt{x}$ — отдача от продажи «умных» кружек (маржа растёт с количеством, но замедляется — эффект насыщения),\n",
    "- $180\\ln(1 + y)$ — отдача от массовых термосов (чем больше, тем лучше, но с логарифмическим торможением),\n",
    "- $2x + 0.5y$ — реальные переменные издержки\n",
    "\n",
    "Помогите Юре посчитать сколько термокружек и термосов нужно произвести, чтобы получить максимальный возможный доход?\n",
    "\n",
    "\n",
    "\n"
   ]
  },
  {
   "cell_type": "code",
   "execution_count": 10,
   "metadata": {
    "id": "ftlkNtgmzfQf"
   },
   "outputs": [],
   "source": [
    "x, y, M, lam = sp.symbols('x y M lam', positive=True)\n",
    "\n",
    "\n",
    "\n",
    "P = 150*sp.sqrt(x) + 180*sp.log(1 + y) - (2*x + 0.5*y)\n",
    "phi = 3*x + y - M\n",
    "\n",
    "\n",
    "L = P - lam * phi\n",
    "\n",
    "\n",
    "\n",
    "\n",
    "thermos = 0  # в эту переменную запишите сколько термосов нужно выпустить чтобы получить максимальный доход\n",
    "\n",
    "cups = 0  # в эту переменную запишите сколько кружек нужно выпустить чтобы получить максимальный доход\n",
    "\n",
    "max_profit = 0  # в эту переменную запишите максимальный доход"
   ]
  },
  {
   "cell_type": "markdown",
   "metadata": {
    "id": "6oTUdYNyLdYR"
   },
   "source": [
    "<a name=\"function_several_variables_3_part\"></a>\n",
    "### <font color=#FF6100>Градиент функции нескольких переменных, производная по направлению, касательная плоскость"
   ]
  },
  {
   "cell_type": "markdown",
   "metadata": {
    "id": "-EyIg0MwL5UF"
   },
   "source": [
    "<a name=\"function_several_variables_3_part_1\"></a>\n",
    "#### <font color=#FF6100>Градиент функции нескольких переменных"
   ]
  },
  {
   "cell_type": "markdown",
   "metadata": {
    "id": "CMlBiH5rGdnK"
   },
   "source": [
    "<a name=\"task_9\"></a>\n",
    "**<font color=#FF5EDD>Задача 9**</font> (1 балл)"
   ]
  },
  {
   "cell_type": "markdown",
   "metadata": {
    "id": "Rm-XJkC3t90G"
   },
   "source": [
    "1. Найти градиент функции $z=2x^2+xy-2y^2$ в точке $M(4, 5)$.\n",
    "2. Вычислить производную  в направлении, составляющем с положительным направлением оси $OX$ угол $45$ градусов в точке $M(4, 5)$."
   ]
  },
  {
   "cell_type": "code",
   "execution_count": 11,
   "metadata": {
    "id": "kXuHfELrt-Vb"
   },
   "outputs": [
    {
     "data": {
      "text/latex": [
       "$\\displaystyle \\left[\\begin{matrix}21\\\\-16\\end{matrix}\\right]$"
      ],
      "text/plain": [
       "Matrix([\n",
       "[ 21],\n",
       "[-16]])"
      ]
     },
     "metadata": {},
     "output_type": "display_data"
    },
    {
     "data": {
      "text/latex": [
       "$\\displaystyle \\frac{5 \\sqrt{2}}{2}$"
      ],
      "text/plain": [
       "5*sqrt(2)/2"
      ]
     },
     "metadata": {},
     "output_type": "display_data"
    }
   ],
   "source": [
    "x = Symbol('x')\n",
    "y = Symbol('y')\n",
    "\n",
    "# Нельзя менять переменные z_9, M_x_9, M_y_9, alpha_9\n",
    "z_9 = 2*(x**2) + x*y - 2*(y**2)\n",
    "M_x_9 = 4\n",
    "M_y_9 = 5\n",
    "alpha_9 = 45\n",
    "\n",
    "grad_9 = 0 # В эту переменную вместо нуля запишите градиент, требуемый в пункте 1;\n",
    "\n",
    "deriv_9 = 0  # В эту переменную вместо нуля запишите производную, требуемую в пункте 2\n",
    "\n",
    "grad = sp.Matrix([diff(z_9, x), diff(z_9, y)])\n",
    "grad_9 = grad.subs({x: M_x_9, y: M_y_9}) \n",
    "\n",
    "angle_rad = alpha_9 * Pi / 180\n",
    "u = sp.Matrix([Cos(angle_rad), Sin(angle_rad)])\n",
    "deriv_9 = grad_9.dot(u)  \n",
    "\n",
    "display(grad_9)\n",
    "display(deriv_9)\n"
   ]
  },
  {
   "cell_type": "markdown",
   "metadata": {
    "id": "b5kqKJxCGhGj"
   },
   "source": [
    "<a name=\"task_10\"></a>\n",
    "**<font color=#FF5EDD>Задача 10**</font> (5 баллов)"
   ]
  },
  {
   "cell_type": "markdown",
   "metadata": {
    "id": "eNIK2SAoVFGe"
   },
   "source": [
    "Андрей приехал на соревнование сноубордистов в Сочи. По его просьбе организаторы мероприятия рассказали каким графиком задается поверхность горы $z=f(x,y)$, точку старта $(x_0,y_0)$, а также направление вектора, по которому должен будет производиться спуск $(\\alpha, \\beta)$ (т.е. весь спуск будет проходить в вертикальной плоскости, проходящей через точку $(x_0,y_0)$ вдоль вектора $(\\alpha, \\beta)$). Сейчас перед ним стоит две основные задачи:\n",
    "\n",
    "1.   Найдите точку, где спуск будет самым крутым (гарантируется, что такая точка будет единственной).\n",
    "2.   Найдите расстояние, которое он успеет проехать до той точки, где спуск будет самым  крутым.\n",
    "\n",
    "Помогите Андрею справиться с его задачами.\n",
    "\n",
    "Важно: Андрей не может ехать вверх по горке."
   ]
  },
  {
   "cell_type": "code",
   "execution_count": 12,
   "metadata": {
    "id": "rRvA3LtifdP1"
   },
   "outputs": [],
   "source": [
    "x, y = symbols('x y')\n",
    "\n",
    "\n",
    "def Solution_10(z, x_0: int, y_0: int, alpha: int, beta: int):\n",
    "\n",
    "    # В эту переменную вместо пары (0,0) запишите координаты точки, где спуск будет самым крутым\n",
    "    descent_point_10 = (0, 0)\n",
    "\n",
    "    distance_10 = 0  # В эту переменную вместо нуля запишите расстояние, которое он успеет проехать до этой точки\n",
    "\n",
    "    norm = sp.sqrt(alpha**2 + beta**2)\n",
    "    u1 = alpha / norm\n",
    "    u2 = beta / norm\n",
    "\n",
    "    t = symbols(\"t\")\n",
    "    x_t = x_0 + u1 * t\n",
    "    y_t = y_0 + u2 * t\n",
    "\n",
    "    grad = Matrix([sp.diff(z, x), sp.diff(z, y)])\n",
    "\n",
    "    D_t = grad.dot(Matrix([u1, u2]))\n",
    "    D_t = D_t.subs({x: x_t, y: y_t})\n",
    "\n",
    "    crit_solutions = sp.solve(sp.diff(D_t, t), t)\n",
    "\n",
    "    t0 = None\n",
    "    for sol in crit_solutions:\n",
    "        if sol.is_real and sol >= 0:\n",
    "            t0 = sol\n",
    "            break\n",
    "\n",
    "    if t0 is None or t0 < 0:\n",
    "        descent_point_10 = (x_0, y_0)\n",
    "        distance_10 = 0\n",
    "    else:\n",
    "        x_star = sp.simplify(x_t.subs(t, t0))\n",
    "        y_star = sp.simplify(y_t.subs(t, t0))\n",
    "        descent_point_10 = (x_star, y_star)\n",
    "        distance_10 = sp.simplify(t0)\n",
    "\n",
    "    return descent_point_10, distance_10\n"
   ]
  },
  {
   "cell_type": "markdown",
   "metadata": {
    "id": "s51gCwdUNkSM"
   },
   "source": [
    "<a name=\"function_several_variables_3_part_2\"></a>\n",
    "#### <font color=#FF6100>Касательная плоскость и нормаль к поверхности"
   ]
  },
  {
   "cell_type": "markdown",
   "metadata": {
    "id": "3RpQR6OeGzik"
   },
   "source": [
    "<a name=\"task_11\"></a>\n",
    "**<font color=#FF5EDD>Задача 11**</font> (1 балл)"
   ]
  },
  {
   "cell_type": "markdown",
   "metadata": {
    "id": "OsTpXm5LkPaR"
   },
   "source": [
    "Поверхность задана уравнением $5xyz - z^5 = a^5$. Составить уравнение касательной плоскости и нормали к поверхности в точке $x = 0$, $y = a$."
   ]
  },
  {
   "cell_type": "code",
   "execution_count": 15,
   "metadata": {
    "id": "_VL0gXjLmbUt"
   },
   "outputs": [
    {
     "data": {
      "text/latex": [
       "$\\displaystyle - 5 a^{4} \\left(a + z\\right) - 5 a^{2} x$"
      ],
      "text/plain": [
       "-5*a**4*(a + z) - 5*a**2*x"
      ]
     },
     "metadata": {},
     "output_type": "display_data"
    },
    {
     "data": {
      "text/plain": [
       "(Eq(x, -5*a**2*t), Eq(y, a), Eq(z, -5*a**4*t - a))"
      ]
     },
     "metadata": {},
     "output_type": "display_data"
    }
   ],
   "source": [
    "a, x, y, z = symbols('a x y z')\n",
    "\n",
    "# Нельзя менять переменную F_1\n",
    "F_11 = 5*x*y*z - z**5 - a**5\n",
    "\n",
    "planeM_11 = 0  # В эту переменную вместо нуля запишите уравнение касательной плоскости\n",
    "\n",
    "norm_line_11 = 0  # В эту переменную вместо нуля запишите уравнения нормали к поверхности в точке х = 0, y = a\n",
    "\n",
    "t = symbols(\"t\")\n",
    "\n",
    "z0 = sp.solve(F_11.subs({x: 0, y: a}), z)[0]  \n",
    "\n",
    "Fx = sp.diff(F_11, x)\n",
    "Fy = sp.diff(F_11, y)\n",
    "Fz = sp.diff(F_11, z)\n",
    "\n",
    "\n",
    "Fx0 = Fx.subs({x: 0, y: a, z: z0})\n",
    "Fy0 = Fy.subs({x: 0, y: a, z: z0})\n",
    "Fz0 = Fz.subs({x: 0, y: a, z: z0})\n",
    "\n",
    "\n",
    "planeM_11 = Fx0*(x - 0) + Fy0*(y - a) + Fz0*(z - z0)  # = 0\n",
    "\n",
    "norm_line_11 = (\n",
    "    Eq(x, 0 + Fx0*t),\n",
    "    Eq(y, a + Fy0*t),\n",
    "    Eq(z, z0 + Fz0*t)\n",
    ")\n",
    "\n",
    "display(planeM_11)\n",
    "display(norm_line_11)\n"
   ]
  },
  {
   "cell_type": "markdown",
   "metadata": {
    "id": "R96wLN1aG2zn"
   },
   "source": [
    "<a name=\"task_12\"></a>\n",
    "**<font color=#FF5EDD>Задача 12**</font> (1 балл)"
   ]
  },
  {
   "cell_type": "markdown",
   "metadata": {
    "id": "LCLuHnSgah3t"
   },
   "source": [
    "Поверхность задана уравнением $7x^2+7y^2+7z^2=14Rz$. Составить уравнение касательной плоскости и нормали в точке $(R\\cos\\alpha,R\\sin\\alpha,R)$."
   ]
  },
  {
   "cell_type": "code",
   "execution_count": 16,
   "metadata": {
    "id": "t8cmvhnQcm1l"
   },
   "outputs": [
    {
     "data": {
      "text/latex": [
       "$\\displaystyle 14 R \\left(- R + x \\cos{\\left(a \\right)} + y \\sin{\\left(a \\right)}\\right)$"
      ],
      "text/plain": [
       "14*R*(-R + x*cos(a) + y*sin(a))"
      ]
     },
     "metadata": {},
     "output_type": "display_data"
    },
    {
     "data": {
      "text/plain": [
       "(Eq(x, 14*R*t*cos(a) + R*cos(a)), Eq(y, 14*R*t*sin(a) + R*sin(a)), Eq(z, R))"
      ]
     },
     "metadata": {},
     "output_type": "display_data"
    }
   ],
   "source": [
    "a, x, y, z, R, a = symbols('a x y z R a')\n",
    "\n",
    "# Нельзя менять переменную F_12\n",
    "F_12  = 7*x**2 + 7*y**2 + 7*z**2 - 14*R*z\n",
    "\n",
    "planeM_12 = 0  # В эту переменную вместо нуля запишите уравнение касательной плоскости\n",
    "\n",
    "norm_line_12 = 0  # В эту переменную вместо нуля запишите уравнения нормали к поверхности в точке (R*cos(a), R*sin(a), R)\n",
    "\n",
    "\n",
    "x0 = R*sp.cos(a)\n",
    "y0 = R*sp.sin(a)\n",
    "z0 = R\n",
    "\n",
    "Fx = sp.diff(F_12, x)\n",
    "Fy = sp.diff(F_12, y)\n",
    "Fz = sp.diff(F_12, z)\n",
    "\n",
    "Fx0 = simplify(Fx.subs({x: x0, y: y0, z: z0}))\n",
    "Fy0 = simplify(Fy.subs({x: x0, y: y0, z: z0}))\n",
    "Fz0 = simplify(Fz.subs({x: x0, y: y0, z: z0}))\n",
    "\n",
    "planeM_12 = simplify(Fx0*(x - x0) + Fy0*(y - y0) + Fz0*(z - z0))\n",
    "\n",
    "norm_line_12 = (\n",
    "    Eq(x, x0 + Fx0*t),\n",
    "    Eq(y, y0 + Fy0*t),\n",
    "    Eq(z, z0 + Fz0*t)\n",
    ")\n",
    "\n",
    "display(planeM_12)\n",
    "display(norm_line_12)"
   ]
  },
  {
   "cell_type": "markdown",
   "metadata": {
    "id": "_9nAnYLp0Nxv"
   },
   "source": [
    "<a name=\"part_2\"></a>\n",
    "## **<font color=#02AF02>2. Раздел: градиентный спуск**"
   ]
  },
  {
   "cell_type": "markdown",
   "metadata": {
    "id": "g-gYPlobJdea"
   },
   "source": [
    "<a name=\"part_2_1\"></a>\n",
    "### <font color=#02AF02>Градиентный спуск</font>"
   ]
  },
  {
   "cell_type": "markdown",
   "metadata": {
    "id": "925PGxBh_MMD"
   },
   "source": [
    "<a name=\"task_13\"></a>\n",
    "**<font color=#FF5EDD>Задача 13**</font> (4 балла)"
   ]
  },
  {
   "cell_type": "markdown",
   "metadata": {
    "id": "baH82DRB1Zn1"
   },
   "source": [
    "На сетке $[-5, 5] \\times [-5, 5]$ найдите локальные минимумы и максимумы с помощью градиентного спуска у следующей функции:\n",
    "\n",
    "$$\n",
    "f(x, y) = \\sin(x^2 + y^2) \\cdot \\cos(x + y) + 0.05(x^2 + y^2)\n",
    "$$\n"
   ]
  },
  {
   "cell_type": "code",
   "execution_count": 22,
   "metadata": {
    "id": "SQ0RVNV82qm7"
   },
   "outputs": [],
   "source": [
    "# Сетка\n",
    "x = np.linspace(-5, 5, 300)\n",
    "y = np.linspace(-5, 5, 300)\n",
    "\n",
    "\n",
    "x_sym, y_sym = symbols('x_sym y_sym', real=True)\n",
    "\n",
    "f_sp = sp.sin(x_sym**2 + y_sym**2) * sp.cos(x_sym + y_sym) + 0.05 * (x_sym**2 + y_sym**2)\n",
    "df_dx = simplify(sp.diff(f_sp, x_sym))\n",
    "df_dy = simplify(sp.diff(f_sp, y_sym))\n",
    "\n",
    "\n",
    "grad_func = lambdify((x_sym, y_sym), sp.Matrix([df_dx, df_dy]), 'numpy')\n",
    "\n",
    "\n",
    "def descent(pt, lr=0.01, eps=1e-6, max_iter=300):\n",
    "    p = np.array(pt, dtype=float)\n",
    "    for _ in range(max_iter):\n",
    "        grad = np.array(grad_func(p[0], p[1]), dtype=float).flatten()\n",
    "        new_p = p - lr * grad\n",
    "        if np.linalg.norm(new_p - p) < eps:\n",
    "            break\n",
    "        p = new_p\n",
    "    return tuple(np.round(p, 3))\n",
    "\n",
    "def ascent(pt, lr=0.01, eps=1e-6, max_iter=300):\n",
    "    p = np.array(pt, dtype=float)\n",
    "    for _ in range(max_iter):\n",
    "        grad = np.array(grad_func(p[0], p[1]), dtype=float).flatten()\n",
    "        new_p = p + lr * grad\n",
    "        if np.linalg.norm(new_p - p) < eps:\n",
    "            break\n",
    "        p = new_p\n",
    "    return tuple(np.round(p, 3))\n",
    "\n",
    "starts = [(xi, yi) for xi in x[::10] for yi in y[::10]]\n",
    "\n",
    "minn = set()\n",
    "maxx = set()\n",
    "for pt in starts:\n",
    "    minn.add(descent(pt))\n",
    "    maxx.add(ascent(pt))\n",
    "\n",
    "max_p_13 = sorted(minn) # в эту переменную запишите максимумы (x, y)\n",
    "min_p_13 = sorted(maxx) # в эту переменную запишите минимумы (x, y)\n"
   ]
  },
  {
   "cell_type": "markdown",
   "metadata": {
    "id": "WnGTi8FIJu_j"
   },
   "source": [
    "<a name=\"part_2_6\"></a>\n",
    "### <font color=#02AF02>Применение в машинном обучении</font>"
   ]
  },
  {
   "cell_type": "markdown",
   "metadata": {
    "id": "dZZYJeF1CD-X"
   },
   "source": [
    "Ниже рассмотрим  задачи, каждая из которых демонстрирует идею градиентного спуска на упрощённых примерах, напоминающих стандартные сценарии из машинного обучения (нейронные сети, линейная регрессия, прогноз с регуляризацией)."
   ]
  },
  {
   "cell_type": "markdown",
   "metadata": {
    "id": "L4Q2BkB6JJ0s"
   },
   "source": [
    "<font color=#02AF02>***Минимизация ошибки в упрощённой нейронной сети***</font>"
   ]
  },
  {
   "cell_type": "markdown",
   "metadata": {
    "id": "uwtfjYL0J7hU"
   },
   "source": [
    "<a name=\"task_14\"></a>\n",
    "**<font color=#FF5EDD>Задача 14**</font> (2 балла)"
   ]
  },
  {
   "cell_type": "markdown",
   "metadata": {
    "id": "Lm6QOm5IBv8Q"
   },
   "source": [
    "Что такое нейронная сеть? В общем, *нейронная сеть* — это модель, состоящая из «нейронов» (элементарных блоков), организованных в слои и связанных весами. Каждый нейрон может делать линейное преобразование входа (умножение на вес + смещение), а затем применять нелинейную функцию (ReLU, сигмоида и пр.). В реальных нейронных сетях бывают десятки и сотни слоёв, и тысячи–миллионы нейронов.\n",
    "\n",
    "в этой задаче мы берём супер упрощённую версию, чтобы увидеть сам принцип: как при помощи градиентного спуска «обучаются» веса сети, минимизируя ошибку.\n",
    "\n",
    "Рассмотрим следующую простую архитектуру: допустим что у нас есть набор точек $\\{x_i, y_i\\}_{i=1}^{n}$ и мы хотим научиться предсказывать по $x_i$ переменную $y_i$.\n",
    "Рассмотрим простую архитектуру, которая является трехслойной нейросетью:\n",
    "1. На первом слое мы делаем линейное преборазования нашей переменной $x_i:$ $$z_i = w_1 \\cdot x + b_1$$\n",
    "2. Далее применяем нелинейную функцию к $z_i$, например ReLU:\n",
    "   $$\n",
    "   h_i = \\mathrm{ReLU}(z) = \\max(0,z_i).\n",
    "   $$\n",
    "   - $\\mathrm{ReLU}$ — простейшая нелинейная функция, которая равна $0$ при $z<0$ и $z$ при $z>0$.  \n",
    "3. Применяем еще один линейный слой к $h_i$, получая итоговое предсказание $y_i'$\n",
    "   $\n",
    "   y_i' = w_2 \\cdot h_i + b_2.\n",
    "   $\n",
    "\n",
    "В данном случе наша модель имеет 4 обучаемых параметра: $(w_1,b_1,w_2,b_2)$ оптимизируясь по которым мы можем предложить модель, которая наилучшим образом предсказывает $y_i$ по известному $x_i$.\n",
    "\n",
    "Допустим, мы имеем два обучающих примера $(x_1,y_1)$ и $(x_2,y_2)$. Для каждого примера рассчитываем «прогноз» $y'_i$. Допустим, мы хотим уменьшить среднеквадратичную ошибку предсказания и реального значения:\n",
    "$$\n",
    "L(w_1,b_1,w_2,b_2)\n",
    "=\n",
    "\\frac12 \\Bigl[(\\hat{y}_1 - y_1)^2 + (\\hat{y}_2 - y_2)^2\\Bigr],\n",
    "$$\n",
    "где\n",
    "$\n",
    "\\hat{y}_i = w_2 \\,\\max(0,\\;w_1\\,x_i + b_1) + b_2.\n",
    "$\n",
    "\n",
    "Вашей задачей в данном задании будет решить следующую задачу минимизации:\n",
    "$\n",
    "\\min_{w_1,b_1,w_2,b_2} \\;L(w_1, b_1, w_2, b_2).\n",
    "$\n",
    "\n",
    "$\\mathrm{ReLU}$ из\\-за нелинейности трудно аналитически решить $\\nabla L = 0\\$. Поэтоиму используем в этой задаче градиентный спуск.\n",
    "\n",
    "В данном случае вам предстоит сначала вычислить градиент по параметрам $w_2$ и $b_2$ а затем, пользуясь правилом дифференцирования композиции функций, \"пробросить\" градиент к параметрам $w_1$ и $b_1$.\n",
    "\n",
    "Необходимо реализовать градиентный спуск для нахождения минимумов этой функции. Точность остановки `eps = 1e-5` (точно такая же, как в приведенном примере этого раздела)"
   ]
  },
  {
   "cell_type": "code",
   "execution_count": 44,
   "metadata": {
    "id": "yx0twG_gpRQ2"
   },
   "outputs": [],
   "source": [
    "# на вход функции подаются:\n",
    "# обучающие данные x, y\n",
    "# verbose: выводить ли прогресс (по умолчанию False)\n",
    "# параметры обучения: скорость обучения lr, точность остановки eps, максимум итераций max_iters\n",
    "\n",
    "# эта функция возвращает словарь с результатами обучения\n",
    "\n",
    "def Solution_14(x, y, lr=0.01, eps=1e-5, max_iters=100000, verbose=False):\n",
    "\n",
    "    # Ваш код здесь\n",
    "\n",
    "    return {\n",
    "        'w1': w1,\n",
    "        'b1': b1,\n",
    "        'w2': w2,\n",
    "        'b2': b2,\n",
    "        'loss': loss,\n",
    "        'iterations': i\n",
    "    }"
   ]
  },
  {
   "cell_type": "markdown",
   "metadata": {
    "id": "-r-vdRPBJB9n"
   },
   "source": [
    "<font color=#02AF02>***Линейная регрессия с тремя точками***</font>"
   ]
  },
  {
   "cell_type": "markdown",
   "metadata": {
    "id": "_0cpu9WmKAKA"
   },
   "source": [
    "<a name=\"task_15\"></a>\n",
    "**<font color=#FF5EDD>Задача 15**</font> (2 балла)"
   ]
  },
  {
   "cell_type": "markdown",
   "metadata": {
    "id": "rzlKz4oqBwxS"
   },
   "source": [
    "Что такое линейная регрессия? Линейная регрессия — классическая статистическая/ML-модель, где мы приближаем связь $x\\mapsto y$ линейной зависимостью: $y\\approx a\\,x + b$. Обычно параметры $(a,b)$ ищем, минимизируя среднеквадратичную ошибку: $\\frac{1}{n}\\sum_{i=1}^{n}(a\\,x_i + b - y_i)^2$.\n",
    "\n",
    "Пусть у нас имеются три точки на двумерной плоскости: $(x_1,y_1)$, $(x_2,y_2)$, $(x_3,y_3)$, которые мы хотим приблизить линейной моделью:\n",
    "$\n",
    "y = a\\,x + b.\n",
    "$\n",
    "\n",
    "Тогда функция потерь (среднеквадратичная ошибка, MSE) — для 3 точек выглядит следующим образом:\n",
    "$$\n",
    "L(a,b)\n",
    "=\n",
    "\\frac{1}{3}\\Bigl[(a\\,x_1+b - y_1)^2 + (a\\,x_2+b - y_2)^2 + (a\\,x_3+b - y_3)^2\\Bigr].\n",
    "$$\n",
    "\n",
    "Вашей задачей будет решить следующую задачу оптимизации с помощью метода градиентного спуска:\n",
    "$$\n",
    "\\min_{a,b} \\; L(a,b).\n",
    "$$\n",
    "\n",
    "В данном случае задачу можно решить и аналитически, точно записав решение хадачи минимизации на матричном языке, но нам интересны градиентные методы.\n",
    "\n",
    "Линейная регрессия — классическая модель прогнозов/оценок в статистике и ML. В больших задачах (много переменных, много строк данных) градиентный спуск (особенно стохастический градиентный спуск (SGD)) — стандартная процедура обучения.\n",
    "Здесь же 2 параметра (a,b) и 3 точки; но алгоритм точно такой же.\n",
    "\n",
    "Необходимо реализовать градиентный спуск для нахождения минимумов этой функции. Точность остановки `eps = 1e-5` (точно такая же, как в приведенном примере этого раздела)"
   ]
  },
  {
   "cell_type": "code",
   "execution_count": 45,
   "metadata": {
    "id": "Lqci0JH0qURP"
   },
   "outputs": [],
   "source": [
    "# на вход функции подаются:\n",
    "# x массив значений признака\n",
    "# y массив целевых значений\n",
    "# verbose: выводить ли прогресс (по умолчанию False)\n",
    "# параметры обучения: скорость обучения lr, точность остановки eps, максимум итераций max_iters\n",
    "\n",
    "# эта функция возвращает словарь с результатами обучения\n",
    "\n",
    "def Solution_15(x, y, lr=0.01, eps=1e-5, max_iters=100000, verbose=False):\n",
    "\n",
    "    # Ваш код здесь\n",
    "\n",
    "    return {\n",
    "        'a': a,\n",
    "        'b': b,\n",
    "        'loss': loss,\n",
    "        'iterations': i\n",
    "    }"
   ]
  },
  {
   "cell_type": "markdown",
   "metadata": {
    "id": "YCbRSquTIa_E"
   },
   "source": [
    "<font color=#02AF02>***Упрощённый прогноз + регуляризация***</font>"
   ]
  },
  {
   "cell_type": "markdown",
   "metadata": {
    "id": "edM53fZkKEfx"
   },
   "source": [
    "<a name=\"task_16\"></a>\n",
    "**<font color=#FF5EDD>Задача 16**</font> (2 балла)"
   ]
  },
  {
   "cell_type": "markdown",
   "metadata": {
    "id": "47ANWMUdBqz6"
   },
   "source": [
    "Допустим, мы хотим прогнозировать некую величину $z$ по двум признакам $u$ и $v$, то есть наша модель имеет виде $\\hat{z} = \\alpha\\,u + \\beta\\,v$. Допустим, мы хотим избежать слишком больших значений $\\alpha,\\beta$. Для этого в задаче добавляют L2-регуляризацию:\n",
    "$$\n",
    "L(\\alpha,\\beta)\n",
    "=\n",
    "\\frac12\\,\\bigl(\\hat{z} - z\\bigr)^2\n",
    "\\;+\\;\n",
    "\\lambda\\,(\\alpha^2 + \\beta^2).\n",
    "$$\n",
    "где: $\\lambda>0$ — коэффициент регуляризации.\n",
    "\n",
    "Данный функционал при минимизации гарантирует нам то, что магнитуды параметров $\\alpha, \\beta$ будут небольшими. С помощью изменения параметра $\\lambda$ мы можем усиливать штраф за величиину весов, или ослаблять штраф за магнитуду обучаемых параметров.\n",
    "\n",
    "В данном случае мы, как и ранее, решаем задачу минимизации функции потерь:\n",
    "$$\\min_{\\alpha,\\beta} L(\\alpha,\\beta).$$\n",
    "\n",
    "Необходимо реализовать градиентный спуск для нахождения минимумов этой функции. Точность остановки `eps = 1e-5` (точно такая же, как в приведенном примере этого раздела)"
   ]
  },
  {
   "cell_type": "code",
   "execution_count": 46,
   "metadata": {
    "id": "fmXpyhCkrB3I"
   },
   "outputs": [],
   "source": [
    "# на вход функции подаются:\n",
    "# u массив значений первого признака\n",
    "# v массив значений второго признака\n",
    "# z массив целевых значений\n",
    "# lambda_reg коэффициент регуляризации\n",
    "# verbose: выводить ли прогресс (по умолчанию False)\n",
    "# параметры обучения: скорость обучения lr, точность остановки eps, максимум итераций max_iters\n",
    "\n",
    "# эта функция возвращает словарь с результатами обучения\n",
    "\n",
    "def Solution_16(u, v, z, lambda_reg=0.1, lr=0.01, eps=1e-5, max_iters=100000, verbose=False):\n",
    "\n",
    "    # Ваш код здесь\n",
    "\n",
    "    return {\n",
    "        'alpha': alpha,\n",
    "        'beta': beta,\n",
    "        'loss': loss,\n",
    "        'iterations': i\n",
    "    }"
   ]
  }
 ],
 "metadata": {
  "colab": {
   "collapsed_sections": [
    "P8Gfn2BPR49-",
    "L8qhvyM64eIX",
    "iWdft33zp1x-",
    "Y0q4QvySr_Mg",
    "Y6BnYf4qthVP",
    "DKR9JWXclvY5"
   ],
   "provenance": []
  },
  "kernelspec": {
   "display_name": "Python 3",
   "language": "python",
   "name": "python3"
  },
  "language_info": {
   "codemirror_mode": {
    "name": "ipython",
    "version": 3
   },
   "file_extension": ".py",
   "mimetype": "text/x-python",
   "name": "python",
   "nbconvert_exporter": "python",
   "pygments_lexer": "ipython3",
   "version": "3.9.13"
  }
 },
 "nbformat": 4,
 "nbformat_minor": 4
}
